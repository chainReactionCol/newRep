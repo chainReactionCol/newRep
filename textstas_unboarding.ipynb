{
 "cells": [
  {
   "cell_type": "code",
   "execution_count": 2,
   "id": "97a24330-cd23-483f-90a5-4e262a2e7f2e",
   "metadata": {},
   "outputs": [],
   "source": [
    "import pandas as pd\n",
    "import numpy as np\n",
    "import matplotlib.pyplot as plt\n",
    "import ipywidgets as wd\n",
    "from ipywidgets import interact\n",
    "import seaborn as sns\n",
    "#import ptitprince as pt\n",
    "import re #I import this library 'cause I need to deal with regular expressions\n",
    "from sklearn.decomposition import PCA\n",
    "from mlxtend.plotting import plot_decision_regions\n",
    "import warnings\n",
    "warnings.filterwarnings(\"ignore\")\n",
    "from sklearn.cluster import KMeans\n",
    "from sklearn.neighbors import KNeighborsClassifier\n",
    "from sklearn.tree import DecisionTreeClassifier\n",
    "from sklearn.tree import plot_tree\n",
    "from sklearn import tree\n",
    "#from yellowbrick.cluster import KElbowVisualizer\n",
    "from sklearn import metrics\n",
    "sns.set_style('whitegrid')\n",
    "from sklearn.metrics import confusion_matrix\n",
    "from sklearn.model_selection import train_test_split\n",
    "from sklearn import datasets\n",
    "from sklearn.linear_model import LinearRegression\n",
    "from category_encoders import TargetEncoder\n",
    "from sklearn.preprocessing import PolynomialFeatures\n",
    "import textstat"
   ]
  },
  {
   "cell_type": "code",
   "execution_count": 4,
   "id": "d345fae6-5b0a-402e-8b39-01b735dafdf9",
   "metadata": {},
   "outputs": [],
   "source": [
    "#Setting the language to spanish\n",
    "textstat.set_lang(\"es\")"
   ]
  },
  {
   "cell_type": "code",
   "execution_count": 5,
   "id": "7ecf78ac-cd8b-4357-b5d8-79eab5a201f5",
   "metadata": {},
   "outputs": [],
   "source": [
    "texto = \"\"\"\n",
    "El sol brilla y los pájaros cantan. Es un hermoso día para salir a caminar.\n",
    "Las personas disfrutan de la naturaleza y de la tranquilidad del parque. \n",
    "Es un día perfecto para relajarse y olvidarse de las preocupaciones.\n",
    "\"\"\"\n"
   ]
  },
  {
   "cell_type": "code",
   "execution_count": 6,
   "id": "a67e8549-6277-414f-988f-3aba1c0ece7e",
   "metadata": {},
   "outputs": [
    {
     "name": "stdout",
     "output_type": "stream",
     "text": [
      "Flesch Reading Ease: 83.45\n",
      "Flesch-Kincaid Grade Level: 10.5\n",
      "Gunning FOG Index: 4.85\n",
      "SMOG Index: 12.6\n",
      "Automated Readability Index: 5.6\n",
      "Coleman-Liau Index: 7.8\n",
      "Linsear Write Formula: 6.5\n",
      "Dale-Chall Readability Score: 0.89\n"
     ]
    }
   ],
   "source": [
    "# Flesch Reading Ease Score\n",
    "flesch_reading_ease = textstat.flesch_reading_ease(texto)\n",
    "print(f\"Flesch Reading Ease: {flesch_reading_ease}\")\n",
    "\n",
    "# Flesch-Kincaid Grade Level\n",
    "flesch_kincaid_grade = textstat.flesch_kincaid_grade(texto)\n",
    "print(f\"Flesch-Kincaid Grade Level: {flesch_kincaid_grade}\")\n",
    "\n",
    "# Gunning FOG Index\n",
    "gunning_fog = textstat.gunning_fog(texto)\n",
    "print(f\"Gunning FOG Index: {gunning_fog}\")\n",
    "\n",
    "# SMOG Index\n",
    "smog_index = textstat.smog_index(texto)\n",
    "print(f\"SMOG Index: {smog_index}\")\n",
    "\n",
    "# Automated Readability Index\n",
    "automated_readability_index = textstat.automated_readability_index(texto)\n",
    "print(f\"Automated Readability Index: {automated_readability_index}\")\n",
    "\n",
    "# Coleman-Liau Index\n",
    "coleman_liau_index = textstat.coleman_liau_index(texto)\n",
    "print(f\"Coleman-Liau Index: {coleman_liau_index}\")\n",
    "\n",
    "# Linsear Write Formula\n",
    "linsear_write_formula = textstat.linsear_write_formula(texto)\n",
    "print(f\"Linsear Write Formula: {linsear_write_formula}\")\n",
    "\n",
    "# Dale-Chall Readability Score\n",
    "dale_chall_score = textstat.dale_chall_readability_score(texto)\n",
    "print(f\"Dale-Chall Readability Score: {dale_chall_score}\")\n"
   ]
  },
  {
   "cell_type": "code",
   "execution_count": null,
   "id": "b6e7d76e-7f91-4433-b0b5-305187f90dd7",
   "metadata": {},
   "outputs": [],
   "source": []
  }
 ],
 "metadata": {
  "kernelspec": {
   "display_name": "Python 3 (ipykernel)",
   "language": "python",
   "name": "python3"
  },
  "language_info": {
   "codemirror_mode": {
    "name": "ipython",
    "version": 3
   },
   "file_extension": ".py",
   "mimetype": "text/x-python",
   "name": "python",
   "nbconvert_exporter": "python",
   "pygments_lexer": "ipython3",
   "version": "3.12.1"
  }
 },
 "nbformat": 4,
 "nbformat_minor": 5
}
