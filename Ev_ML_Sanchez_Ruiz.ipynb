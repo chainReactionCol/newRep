{
 "cells": [
  {
   "cell_type": "code",
   "execution_count": 1,
   "id": "574c8093-08ed-45f3-9d97-0cc4ec60f6aa",
   "metadata": {
    "tags": []
   },
   "outputs": [],
   "source": [
    "import pandas as pd\n",
    "import numpy as np\n",
    "import matplotlib.pyplot as plt\n",
    "import ipywidgets as wd\n",
    "from ipywidgets import interact\n",
    "import seaborn as sns\n",
    "import ptitprince as pt\n",
    "import re #I import this library 'cause I need to deal with regular expressions\n",
    "from sklearn.decomposition import PCA\n",
    "from mlxtend.plotting import plot_decision_regions\n",
    "import warnings\n",
    "warnings.filterwarnings(\"ignore\")\n",
    "from sklearn.cluster import KMeans\n",
    "from sklearn.neighbors import KNeighborsClassifier\n",
    "from sklearn.tree import DecisionTreeClassifier\n",
    "from sklearn.tree import plot_tree\n",
    "from sklearn import tree\n",
    "from yellowbrick.cluster import KElbowVisualizer\n",
    "from sklearn import metrics\n",
    "sns.set_style('whitegrid')\n",
    "from sklearn.metrics import confusion_matrix\n",
    "from sklearn.model_selection import train_test_split\n",
    "from sklearn import datasets\n",
    "from sklearn.linear_model import LinearRegression\n",
    "from category_encoders import TargetEncoder\n",
    "from sklearn.preprocessing import PolynomialFeatures\n",
    "from sklearn.preprocessing import PowerTransformer # para usar Yeo-Johnson\n",
    "from scipy.stats import skew\n",
    "from sklearn.metrics import r2_score\n",
    "from sklearn.feature_selection import mutual_info_regression\n",
    "from sklearn.tree import DecisionTreeRegressor\n",
    "from scipy.stats import randint\n",
    "from sklearn.model_selection import RandomizedSearchCV"
   ]
  },
  {
   "cell_type": "code",
   "execution_count": 2,
   "id": "04c86bed-0e05-45c8-a900-b5a065be6b42",
   "metadata": {
    "tags": []
   },
   "outputs": [],
   "source": [
    "Api_file=\"Merged_Api.csv\"\n",
    "Api_df=pd.read_csv(Api_file)"
   ]
  },
  {
   "cell_type": "code",
   "execution_count": 5,
   "id": "931bcd50-be19-4c3d-bbe5-a52a7c2d0a97",
   "metadata": {
    "tags": []
   },
   "outputs": [],
   "source": [
    "Api_df['has_transitions']=Api_df['has_transitions'].astype('int')"
   ]
  },
  {
   "cell_type": "code",
   "execution_count": 6,
   "id": "ce5329dc-1f62-44e6-8646-83ee3979ebd1",
   "metadata": {
    "tags": []
   },
   "outputs": [
    {
     "data": {
      "text/html": [
       "<div>\n",
       "<style scoped>\n",
       "    .dataframe tbody tr th:only-of-type {\n",
       "        vertical-align: middle;\n",
       "    }\n",
       "\n",
       "    .dataframe tbody tr th {\n",
       "        vertical-align: top;\n",
       "    }\n",
       "\n",
       "    .dataframe thead th {\n",
       "        text-align: right;\n",
       "    }\n",
       "</style>\n",
       "<table border=\"1\" class=\"dataframe\">\n",
       "  <thead>\n",
       "    <tr style=\"text-align: right;\">\n",
       "      <th></th>\n",
       "      <th>id_band</th>\n",
       "      <th>score</th>\n",
       "      <th>name</th>\n",
       "      <th>has_transitions</th>\n",
       "      <th>albumCount</th>\n",
       "      <th>review_count</th>\n",
       "    </tr>\n",
       "  </thead>\n",
       "  <tbody>\n",
       "    <tr>\n",
       "      <th>0</th>\n",
       "      <td>11143</td>\n",
       "      <td>0.500000</td>\n",
       "      <td>Cuntscrape</td>\n",
       "      <td>1</td>\n",
       "      <td>1.0</td>\n",
       "      <td>1</td>\n",
       "    </tr>\n",
       "    <tr>\n",
       "      <th>1</th>\n",
       "      <td>14768</td>\n",
       "      <td>0.770000</td>\n",
       "      <td>Psychiatric Regurgitation</td>\n",
       "      <td>1</td>\n",
       "      <td>1.0</td>\n",
       "      <td>1</td>\n",
       "    </tr>\n",
       "    <tr>\n",
       "      <th>2</th>\n",
       "      <td>16693</td>\n",
       "      <td>0.860000</td>\n",
       "      <td>Four Question Marks</td>\n",
       "      <td>1</td>\n",
       "      <td>2.0</td>\n",
       "      <td>1</td>\n",
       "    </tr>\n",
       "    <tr>\n",
       "      <th>3</th>\n",
       "      <td>16950</td>\n",
       "      <td>0.783333</td>\n",
       "      <td>Acranius</td>\n",
       "      <td>1</td>\n",
       "      <td>1.0</td>\n",
       "      <td>1</td>\n",
       "    </tr>\n",
       "    <tr>\n",
       "      <th>4</th>\n",
       "      <td>20572</td>\n",
       "      <td>0.550000</td>\n",
       "      <td>Emergency Gate</td>\n",
       "      <td>1</td>\n",
       "      <td>3.0</td>\n",
       "      <td>1</td>\n",
       "    </tr>\n",
       "    <tr>\n",
       "      <th>...</th>\n",
       "      <td>...</td>\n",
       "      <td>...</td>\n",
       "      <td>...</td>\n",
       "      <td>...</td>\n",
       "      <td>...</td>\n",
       "      <td>...</td>\n",
       "    </tr>\n",
       "    <tr>\n",
       "      <th>8090</th>\n",
       "      <td>60990</td>\n",
       "      <td>0.700000</td>\n",
       "      <td>Tidfall</td>\n",
       "      <td>0</td>\n",
       "      <td>1.0</td>\n",
       "      <td>4</td>\n",
       "    </tr>\n",
       "    <tr>\n",
       "      <th>8091</th>\n",
       "      <td>63005</td>\n",
       "      <td>0.700000</td>\n",
       "      <td>Emperor</td>\n",
       "      <td>0</td>\n",
       "      <td>1.0</td>\n",
       "      <td>4</td>\n",
       "    </tr>\n",
       "    <tr>\n",
       "      <th>8092</th>\n",
       "      <td>49377</td>\n",
       "      <td>0.680000</td>\n",
       "      <td>VARIOUS ARTISTS</td>\n",
       "      <td>0</td>\n",
       "      <td>1.0</td>\n",
       "      <td>6</td>\n",
       "    </tr>\n",
       "    <tr>\n",
       "      <th>8093</th>\n",
       "      <td>43600</td>\n",
       "      <td>0.680000</td>\n",
       "      <td>Valensia</td>\n",
       "      <td>0</td>\n",
       "      <td>1.0</td>\n",
       "      <td>6</td>\n",
       "    </tr>\n",
       "    <tr>\n",
       "      <th>8094</th>\n",
       "      <td>49744</td>\n",
       "      <td>0.660000</td>\n",
       "      <td>Spitfire</td>\n",
       "      <td>0</td>\n",
       "      <td>1.0</td>\n",
       "      <td>11</td>\n",
       "    </tr>\n",
       "  </tbody>\n",
       "</table>\n",
       "<p>8095 rows × 6 columns</p>\n",
       "</div>"
      ],
      "text/plain": [
       "      id_band     score                       name  has_transitions  \\\n",
       "0       11143  0.500000                 Cuntscrape                1   \n",
       "1       14768  0.770000  Psychiatric Regurgitation                1   \n",
       "2       16693  0.860000        Four Question Marks                1   \n",
       "3       16950  0.783333                   Acranius                1   \n",
       "4       20572  0.550000             Emergency Gate                1   \n",
       "...       ...       ...                        ...              ...   \n",
       "8090    60990  0.700000                    Tidfall                0   \n",
       "8091    63005  0.700000                    Emperor                0   \n",
       "8092    49377  0.680000            VARIOUS ARTISTS                0   \n",
       "8093    43600  0.680000                   Valensia                0   \n",
       "8094    49744  0.660000                   Spitfire                0   \n",
       "\n",
       "      albumCount  review_count  \n",
       "0            1.0             1  \n",
       "1            1.0             1  \n",
       "2            2.0             1  \n",
       "3            1.0             1  \n",
       "4            3.0             1  \n",
       "...          ...           ...  \n",
       "8090         1.0             4  \n",
       "8091         1.0             4  \n",
       "8092         1.0             6  \n",
       "8093         1.0             6  \n",
       "8094         1.0            11  \n",
       "\n",
       "[8095 rows x 6 columns]"
      ]
     },
     "execution_count": 6,
     "metadata": {},
     "output_type": "execute_result"
    }
   ],
   "source": [
    "Api_df"
   ]
  },
  {
   "cell_type": "code",
   "execution_count": 7,
   "id": "a27b3355-ab2c-461b-8b2f-06210c32050b",
   "metadata": {
    "tags": []
   },
   "outputs": [],
   "source": [
    "Spotify_file='Spotify_extracted.csv'\n",
    "Spotify_df=pd.read_csv(Spotify_file)"
   ]
  },
  {
   "cell_type": "code",
   "execution_count": 8,
   "id": "048ba7c5-c2fe-497d-89fb-133e334002e7",
   "metadata": {
    "tags": []
   },
   "outputs": [
    {
     "data": {
      "text/plain": [
       "Index(['Name', 'Genres', 'Popularity', 'Followers', 'Artist_URI'], dtype='object')"
      ]
     },
     "execution_count": 8,
     "metadata": {},
     "output_type": "execute_result"
    }
   ],
   "source": [
    "Spotify_df.columns"
   ]
  },
  {
   "cell_type": "code",
   "execution_count": 9,
   "id": "84b106dc-0dce-4482-ad17-ac4f10e55961",
   "metadata": {
    "tags": []
   },
   "outputs": [
    {
     "name": "stdout",
     "output_type": "stream",
     "text": [
      "<class 'pandas.core.frame.DataFrame'>\n",
      "RangeIndex: 1000 entries, 0 to 999\n",
      "Data columns (total 5 columns):\n",
      " #   Column      Non-Null Count  Dtype \n",
      "---  ------      --------------  ----- \n",
      " 0   Name        1000 non-null   object\n",
      " 1   Genres      1000 non-null   object\n",
      " 2   Popularity  1000 non-null   int64 \n",
      " 3   Followers   1000 non-null   int64 \n",
      " 4   Artist_URI  1000 non-null   object\n",
      "dtypes: int64(2), object(3)\n",
      "memory usage: 39.2+ KB\n"
     ]
    }
   ],
   "source": [
    "Spotify_df.info()"
   ]
  },
  {
   "cell_type": "code",
   "execution_count": 10,
   "id": "2efbe816-9bbc-42d4-8219-b6a886d5f39d",
   "metadata": {
    "tags": []
   },
   "outputs": [
    {
     "data": {
      "text/plain": [
       "count    8095.000000\n",
       "mean        0.842687\n",
       "std         0.148607\n",
       "min         0.000000\n",
       "25%         0.780000\n",
       "50%         0.880000\n",
       "75%         0.950000\n",
       "max         1.000000\n",
       "Name: score, dtype: float64"
      ]
     },
     "execution_count": 10,
     "metadata": {},
     "output_type": "execute_result"
    }
   ],
   "source": [
    "Api_df['score'].describe()"
   ]
  },
  {
   "cell_type": "code",
   "execution_count": 11,
   "id": "67ef87ea-18dc-4a7d-9f40-a25ed702dd79",
   "metadata": {
    "tags": []
   },
   "outputs": [
    {
     "name": "stdout",
     "output_type": "stream",
     "text": [
      "Mean: 0.845659410274414\n",
      "Std deviation: 0.10596469095068783\n",
      "Min: 0.5409340597365203\n",
      "Max: 1.0\n"
     ]
    }
   ],
   "source": [
    "mu, sigma = np.log(0.842687), 0.148607\n",
    "\n",
    "# Generar datos aleatorios con la distribución log-normal\n",
    "data = np.random.lognormal(mean=mu, sigma=sigma, size=1000)\n",
    "\n",
    "# Asegurarse de que los datos estén en el rango deseado [0, 1]\n",
    "data_clipped = np.clip(data, 0, 1)\n",
    "\n",
    "# Imprimir estadísticas básicas de los datos generados\n",
    "print('Mean:', np.mean(data_clipped))\n",
    "print('Std deviation:', np.std(data_clipped))\n",
    "print('Min:', np.min(data_clipped))\n",
    "print('Max:', np.max(data_clipped))"
   ]
  },
  {
   "cell_type": "code",
   "execution_count": null,
   "id": "3ab991d1-a576-4d53-8f05-fd2c053d8a91",
   "metadata": {},
   "outputs": [],
   "source": []
  }
 ],
 "metadata": {
  "kernelspec": {
   "display_name": "Python 3 (ipykernel)",
   "language": "python",
   "name": "python3"
  },
  "language_info": {
   "codemirror_mode": {
    "name": "ipython",
    "version": 3
   },
   "file_extension": ".py",
   "mimetype": "text/x-python",
   "name": "python",
   "nbconvert_exporter": "python",
   "pygments_lexer": "ipython3",
   "version": "3.10.7"
  }
 },
 "nbformat": 4,
 "nbformat_minor": 5
}
