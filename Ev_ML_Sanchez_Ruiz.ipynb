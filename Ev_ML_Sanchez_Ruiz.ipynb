{
 "cells": [
  {
   "cell_type": "code",
   "execution_count": 1,
   "id": "574c8093-08ed-45f3-9d97-0cc4ec60f6aa",
   "metadata": {
    "tags": []
   },
   "outputs": [],
   "source": [
    "import pandas as pd\n",
    "import numpy as np\n",
    "import matplotlib.pyplot as plt\n",
    "import ipywidgets as wd\n",
    "from ipywidgets import interact\n",
    "import seaborn as sns\n",
    "import ptitprince as pt\n",
    "import re #I import this library 'cause I need to deal with regular expressions\n",
    "from sklearn.decomposition import PCA\n",
    "from mlxtend.plotting import plot_decision_regions\n",
    "import warnings\n",
    "warnings.filterwarnings(\"ignore\")\n",
    "from sklearn.cluster import KMeans\n",
    "from sklearn.neighbors import KNeighborsClassifier\n",
    "from sklearn.tree import DecisionTreeClassifier\n",
    "from sklearn.tree import plot_tree\n",
    "from sklearn import tree\n",
    "from yellowbrick.cluster import KElbowVisualizer\n",
    "from sklearn import metrics\n",
    "sns.set_style('whitegrid')\n",
    "from sklearn.metrics import confusion_matrix\n",
    "from sklearn.model_selection import train_test_split\n",
    "from sklearn import datasets\n",
    "from sklearn.linear_model import LinearRegression\n",
    "from category_encoders import TargetEncoder\n",
    "from sklearn.preprocessing import PolynomialFeatures\n",
    "from sklearn.preprocessing import PowerTransformer # para usar Yeo-Johnson\n",
    "from scipy.stats import skew\n",
    "from sklearn.metrics import r2_score\n",
    "from sklearn.feature_selection import mutual_info_regression\n",
    "from sklearn.tree import DecisionTreeRegressor\n",
    "from scipy.stats import randint\n",
    "from sklearn.model_selection import RandomizedSearchCV"
   ]
  },
  {
   "cell_type": "code",
   "execution_count": 2,
   "id": "04c86bed-0e05-45c8-a900-b5a065be6b42",
   "metadata": {
    "tags": []
   },
   "outputs": [],
   "source": [
    "Api_file=\"Merged_Api.csv\"\n",
    "Api_df=pd.read_csv(Api_file)"
   ]
  },
  {
   "cell_type": "code",
   "execution_count": 3,
   "id": "931bcd50-be19-4c3d-bbe5-a52a7c2d0a97",
   "metadata": {
    "tags": []
   },
   "outputs": [],
   "source": [
    "Api_df['has_transitions']=Api_df['has_transitions'].astype('int')"
   ]
  },
  {
   "cell_type": "code",
   "execution_count": 4,
   "id": "ce5329dc-1f62-44e6-8646-83ee3979ebd1",
   "metadata": {
    "tags": []
   },
   "outputs": [
    {
     "data": {
      "text/html": [
       "<div>\n",
       "<style scoped>\n",
       "    .dataframe tbody tr th:only-of-type {\n",
       "        vertical-align: middle;\n",
       "    }\n",
       "\n",
       "    .dataframe tbody tr th {\n",
       "        vertical-align: top;\n",
       "    }\n",
       "\n",
       "    .dataframe thead th {\n",
       "        text-align: right;\n",
       "    }\n",
       "</style>\n",
       "<table border=\"1\" class=\"dataframe\">\n",
       "  <thead>\n",
       "    <tr style=\"text-align: right;\">\n",
       "      <th></th>\n",
       "      <th>id_band</th>\n",
       "      <th>score</th>\n",
       "      <th>name</th>\n",
       "      <th>has_transitions</th>\n",
       "      <th>albumCount</th>\n",
       "      <th>review_count</th>\n",
       "    </tr>\n",
       "  </thead>\n",
       "  <tbody>\n",
       "    <tr>\n",
       "      <th>0</th>\n",
       "      <td>11143</td>\n",
       "      <td>0.500000</td>\n",
       "      <td>Cuntscrape</td>\n",
       "      <td>1</td>\n",
       "      <td>1.0</td>\n",
       "      <td>1</td>\n",
       "    </tr>\n",
       "    <tr>\n",
       "      <th>1</th>\n",
       "      <td>14768</td>\n",
       "      <td>0.770000</td>\n",
       "      <td>Psychiatric Regurgitation</td>\n",
       "      <td>1</td>\n",
       "      <td>1.0</td>\n",
       "      <td>1</td>\n",
       "    </tr>\n",
       "    <tr>\n",
       "      <th>2</th>\n",
       "      <td>16693</td>\n",
       "      <td>0.860000</td>\n",
       "      <td>Four Question Marks</td>\n",
       "      <td>1</td>\n",
       "      <td>2.0</td>\n",
       "      <td>1</td>\n",
       "    </tr>\n",
       "    <tr>\n",
       "      <th>3</th>\n",
       "      <td>16950</td>\n",
       "      <td>0.783333</td>\n",
       "      <td>Acranius</td>\n",
       "      <td>1</td>\n",
       "      <td>1.0</td>\n",
       "      <td>1</td>\n",
       "    </tr>\n",
       "    <tr>\n",
       "      <th>4</th>\n",
       "      <td>20572</td>\n",
       "      <td>0.550000</td>\n",
       "      <td>Emergency Gate</td>\n",
       "      <td>1</td>\n",
       "      <td>3.0</td>\n",
       "      <td>1</td>\n",
       "    </tr>\n",
       "    <tr>\n",
       "      <th>...</th>\n",
       "      <td>...</td>\n",
       "      <td>...</td>\n",
       "      <td>...</td>\n",
       "      <td>...</td>\n",
       "      <td>...</td>\n",
       "      <td>...</td>\n",
       "    </tr>\n",
       "    <tr>\n",
       "      <th>8090</th>\n",
       "      <td>60990</td>\n",
       "      <td>0.700000</td>\n",
       "      <td>Tidfall</td>\n",
       "      <td>0</td>\n",
       "      <td>1.0</td>\n",
       "      <td>4</td>\n",
       "    </tr>\n",
       "    <tr>\n",
       "      <th>8091</th>\n",
       "      <td>63005</td>\n",
       "      <td>0.700000</td>\n",
       "      <td>Emperor</td>\n",
       "      <td>0</td>\n",
       "      <td>1.0</td>\n",
       "      <td>4</td>\n",
       "    </tr>\n",
       "    <tr>\n",
       "      <th>8092</th>\n",
       "      <td>49377</td>\n",
       "      <td>0.680000</td>\n",
       "      <td>VARIOUS ARTISTS</td>\n",
       "      <td>0</td>\n",
       "      <td>1.0</td>\n",
       "      <td>6</td>\n",
       "    </tr>\n",
       "    <tr>\n",
       "      <th>8093</th>\n",
       "      <td>43600</td>\n",
       "      <td>0.680000</td>\n",
       "      <td>Valensia</td>\n",
       "      <td>0</td>\n",
       "      <td>1.0</td>\n",
       "      <td>6</td>\n",
       "    </tr>\n",
       "    <tr>\n",
       "      <th>8094</th>\n",
       "      <td>49744</td>\n",
       "      <td>0.660000</td>\n",
       "      <td>Spitfire</td>\n",
       "      <td>0</td>\n",
       "      <td>1.0</td>\n",
       "      <td>11</td>\n",
       "    </tr>\n",
       "  </tbody>\n",
       "</table>\n",
       "<p>8095 rows × 6 columns</p>\n",
       "</div>"
      ],
      "text/plain": [
       "      id_band     score                       name  has_transitions  \\\n",
       "0       11143  0.500000                 Cuntscrape                1   \n",
       "1       14768  0.770000  Psychiatric Regurgitation                1   \n",
       "2       16693  0.860000        Four Question Marks                1   \n",
       "3       16950  0.783333                   Acranius                1   \n",
       "4       20572  0.550000             Emergency Gate                1   \n",
       "...       ...       ...                        ...              ...   \n",
       "8090    60990  0.700000                    Tidfall                0   \n",
       "8091    63005  0.700000                    Emperor                0   \n",
       "8092    49377  0.680000            VARIOUS ARTISTS                0   \n",
       "8093    43600  0.680000                   Valensia                0   \n",
       "8094    49744  0.660000                   Spitfire                0   \n",
       "\n",
       "      albumCount  review_count  \n",
       "0            1.0             1  \n",
       "1            1.0             1  \n",
       "2            2.0             1  \n",
       "3            1.0             1  \n",
       "4            3.0             1  \n",
       "...          ...           ...  \n",
       "8090         1.0             4  \n",
       "8091         1.0             4  \n",
       "8092         1.0             6  \n",
       "8093         1.0             6  \n",
       "8094         1.0            11  \n",
       "\n",
       "[8095 rows x 6 columns]"
      ]
     },
     "execution_count": 4,
     "metadata": {},
     "output_type": "execute_result"
    }
   ],
   "source": [
    "Api_df"
   ]
  },
  {
   "cell_type": "code",
   "execution_count": 5,
   "id": "a27b3355-ab2c-461b-8b2f-06210c32050b",
   "metadata": {
    "tags": []
   },
   "outputs": [],
   "source": [
    "Spotify_file='Spotify_extracted.csv'\n",
    "Spotify_df=pd.read_csv(Spotify_file)"
   ]
  },
  {
   "cell_type": "code",
   "execution_count": 6,
   "id": "048ba7c5-c2fe-497d-89fb-133e334002e7",
   "metadata": {
    "tags": []
   },
   "outputs": [
    {
     "data": {
      "text/plain": [
       "Index(['Name', 'Genres', 'Popularity', 'Followers', 'Artist_URI'], dtype='object')"
      ]
     },
     "execution_count": 6,
     "metadata": {},
     "output_type": "execute_result"
    }
   ],
   "source": [
    "Spotify_df.columns"
   ]
  },
  {
   "cell_type": "code",
   "execution_count": 7,
   "id": "84b106dc-0dce-4482-ad17-ac4f10e55961",
   "metadata": {
    "tags": []
   },
   "outputs": [
    {
     "name": "stdout",
     "output_type": "stream",
     "text": [
      "<class 'pandas.core.frame.DataFrame'>\n",
      "RangeIndex: 1000 entries, 0 to 999\n",
      "Data columns (total 5 columns):\n",
      " #   Column      Non-Null Count  Dtype \n",
      "---  ------      --------------  ----- \n",
      " 0   Name        1000 non-null   object\n",
      " 1   Genres      1000 non-null   object\n",
      " 2   Popularity  1000 non-null   int64 \n",
      " 3   Followers   1000 non-null   int64 \n",
      " 4   Artist_URI  1000 non-null   object\n",
      "dtypes: int64(2), object(3)\n",
      "memory usage: 39.2+ KB\n"
     ]
    }
   ],
   "source": [
    "Spotify_df.info()"
   ]
  },
  {
   "cell_type": "markdown",
   "id": "9ac3e642-56ad-466b-a842-dd75ffd3223c",
   "metadata": {},
   "source": [
    "## Imputación de los datos de score para los registros que provienen de la API de Spotify\n",
    "\n",
    "Para realizar esta imputación de datos se busca extraer los valores de score de una distribución que respete el sesgo a la izquierda de los datos de Score originales y para esto se contemplaron dos caminos: el primero, consiste en utilizar una distribución log-normal e intentar reflejarla. Esto se plantea debido a que determinar los parámetros de esta distribución es relativamente sencillo, no obstante se desiste de este camino debido a que esta distrubución naturalmente tiene sesgo a la derecha. No obstante se deja el proceso reflejado en el notebook: "
   ]
  },
  {
   "cell_type": "code",
   "execution_count": 8,
   "id": "2efbe816-9bbc-42d4-8219-b6a886d5f39d",
   "metadata": {
    "tags": []
   },
   "outputs": [
    {
     "data": {
      "text/plain": [
       "count    8095.000000\n",
       "mean        0.842687\n",
       "std         0.148607\n",
       "min         0.000000\n",
       "25%         0.780000\n",
       "50%         0.880000\n",
       "75%         0.950000\n",
       "max         1.000000\n",
       "Name: score, dtype: float64"
      ]
     },
     "execution_count": 8,
     "metadata": {},
     "output_type": "execute_result"
    }
   ],
   "source": [
    "Api_df['score'].describe()"
   ]
  },
  {
   "cell_type": "code",
   "execution_count": 19,
   "id": "67ef87ea-18dc-4a7d-9f40-a25ed702dd79",
   "metadata": {
    "tags": []
   },
   "outputs": [
    {
     "name": "stdout",
     "output_type": "stream",
     "text": [
      "Mean: 0.8340240183305562\n",
      "Std deviation: 0.10804736350608936\n",
      "Min: 0.4864044873879608\n",
      "Max: 1.0\n"
     ]
    }
   ],
   "source": [
    "desired_mean = 0.842687\n",
    "sigma = 0.148607\n",
    "mu= np.log(desired_mean) - (sigma**2 / 2)\n",
    "\n",
    "# Generar datos aleatorios con la distribución log-normal\n",
    "data = np.random.lognormal(mean=mu, sigma=sigma, size=1000)\n",
    "\n",
    "# Asegurarse de que los datos estén en el rango deseado [0, 1]\n",
    "data_clipped = np.clip(data, 0, 1)\n",
    "\n",
    "# Imprimir estadísticas básicas de los datos generados\n",
    "print('Mean:', np.mean(data_clipped))\n",
    "print('Std deviation:', np.std(data_clipped))\n",
    "print('Min:', np.min(data_clipped))\n",
    "print('Max:', np.max(data_clipped))"
   ]
  },
  {
   "cell_type": "code",
   "execution_count": 20,
   "id": "54207456-532c-40a5-8b23-6e5c0ccb5662",
   "metadata": {
    "tags": []
   },
   "outputs": [
    {
     "data": {
      "text/plain": [
       "<AxesSubplot: ylabel='Count'>"
      ]
     },
     "execution_count": 20,
     "metadata": {},
     "output_type": "execute_result"
    },
    {
     "data": {
      "image/png": "[encoded data removed]",
      "text/plain": [
       "<Figure size 800x550 with 1 Axes>"
      ]
     },
     "metadata": {},
     "output_type": "display_data"
    }
   ],
   "source": [
    "sns.histplot(data)"
   ]
  },
  {
   "cell_type": "markdown",
   "id": "8f13f827-1462-4b0f-860c-9d7c312fff28",
   "metadata": {},
   "source": [
    "# Observaciones\n",
    "\n",
    "Cómo se puede observar en el histplot anterior, la distrubución de los datos de la log-normal tiene sesgo a la derecha y no a la izquierda, de manera que se procede a usar la distribución Beta"
   ]
  },
  {
   "cell_type": "markdown",
   "id": "e40b6945-ef4a-4955-922e-c946a4135fc4",
   "metadata": {},
   "source": [
    "# Imputación del Score usando la distrubución Beta:\n",
    "\n",
    "La dsitrubución Beta es una distrubución que tiene sesgo a la izquierda y que depende de dos parámetros $\\alpha$ y $\\beta$. \n",
    "La **distribución Beta** es una familia de distribuciones de probabilidad definidas en el intervalo \\([0, 1]\\), parametrizadas por dos parámetros positivos que generalmente se denotan como $\\alpha$ y $\\beta$. La función de densidad de probabilidad (PDF) de una variable aleatoria Beta \\(X\\) se define como:\n",
    "\n",
    "$$\n",
    "f(x; \\alpha, \\beta) = \\frac{x^{\\alpha - 1}(1-x)^{\\beta - 1}}{B(\\alpha, \\beta)}\n",
    "$$\n",
    "\n",
    "donde\n",
    "\n",
    "$$\n",
    "B(\\alpha, \\beta) = \\int_{0}^{1} t^{\\alpha - 1}(1-t)^{\\beta - 1} dt\n",
    "$$\n",
    "\n",
    "es la función Beta, que sirve como constante de normalización para que el área bajo la curva de la PDF sea igual a 1.\n",
    "\n",
    "La **media** $\\mu$ y **varianza** $\\sigma^2$ de la distribución Beta son:\n",
    "\n",
    "$$\n",
    "\\mu = \\frac{\\alpha}{\\alpha + \\beta}\n",
    "$$\n",
    "\n",
    "$$\n",
    "\\sigma^2 = \\frac{\\alpha \\beta}{(\\alpha + \\beta)^2 (\\alpha + \\beta + 1)}\n",
    "$$\n",
    "\n",
    "La forma de la distribución Beta puede variar ampliamente dependiendo de los valores de $\\alpha$ y $\\beta$, lo que la hace muy flexible para modelar datos con diferentes tipos de sesgos y concentraciones de probabilidad.\n",
    "\n",
    "Para poder ajustar los párametros de la distribución Beta a los datos de Score de la db original y de esta forma obtener los datos que servirán para imputar los scores de las bandas que estén en la base de datos de la API, pero no en la base de datos original se procede de la siguiente forma:\n",
    "\n",
    "# Primer Paso: obtener $\\alpha$ y $\\beta$ en terminos de $\\alpha +\\beta$ de las expresiones para la media y la varianza\n",
    "\n",
    "De la expresión de la media podemos despejar $\\alpha$ en terminos de $\\alpha +\\beta$ y nos arroja el siguiente resultado:\n",
    "\n",
    "$$\\alpha=\\mu(\\alpha +\\beta)$$\n",
    "\n",
    "Y para $\\beta$ tenemos que:\n",
    "\n",
    "$$\\beta=\\frac{\\alpha(1-\\mu)}{\\mu}=\\frac{\\mu(\\alpha +\\beta)(1-\\mu)}{\\mu}=(\\alpha +\\beta)(1-\\mu)$$\n",
    "\n",
    "# Segundo paso: obtener  $\\alpha +\\beta$ de las expresión para la varianza\n",
    "\n",
    "En la expresión de la varianza podemos sustituir el resultado obtenido anteriormente para $\\alpha$ y $\\beta$ en términos de $\\alpha +\\beta$:\n",
    "\n",
    "$$\n",
    "\\sigma^2 = \\frac{\\alpha \\beta}{(\\alpha + \\beta)^2 (\\alpha + \\beta + 1)}= \\frac{\\mu(\\alpha +\\beta)(\\alpha +\\beta)(1-\\mu)}{(\\alpha + \\beta)^2 (\\alpha + \\beta + 1)}=\\frac{\\mu(1-\\mu)}{ (\\alpha + \\beta + 1)}\n",
    "$$\n",
    "\n",
    "Y de este resultado podemos encontrar que \n",
    "\n",
    "$$\\alpha + \\beta=\\frac{\\mu(1-\\mu)}{\\sigma^{2}}-1$$\n",
    "\n",
    "Y ahora, si conocemos la varianza y la media podemos determinar $\\alpha +\\beta$ y con este párametro podemos calcular $\\alpha$ y $\\beta$ y con eso determinar nuestros párametros para la distribución beta. A partir de este punto llamaremos a $\\alpha +\\beta$ como tmp."
   ]
  },
  {
   "cell_type": "code",
   "execution_count": 33,
   "id": "5375f4f6-ffbc-4a90-988e-0d2c755b5d5c",
   "metadata": {
    "tags": []
   },
   "outputs": [
    {
     "name": "stdout",
     "output_type": "stream",
     "text": [
      "Media simulada: 0.8484208576244415\n",
      "Varianza simulada: 0.02114534012627476\n"
     ]
    }
   ],
   "source": [
    "media = 0.842687  \n",
    "varianza = 0.148607 ** 2  \n",
    "\n",
    "# Calcular los parámetros alfa y beta\n",
    "tmp = (media * (1 - media) / varianza) - 1\n",
    "alfa = media * tmp\n",
    "beta = (1 - media) * tmp\n",
    "\n",
    "# Simular datos de una distribución beta\n",
    "datos_simulados = np.random.beta(alfa, beta, size=1000)\n",
    "\n",
    "# Verificar las propiedades de los datos simulados\n",
    "print(f\"Media simulada: {np.mean(datos_simulados)}\")\n",
    "print(f\"Varianza simulada: {np.var(datos_simulados)}\")"
   ]
  },
  {
   "cell_type": "code",
   "execution_count": 31,
   "id": "b748bbff-7404-44af-9efb-296afa3edb33",
   "metadata": {
    "tags": []
   },
   "outputs": [
    {
     "data": {
      "text/plain": [
       "<AxesSubplot: ylabel='Count'>"
      ]
     },
     "execution_count": 31,
     "metadata": {},
     "output_type": "execute_result"
    },
    {
     "data": {
      "image/png": "[encoded data removed]",
      "text/plain": [
       "<Figure size 800x550 with 1 Axes>"
      ]
     },
     "metadata": {},
     "output_type": "display_data"
    }
   ],
   "source": [
    "sns.histplot(datos_simulados)"
   ]
  },
  {
   "cell_type": "code",
   "execution_count": 29,
   "id": "521441df-2d78-4e24-bdf4-13f1d6788767",
   "metadata": {
    "tags": []
   },
   "outputs": [],
   "source": [
    "Spotify_df['score']=Spotify_df.apply(lambda x:np.random.beta(alfa,beta),axis=1)"
   ]
  },
  {
   "cell_type": "code",
   "execution_count": 30,
   "id": "0b5b9f8c-8cb7-4229-955e-0f33e99b329e",
   "metadata": {
    "tags": []
   },
   "outputs": [
    {
     "data": {
      "text/html": [
       "<div>\n",
       "<style scoped>\n",
       "    .dataframe tbody tr th:only-of-type {\n",
       "        vertical-align: middle;\n",
       "    }\n",
       "\n",
       "    .dataframe tbody tr th {\n",
       "        vertical-align: top;\n",
       "    }\n",
       "\n",
       "    .dataframe thead th {\n",
       "        text-align: right;\n",
       "    }\n",
       "</style>\n",
       "<table border=\"1\" class=\"dataframe\">\n",
       "  <thead>\n",
       "    <tr style=\"text-align: right;\">\n",
       "      <th></th>\n",
       "      <th>Name</th>\n",
       "      <th>Genres</th>\n",
       "      <th>Popularity</th>\n",
       "      <th>Followers</th>\n",
       "      <th>Artist_URI</th>\n",
       "      <th>score</th>\n",
       "    </tr>\n",
       "  </thead>\n",
       "  <tbody>\n",
       "    <tr>\n",
       "      <th>0</th>\n",
       "      <td>Slayer</td>\n",
       "      <td>alternative metal, death metal, groove metal, ...</td>\n",
       "      <td>64</td>\n",
       "      <td>3717516</td>\n",
       "      <td>spotify:artist:1IQ2e1buppatiN1bxUVkrk</td>\n",
       "      <td>0.984666</td>\n",
       "    </tr>\n",
       "    <tr>\n",
       "      <th>1</th>\n",
       "      <td>Gojira</td>\n",
       "      <td>alternative metal, french death metal, french ...</td>\n",
       "      <td>61</td>\n",
       "      <td>1239549</td>\n",
       "      <td>spotify:artist:0GDGKpJFhVpcjIGF8N6Ewt</td>\n",
       "      <td>0.996419</td>\n",
       "    </tr>\n",
       "    <tr>\n",
       "      <th>2</th>\n",
       "      <td>Currents</td>\n",
       "      <td>melodic metalcore, metalcore, progressive deat...</td>\n",
       "      <td>58</td>\n",
       "      <td>187066</td>\n",
       "      <td>spotify:artist:5pqvAI85RMxL9K0xHvSwGu</td>\n",
       "      <td>0.670290</td>\n",
       "    </tr>\n",
       "    <tr>\n",
       "      <th>3</th>\n",
       "      <td>In Flames</td>\n",
       "      <td>alternative metal, gothenburg metal, melodic d...</td>\n",
       "      <td>61</td>\n",
       "      <td>1127923</td>\n",
       "      <td>spotify:artist:57ylwQTnFnIhJh4nu4rxCs</td>\n",
       "      <td>0.652000</td>\n",
       "    </tr>\n",
       "    <tr>\n",
       "      <th>4</th>\n",
       "      <td>Lorna Shore</td>\n",
       "      <td>blackened deathcore, melodic metalcore, sympho...</td>\n",
       "      <td>57</td>\n",
       "      <td>540632</td>\n",
       "      <td>spotify:artist:6vXYoy8ouRVib302zxaxFF</td>\n",
       "      <td>0.874139</td>\n",
       "    </tr>\n",
       "    <tr>\n",
       "      <th>...</th>\n",
       "      <td>...</td>\n",
       "      <td>...</td>\n",
       "      <td>...</td>\n",
       "      <td>...</td>\n",
       "      <td>...</td>\n",
       "      <td>...</td>\n",
       "    </tr>\n",
       "    <tr>\n",
       "      <th>995</th>\n",
       "      <td>Cleansing of the Temple</td>\n",
       "      <td>christian death metal, christian deathcore</td>\n",
       "      <td>5</td>\n",
       "      <td>1315</td>\n",
       "      <td>spotify:artist:4nNgrGNSI4M9ODTMH5MdNI</td>\n",
       "      <td>0.942668</td>\n",
       "    </tr>\n",
       "    <tr>\n",
       "      <th>996</th>\n",
       "      <td>Sentient Horror</td>\n",
       "      <td>swedish death metal</td>\n",
       "      <td>7</td>\n",
       "      <td>6037</td>\n",
       "      <td>spotify:artist:4MNbashXmMvEKIre76REzX</td>\n",
       "      <td>0.994068</td>\n",
       "    </tr>\n",
       "    <tr>\n",
       "      <th>997</th>\n",
       "      <td>Purulence</td>\n",
       "      <td>british death metal, slam death metal</td>\n",
       "      <td>6</td>\n",
       "      <td>2317</td>\n",
       "      <td>spotify:artist:6n2vNeCnk8otr3DpmS6osE</td>\n",
       "      <td>0.986358</td>\n",
       "    </tr>\n",
       "    <tr>\n",
       "      <th>998</th>\n",
       "      <td>Emasculated Vituperation</td>\n",
       "      <td>slam death metal</td>\n",
       "      <td>7</td>\n",
       "      <td>916</td>\n",
       "      <td>spotify:artist:6JWlwpjP9WMxELrxX73n4h</td>\n",
       "      <td>0.793271</td>\n",
       "    </tr>\n",
       "    <tr>\n",
       "      <th>999</th>\n",
       "      <td>Wirethrone</td>\n",
       "      <td>florida death metal</td>\n",
       "      <td>7</td>\n",
       "      <td>375</td>\n",
       "      <td>spotify:artist:5sQqpcYsodTpra0Spkl2rx</td>\n",
       "      <td>0.652053</td>\n",
       "    </tr>\n",
       "  </tbody>\n",
       "</table>\n",
       "<p>1000 rows × 6 columns</p>\n",
       "</div>"
      ],
      "text/plain": [
       "                         Name  \\\n",
       "0                      Slayer   \n",
       "1                      Gojira   \n",
       "2                    Currents   \n",
       "3                   In Flames   \n",
       "4                 Lorna Shore   \n",
       "..                        ...   \n",
       "995   Cleansing of the Temple   \n",
       "996           Sentient Horror   \n",
       "997                 Purulence   \n",
       "998  Emasculated Vituperation   \n",
       "999                Wirethrone   \n",
       "\n",
       "                                                Genres  Popularity  Followers  \\\n",
       "0    alternative metal, death metal, groove metal, ...          64    3717516   \n",
       "1    alternative metal, french death metal, french ...          61    1239549   \n",
       "2    melodic metalcore, metalcore, progressive deat...          58     187066   \n",
       "3    alternative metal, gothenburg metal, melodic d...          61    1127923   \n",
       "4    blackened deathcore, melodic metalcore, sympho...          57     540632   \n",
       "..                                                 ...         ...        ...   \n",
       "995         christian death metal, christian deathcore           5       1315   \n",
       "996                                swedish death metal           7       6037   \n",
       "997              british death metal, slam death metal           6       2317   \n",
       "998                                   slam death metal           7        916   \n",
       "999                                florida death metal           7        375   \n",
       "\n",
       "                                Artist_URI     score  \n",
       "0    spotify:artist:1IQ2e1buppatiN1bxUVkrk  0.984666  \n",
       "1    spotify:artist:0GDGKpJFhVpcjIGF8N6Ewt  0.996419  \n",
       "2    spotify:artist:5pqvAI85RMxL9K0xHvSwGu  0.670290  \n",
       "3    spotify:artist:57ylwQTnFnIhJh4nu4rxCs  0.652000  \n",
       "4    spotify:artist:6vXYoy8ouRVib302zxaxFF  0.874139  \n",
       "..                                     ...       ...  \n",
       "995  spotify:artist:4nNgrGNSI4M9ODTMH5MdNI  0.942668  \n",
       "996  spotify:artist:4MNbashXmMvEKIre76REzX  0.994068  \n",
       "997  spotify:artist:6n2vNeCnk8otr3DpmS6osE  0.986358  \n",
       "998  spotify:artist:6JWlwpjP9WMxELrxX73n4h  0.793271  \n",
       "999  spotify:artist:5sQqpcYsodTpra0Spkl2rx  0.652053  \n",
       "\n",
       "[1000 rows x 6 columns]"
      ]
     },
     "execution_count": 30,
     "metadata": {},
     "output_type": "execute_result"
    }
   ],
   "source": [
    "Spotify_df"
   ]
  },
  {
   "cell_type": "code",
   "execution_count": 32,
   "id": "8bd774a0-1e95-4f22-8117-d89d1069b861",
   "metadata": {
    "tags": []
   },
   "outputs": [
    {
     "data": {
      "text/plain": [
       "<AxesSubplot: xlabel='score', ylabel='Count'>"
      ]
     },
     "execution_count": 32,
     "metadata": {},
     "output_type": "execute_result"
    },
    {
     "data": {
      "image/png": "[encoded data removed]",
      "text/plain": [
       "<Figure size 800x550 with 1 Axes>"
      ]
     },
     "metadata": {},
     "output_type": "display_data"
    }
   ],
   "source": [
    "sns.histplot(Spotify_df['score'])"
   ]
  },
  {
   "cell_type": "code",
   "execution_count": null,
   "id": "62441357-123f-48a5-91fe-f05d27ba1fd9",
   "metadata": {},
   "outputs": [],
   "source": []
  }
 ],
 "metadata": {
  "kernelspec": {
   "display_name": "Python 3 (ipykernel)",
   "language": "python",
   "name": "python3"
  },
  "language_info": {
   "codemirror_mode": {
    "name": "ipython",
    "version": 3
   },
   "file_extension": ".py",
   "mimetype": "text/x-python",
   "name": "python",
   "nbconvert_exporter": "python",
   "pygments_lexer": "ipython3",
   "version": "3.10.7"
  }
 },
 "nbformat": 4,
 "nbformat_minor": 5
}
