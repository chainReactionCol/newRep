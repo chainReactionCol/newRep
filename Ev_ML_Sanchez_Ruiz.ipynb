{
 "cells": [
  {
   "cell_type": "code",
   "execution_count": 1,
   "id": "574c8093-08ed-45f3-9d97-0cc4ec60f6aa",
   "metadata": {
    "tags": []
   },
   "outputs": [],
   "source": [
    "import pandas as pd\n",
    "import numpy as np\n",
    "import matplotlib.pyplot as plt\n",
    "import ipywidgets as wd\n",
    "from ipywidgets import interact\n",
    "import seaborn as sns\n",
    "import ptitprince as pt\n",
    "import re #I import this library 'cause I need to deal with regular expressions\n",
    "from sklearn.decomposition import PCA\n",
    "from mlxtend.plotting import plot_decision_regions\n",
    "import warnings\n",
    "warnings.filterwarnings(\"ignore\")\n",
    "from sklearn.cluster import KMeans\n",
    "from sklearn.neighbors import KNeighborsClassifier\n",
    "from sklearn.tree import DecisionTreeClassifier\n",
    "from sklearn.tree import plot_tree\n",
    "from sklearn import tree\n",
    "from yellowbrick.cluster import KElbowVisualizer\n",
    "from sklearn import metrics\n",
    "sns.set_style('whitegrid')\n",
    "from sklearn.metrics import confusion_matrix\n",
    "from sklearn.model_selection import train_test_split\n",
    "from sklearn import datasets\n",
    "from sklearn.linear_model import LinearRegression\n",
    "from category_encoders import TargetEncoder\n",
    "from sklearn.preprocessing import PolynomialFeatures\n",
    "from sklearn.preprocessing import PowerTransformer # para usar Yeo-Johnson\n",
    "from scipy.stats import skew\n",
    "from sklearn.metrics import r2_score\n",
    "from sklearn.feature_selection import mutual_info_regression\n",
    "from sklearn.tree import DecisionTreeRegressor\n",
    "from scipy.stats import randint\n",
    "from sklearn.model_selection import RandomizedSearchCV\n",
    "from sklearn.ensemble import RandomForestRegressor\n",
    "from sklearn.metrics import mean_squared_error\n",
    "from sklearn.pipeline import Pipeline\n",
    "from sklearn.preprocessing  import PolynomialFeatures\n",
    "from sklearn.preprocessing import StandardScaler\n",
    "from sklearn.model_selection import GridSearchCV\n",
    "from sklearn.model_selection import cross_val_score"
   ]
  },
  {
   "cell_type": "code",
   "execution_count": 2,
   "id": "04c86bed-0e05-45c8-a900-b5a065be6b42",
   "metadata": {
    "tags": []
   },
   "outputs": [],
   "source": [
    "Api_file=\"Merged_Api.csv\"\n",
    "Api_df=pd.read_csv(Api_file)"
   ]
  },
  {
   "cell_type": "code",
   "execution_count": 3,
   "id": "931bcd50-be19-4c3d-bbe5-a52a7c2d0a97",
   "metadata": {
    "tags": []
   },
   "outputs": [],
   "source": [
    "#Api_df['has_transitions']=Api_df['has_transitions'].astype('int')"
   ]
  },
  {
   "cell_type": "code",
   "execution_count": 4,
   "id": "ce5329dc-1f62-44e6-8646-83ee3979ebd1",
   "metadata": {
    "tags": []
   },
   "outputs": [
    {
     "data": {
      "text/html": [
       "<div>\n",
       "<style scoped>\n",
       "    .dataframe tbody tr th:only-of-type {\n",
       "        vertical-align: middle;\n",
       "    }\n",
       "\n",
       "    .dataframe tbody tr th {\n",
       "        vertical-align: top;\n",
       "    }\n",
       "\n",
       "    .dataframe thead th {\n",
       "        text-align: right;\n",
       "    }\n",
       "</style>\n",
       "<table border=\"1\" class=\"dataframe\">\n",
       "  <thead>\n",
       "    <tr style=\"text-align: right;\">\n",
       "      <th></th>\n",
       "      <th>id_band</th>\n",
       "      <th>score</th>\n",
       "      <th>name</th>\n",
       "      <th>has_transitions</th>\n",
       "      <th>albumCount</th>\n",
       "      <th>review_count</th>\n",
       "    </tr>\n",
       "  </thead>\n",
       "  <tbody>\n",
       "    <tr>\n",
       "      <th>0</th>\n",
       "      <td>11143</td>\n",
       "      <td>0.500000</td>\n",
       "      <td>Cuntscrape</td>\n",
       "      <td>True</td>\n",
       "      <td>1.0</td>\n",
       "      <td>1</td>\n",
       "    </tr>\n",
       "    <tr>\n",
       "      <th>1</th>\n",
       "      <td>14768</td>\n",
       "      <td>0.770000</td>\n",
       "      <td>Psychiatric Regurgitation</td>\n",
       "      <td>True</td>\n",
       "      <td>1.0</td>\n",
       "      <td>1</td>\n",
       "    </tr>\n",
       "    <tr>\n",
       "      <th>2</th>\n",
       "      <td>16693</td>\n",
       "      <td>0.860000</td>\n",
       "      <td>Four Question Marks</td>\n",
       "      <td>True</td>\n",
       "      <td>2.0</td>\n",
       "      <td>1</td>\n",
       "    </tr>\n",
       "    <tr>\n",
       "      <th>3</th>\n",
       "      <td>16950</td>\n",
       "      <td>0.783333</td>\n",
       "      <td>Acranius</td>\n",
       "      <td>True</td>\n",
       "      <td>1.0</td>\n",
       "      <td>1</td>\n",
       "    </tr>\n",
       "    <tr>\n",
       "      <th>4</th>\n",
       "      <td>20572</td>\n",
       "      <td>0.550000</td>\n",
       "      <td>Emergency Gate</td>\n",
       "      <td>True</td>\n",
       "      <td>3.0</td>\n",
       "      <td>1</td>\n",
       "    </tr>\n",
       "    <tr>\n",
       "      <th>...</th>\n",
       "      <td>...</td>\n",
       "      <td>...</td>\n",
       "      <td>...</td>\n",
       "      <td>...</td>\n",
       "      <td>...</td>\n",
       "      <td>...</td>\n",
       "    </tr>\n",
       "    <tr>\n",
       "      <th>8090</th>\n",
       "      <td>60990</td>\n",
       "      <td>0.700000</td>\n",
       "      <td>Tidfall</td>\n",
       "      <td>False</td>\n",
       "      <td>1.0</td>\n",
       "      <td>4</td>\n",
       "    </tr>\n",
       "    <tr>\n",
       "      <th>8091</th>\n",
       "      <td>63005</td>\n",
       "      <td>0.700000</td>\n",
       "      <td>Emperor</td>\n",
       "      <td>False</td>\n",
       "      <td>1.0</td>\n",
       "      <td>4</td>\n",
       "    </tr>\n",
       "    <tr>\n",
       "      <th>8092</th>\n",
       "      <td>49377</td>\n",
       "      <td>0.680000</td>\n",
       "      <td>VARIOUS ARTISTS</td>\n",
       "      <td>False</td>\n",
       "      <td>1.0</td>\n",
       "      <td>6</td>\n",
       "    </tr>\n",
       "    <tr>\n",
       "      <th>8093</th>\n",
       "      <td>43600</td>\n",
       "      <td>0.680000</td>\n",
       "      <td>Valensia</td>\n",
       "      <td>False</td>\n",
       "      <td>1.0</td>\n",
       "      <td>6</td>\n",
       "    </tr>\n",
       "    <tr>\n",
       "      <th>8094</th>\n",
       "      <td>49744</td>\n",
       "      <td>0.660000</td>\n",
       "      <td>Spitfire</td>\n",
       "      <td>False</td>\n",
       "      <td>1.0</td>\n",
       "      <td>11</td>\n",
       "    </tr>\n",
       "  </tbody>\n",
       "</table>\n",
       "<p>8095 rows × 6 columns</p>\n",
       "</div>"
      ],
      "text/plain": [
       "      id_band     score                       name  has_transitions  \\\n",
       "0       11143  0.500000                 Cuntscrape             True   \n",
       "1       14768  0.770000  Psychiatric Regurgitation             True   \n",
       "2       16693  0.860000        Four Question Marks             True   \n",
       "3       16950  0.783333                   Acranius             True   \n",
       "4       20572  0.550000             Emergency Gate             True   \n",
       "...       ...       ...                        ...              ...   \n",
       "8090    60990  0.700000                    Tidfall            False   \n",
       "8091    63005  0.700000                    Emperor            False   \n",
       "8092    49377  0.680000            VARIOUS ARTISTS            False   \n",
       "8093    43600  0.680000                   Valensia            False   \n",
       "8094    49744  0.660000                   Spitfire            False   \n",
       "\n",
       "      albumCount  review_count  \n",
       "0            1.0             1  \n",
       "1            1.0             1  \n",
       "2            2.0             1  \n",
       "3            1.0             1  \n",
       "4            3.0             1  \n",
       "...          ...           ...  \n",
       "8090         1.0             4  \n",
       "8091         1.0             4  \n",
       "8092         1.0             6  \n",
       "8093         1.0             6  \n",
       "8094         1.0            11  \n",
       "\n",
       "[8095 rows x 6 columns]"
      ]
     },
     "execution_count": 4,
     "metadata": {},
     "output_type": "execute_result"
    }
   ],
   "source": [
    "Api_df"
   ]
  },
  {
   "cell_type": "code",
   "execution_count": 5,
   "id": "a27b3355-ab2c-461b-8b2f-06210c32050b",
   "metadata": {
    "tags": []
   },
   "outputs": [],
   "source": [
    "Spotify_file='Spotify_extracted.csv'\n",
    "Spotify_df=pd.read_csv(Spotify_file)"
   ]
  },
  {
   "cell_type": "code",
   "execution_count": 6,
   "id": "048ba7c5-c2fe-497d-89fb-133e334002e7",
   "metadata": {
    "tags": []
   },
   "outputs": [
    {
     "data": {
      "text/plain": [
       "Index(['Name', 'Genres', 'Popularity', 'Followers', 'Artist_URI'], dtype='object')"
      ]
     },
     "execution_count": 6,
     "metadata": {},
     "output_type": "execute_result"
    }
   ],
   "source": [
    "Spotify_df.columns"
   ]
  },
  {
   "cell_type": "code",
   "execution_count": 7,
   "id": "84b106dc-0dce-4482-ad17-ac4f10e55961",
   "metadata": {
    "tags": []
   },
   "outputs": [
    {
     "name": "stdout",
     "output_type": "stream",
     "text": [
      "<class 'pandas.core.frame.DataFrame'>\n",
      "RangeIndex: 1000 entries, 0 to 999\n",
      "Data columns (total 5 columns):\n",
      " #   Column      Non-Null Count  Dtype \n",
      "---  ------      --------------  ----- \n",
      " 0   Name        1000 non-null   object\n",
      " 1   Genres      1000 non-null   object\n",
      " 2   Popularity  1000 non-null   int64 \n",
      " 3   Followers   1000 non-null   int64 \n",
      " 4   Artist_URI  1000 non-null   object\n",
      "dtypes: int64(2), object(3)\n",
      "memory usage: 39.2+ KB\n"
     ]
    }
   ],
   "source": [
    "Spotify_df.info()"
   ]
  },
  {
   "cell_type": "markdown",
   "id": "9ac3e642-56ad-466b-a842-dd75ffd3223c",
   "metadata": {},
   "source": [
    "## Imputación de los datos de score para los registros que provienen de la API de Spotify\n",
    "\n",
    "Para realizar esta imputación de datos se busca extraer los valores de score de una distribución que respete el sesgo a la izquierda de los datos de Score originales y para esto se contemplaron dos caminos: el primero, consiste en utilizar una distribución log-normal e intentar reflejarla. Esto se plantea debido a que determinar los parámetros de esta distribución es relativamente sencillo, no obstante se desiste de este camino debido a que esta distrubución naturalmente tiene sesgo a la derecha. No obstante se deja el proceso reflejado en el notebook: "
   ]
  },
  {
   "cell_type": "code",
   "execution_count": 8,
   "id": "2efbe816-9bbc-42d4-8219-b6a886d5f39d",
   "metadata": {
    "tags": []
   },
   "outputs": [
    {
     "data": {
      "text/plain": [
       "count    8095.000000\n",
       "mean        0.842687\n",
       "std         0.148607\n",
       "min         0.000000\n",
       "25%         0.780000\n",
       "50%         0.880000\n",
       "75%         0.950000\n",
       "max         1.000000\n",
       "Name: score, dtype: float64"
      ]
     },
     "execution_count": 8,
     "metadata": {},
     "output_type": "execute_result"
    }
   ],
   "source": [
    "Api_df['score'].describe()"
   ]
  },
  {
   "cell_type": "code",
   "execution_count": 9,
   "id": "67ef87ea-18dc-4a7d-9f40-a25ed702dd79",
   "metadata": {
    "tags": []
   },
   "outputs": [
    {
     "name": "stdout",
     "output_type": "stream",
     "text": [
      "Mean: 0.8326166956970804\n",
      "Std deviation: 0.11182541046749031\n",
      "Min: 0.505763438763643\n",
      "Max: 1.0\n"
     ]
    }
   ],
   "source": [
    "desired_mean = 0.842687\n",
    "sigma = 0.148607\n",
    "mu= np.log(desired_mean) - (sigma**2 / 2)\n",
    "\n",
    "# Generar datos aleatorios con la distribución log-normal\n",
    "data = np.random.lognormal(mean=mu, sigma=sigma, size=1000)\n",
    "\n",
    "# Asegurarse de que los datos estén en el rango deseado [0, 1]\n",
    "data_clipped = np.clip(data, 0, 1)\n",
    "\n",
    "# Imprimir estadísticas básicas de los datos generados\n",
    "print('Mean:', np.mean(data_clipped))\n",
    "print('Std deviation:', np.std(data_clipped))\n",
    "print('Min:', np.min(data_clipped))\n",
    "print('Max:', np.max(data_clipped))"
   ]
  },
  {
   "cell_type": "code",
   "execution_count": 10,
   "id": "54207456-532c-40a5-8b23-6e5c0ccb5662",
   "metadata": {
    "tags": []
   },
   "outputs": [
    {
     "data": {
      "text/plain": [
       "<Axes: ylabel='Count'>"
      ]
     },
     "execution_count": 10,
     "metadata": {},
     "output_type": "execute_result"
    },
    {
     "data": {
      "image/png": "[encoded data removed]",
      "text/plain": [
       "<Figure size 800x550 with 1 Axes>"
      ]
     },
     "metadata": {},
     "output_type": "display_data"
    }
   ],
   "source": [
    "sns.histplot(data)"
   ]
  },
  {
   "cell_type": "markdown",
   "id": "8f13f827-1462-4b0f-860c-9d7c312fff28",
   "metadata": {},
   "source": [
    "# Observaciones\n",
    "\n",
    "Cómo se puede observar en el histplot anterior, la distrubución de los datos de la log-normal tiene sesgo a la derecha y no a la izquierda, de manera que se procede a usar la distribución Beta"
   ]
  },
  {
   "cell_type": "markdown",
   "id": "e40b6945-ef4a-4955-922e-c946a4135fc4",
   "metadata": {},
   "source": [
    "# Imputación del Score usando la distrubución Beta:\n",
    "\n",
    "La dsitrubución Beta es una distrubución que tiene sesgo a la izquierda y que depende de dos parámetros $\\alpha$ y $\\beta$. \n",
    "La **distribución Beta** es una familia de distribuciones de probabilidad definidas en el intervalo \\([0, 1]\\), parametrizadas por dos parámetros positivos que generalmente se denotan como $\\alpha$ y $\\beta$. La función de densidad de probabilidad (PDF) de una variable aleatoria Beta \\(X\\) se define como:\n",
    "\n",
    "$$\n",
    "f(x; \\alpha, \\beta) = \\frac{x^{\\alpha - 1}(1-x)^{\\beta - 1}}{B(\\alpha, \\beta)}\n",
    "$$\n",
    "\n",
    "donde\n",
    "\n",
    "$$\n",
    "B(\\alpha, \\beta) = \\int_{0}^{1} t^{\\alpha - 1}(1-t)^{\\beta - 1} dt\n",
    "$$\n",
    "\n",
    "es la función Beta, que sirve como constante de normalización para que el área bajo la curva de la PDF sea igual a 1.\n",
    "\n",
    "La **media** $\\mu$ y **varianza** $\\sigma^2$ de la distribución Beta son:\n",
    "\n",
    "$$\n",
    "\\mu = \\frac{\\alpha}{\\alpha + \\beta}\n",
    "$$\n",
    "\n",
    "$$\n",
    "\\sigma^2 = \\frac{\\alpha \\beta}{(\\alpha + \\beta)^2 (\\alpha + \\beta + 1)}\n",
    "$$\n",
    "\n",
    "La forma de la distribución Beta puede variar ampliamente dependiendo de los valores de $\\alpha$ y $\\beta$, lo que la hace muy flexible para modelar datos con diferentes tipos de sesgos y concentraciones de probabilidad.\n",
    "\n",
    "Para poder ajustar los párametros de la distribución Beta a los datos de Score de la db original y de esta forma obtener los datos que servirán para imputar los scores de las bandas que estén en la base de datos de la API, pero no en la base de datos original se procede de la siguiente forma:\n",
    "\n",
    "# Primer Paso: obtener $\\alpha$ y $\\beta$ en terminos de $\\alpha +\\beta$ de las expresiones para la media y la varianza\n",
    "\n",
    "De la expresión de la media podemos despejar $\\alpha$ en terminos de $\\alpha +\\beta$ y nos arroja el siguiente resultado:\n",
    "\n",
    "$$\\alpha=\\mu(\\alpha +\\beta)$$\n",
    "\n",
    "Y para $\\beta$ tenemos que:\n",
    "\n",
    "$$\\beta=\\frac{\\alpha(1-\\mu)}{\\mu}=\\frac{\\mu(\\alpha +\\beta)(1-\\mu)}{\\mu}=(\\alpha +\\beta)(1-\\mu)$$\n",
    "\n",
    "# Segundo paso: obtener  $\\alpha +\\beta$ de las expresión para la varianza\n",
    "\n",
    "En la expresión de la varianza podemos sustituir el resultado obtenido anteriormente para $\\alpha$ y $\\beta$ en términos de $\\alpha +\\beta$:\n",
    "\n",
    "$$\n",
    "\\sigma^2 = \\frac{\\alpha \\beta}{(\\alpha + \\beta)^2 (\\alpha + \\beta + 1)}= \\frac{\\mu(\\alpha +\\beta)(\\alpha +\\beta)(1-\\mu)}{(\\alpha + \\beta)^2 (\\alpha + \\beta + 1)}=\\frac{\\mu(1-\\mu)}{ (\\alpha + \\beta + 1)}\n",
    "$$\n",
    "\n",
    "Y de este resultado podemos encontrar que \n",
    "\n",
    "$$\\alpha + \\beta=\\frac{\\mu(1-\\mu)}{\\sigma^{2}}-1$$\n",
    "\n",
    "Y ahora, si conocemos la varianza y la media podemos determinar $\\alpha +\\beta$ y con este párametro podemos calcular $\\alpha$ y $\\beta$ y con eso determinar nuestros párametros para la distribución beta. A partir de este punto llamaremos a $\\alpha +\\beta$ como tmp."
   ]
  },
  {
   "cell_type": "code",
   "execution_count": 11,
   "id": "5375f4f6-ffbc-4a90-988e-0d2c755b5d5c",
   "metadata": {
    "tags": []
   },
   "outputs": [
    {
     "name": "stdout",
     "output_type": "stream",
     "text": [
      "Media simulada: 0.8397026633840787\n",
      "Varianza simulada: 0.022139052509159086\n"
     ]
    }
   ],
   "source": [
    "media = 0.842687  \n",
    "varianza = 0.148607 ** 2  \n",
    "\n",
    "# Calcular los parámetros alfa y beta\n",
    "tmp = (media * (1 - media) / varianza) - 1\n",
    "alfa = media * tmp\n",
    "beta = (1 - media) * tmp\n",
    "\n",
    "# Simular datos de una distribución beta\n",
    "datos_simulados = np.random.beta(alfa, beta, size=1000)\n",
    "\n",
    "# Verificar las propiedades de los datos simulados\n",
    "print(f\"Media simulada: {np.mean(datos_simulados)}\")\n",
    "print(f\"Varianza simulada: {np.var(datos_simulados)}\")"
   ]
  },
  {
   "cell_type": "code",
   "execution_count": 12,
   "id": "b748bbff-7404-44af-9efb-296afa3edb33",
   "metadata": {
    "tags": []
   },
   "outputs": [
    {
     "data": {
      "text/plain": [
       "<Axes: ylabel='Count'>"
      ]
     },
     "execution_count": 12,
     "metadata": {},
     "output_type": "execute_result"
    },
    {
     "data": {
      "image/png": "[encoded data removed]",
      "text/plain": [
       "<Figure size 800x550 with 1 Axes>"
      ]
     },
     "metadata": {},
     "output_type": "display_data"
    }
   ],
   "source": [
    "sns.histplot(datos_simulados)"
   ]
  },
  {
   "cell_type": "code",
   "execution_count": 13,
   "id": "521441df-2d78-4e24-bdf4-13f1d6788767",
   "metadata": {
    "tags": []
   },
   "outputs": [],
   "source": [
    "Spotify_df['score']=Spotify_df.apply(lambda x:np.random.beta(alfa,beta),axis=1)"
   ]
  },
  {
   "cell_type": "code",
   "execution_count": 14,
   "id": "0b5b9f8c-8cb7-4229-955e-0f33e99b329e",
   "metadata": {
    "tags": []
   },
   "outputs": [
    {
     "data": {
      "text/html": [
       "<div>\n",
       "<style scoped>\n",
       "    .dataframe tbody tr th:only-of-type {\n",
       "        vertical-align: middle;\n",
       "    }\n",
       "\n",
       "    .dataframe tbody tr th {\n",
       "        vertical-align: top;\n",
       "    }\n",
       "\n",
       "    .dataframe thead th {\n",
       "        text-align: right;\n",
       "    }\n",
       "</style>\n",
       "<table border=\"1\" class=\"dataframe\">\n",
       "  <thead>\n",
       "    <tr style=\"text-align: right;\">\n",
       "      <th></th>\n",
       "      <th>Name</th>\n",
       "      <th>Genres</th>\n",
       "      <th>Popularity</th>\n",
       "      <th>Followers</th>\n",
       "      <th>Artist_URI</th>\n",
       "      <th>score</th>\n",
       "    </tr>\n",
       "  </thead>\n",
       "  <tbody>\n",
       "    <tr>\n",
       "      <th>0</th>\n",
       "      <td>Slayer</td>\n",
       "      <td>alternative metal, death metal, groove metal, ...</td>\n",
       "      <td>64</td>\n",
       "      <td>3717516</td>\n",
       "      <td>spotify:artist:1IQ2e1buppatiN1bxUVkrk</td>\n",
       "      <td>0.964289</td>\n",
       "    </tr>\n",
       "    <tr>\n",
       "      <th>1</th>\n",
       "      <td>Gojira</td>\n",
       "      <td>alternative metal, french death metal, french ...</td>\n",
       "      <td>61</td>\n",
       "      <td>1239549</td>\n",
       "      <td>spotify:artist:0GDGKpJFhVpcjIGF8N6Ewt</td>\n",
       "      <td>0.724836</td>\n",
       "    </tr>\n",
       "    <tr>\n",
       "      <th>2</th>\n",
       "      <td>Currents</td>\n",
       "      <td>melodic metalcore, metalcore, progressive deat...</td>\n",
       "      <td>58</td>\n",
       "      <td>187066</td>\n",
       "      <td>spotify:artist:5pqvAI85RMxL9K0xHvSwGu</td>\n",
       "      <td>0.825734</td>\n",
       "    </tr>\n",
       "    <tr>\n",
       "      <th>3</th>\n",
       "      <td>In Flames</td>\n",
       "      <td>alternative metal, gothenburg metal, melodic d...</td>\n",
       "      <td>61</td>\n",
       "      <td>1127923</td>\n",
       "      <td>spotify:artist:57ylwQTnFnIhJh4nu4rxCs</td>\n",
       "      <td>0.619380</td>\n",
       "    </tr>\n",
       "    <tr>\n",
       "      <th>4</th>\n",
       "      <td>Lorna Shore</td>\n",
       "      <td>blackened deathcore, melodic metalcore, sympho...</td>\n",
       "      <td>57</td>\n",
       "      <td>540632</td>\n",
       "      <td>spotify:artist:6vXYoy8ouRVib302zxaxFF</td>\n",
       "      <td>0.984558</td>\n",
       "    </tr>\n",
       "    <tr>\n",
       "      <th>...</th>\n",
       "      <td>...</td>\n",
       "      <td>...</td>\n",
       "      <td>...</td>\n",
       "      <td>...</td>\n",
       "      <td>...</td>\n",
       "      <td>...</td>\n",
       "    </tr>\n",
       "    <tr>\n",
       "      <th>995</th>\n",
       "      <td>Cleansing of the Temple</td>\n",
       "      <td>christian death metal, christian deathcore</td>\n",
       "      <td>5</td>\n",
       "      <td>1315</td>\n",
       "      <td>spotify:artist:4nNgrGNSI4M9ODTMH5MdNI</td>\n",
       "      <td>0.791989</td>\n",
       "    </tr>\n",
       "    <tr>\n",
       "      <th>996</th>\n",
       "      <td>Sentient Horror</td>\n",
       "      <td>swedish death metal</td>\n",
       "      <td>7</td>\n",
       "      <td>6037</td>\n",
       "      <td>spotify:artist:4MNbashXmMvEKIre76REzX</td>\n",
       "      <td>0.723132</td>\n",
       "    </tr>\n",
       "    <tr>\n",
       "      <th>997</th>\n",
       "      <td>Purulence</td>\n",
       "      <td>british death metal, slam death metal</td>\n",
       "      <td>6</td>\n",
       "      <td>2317</td>\n",
       "      <td>spotify:artist:6n2vNeCnk8otr3DpmS6osE</td>\n",
       "      <td>0.819247</td>\n",
       "    </tr>\n",
       "    <tr>\n",
       "      <th>998</th>\n",
       "      <td>Emasculated Vituperation</td>\n",
       "      <td>slam death metal</td>\n",
       "      <td>7</td>\n",
       "      <td>916</td>\n",
       "      <td>spotify:artist:6JWlwpjP9WMxELrxX73n4h</td>\n",
       "      <td>0.710902</td>\n",
       "    </tr>\n",
       "    <tr>\n",
       "      <th>999</th>\n",
       "      <td>Wirethrone</td>\n",
       "      <td>florida death metal</td>\n",
       "      <td>7</td>\n",
       "      <td>375</td>\n",
       "      <td>spotify:artist:5sQqpcYsodTpra0Spkl2rx</td>\n",
       "      <td>0.869833</td>\n",
       "    </tr>\n",
       "  </tbody>\n",
       "</table>\n",
       "<p>1000 rows × 6 columns</p>\n",
       "</div>"
      ],
      "text/plain": [
       "                         Name  \\\n",
       "0                      Slayer   \n",
       "1                      Gojira   \n",
       "2                    Currents   \n",
       "3                   In Flames   \n",
       "4                 Lorna Shore   \n",
       "..                        ...   \n",
       "995   Cleansing of the Temple   \n",
       "996           Sentient Horror   \n",
       "997                 Purulence   \n",
       "998  Emasculated Vituperation   \n",
       "999                Wirethrone   \n",
       "\n",
       "                                                Genres  Popularity  Followers  \\\n",
       "0    alternative metal, death metal, groove metal, ...          64    3717516   \n",
       "1    alternative metal, french death metal, french ...          61    1239549   \n",
       "2    melodic metalcore, metalcore, progressive deat...          58     187066   \n",
       "3    alternative metal, gothenburg metal, melodic d...          61    1127923   \n",
       "4    blackened deathcore, melodic metalcore, sympho...          57     540632   \n",
       "..                                                 ...         ...        ...   \n",
       "995         christian death metal, christian deathcore           5       1315   \n",
       "996                                swedish death metal           7       6037   \n",
       "997              british death metal, slam death metal           6       2317   \n",
       "998                                   slam death metal           7        916   \n",
       "999                                florida death metal           7        375   \n",
       "\n",
       "                                Artist_URI     score  \n",
       "0    spotify:artist:1IQ2e1buppatiN1bxUVkrk  0.964289  \n",
       "1    spotify:artist:0GDGKpJFhVpcjIGF8N6Ewt  0.724836  \n",
       "2    spotify:artist:5pqvAI85RMxL9K0xHvSwGu  0.825734  \n",
       "3    spotify:artist:57ylwQTnFnIhJh4nu4rxCs  0.619380  \n",
       "4    spotify:artist:6vXYoy8ouRVib302zxaxFF  0.984558  \n",
       "..                                     ...       ...  \n",
       "995  spotify:artist:4nNgrGNSI4M9ODTMH5MdNI  0.791989  \n",
       "996  spotify:artist:4MNbashXmMvEKIre76REzX  0.723132  \n",
       "997  spotify:artist:6n2vNeCnk8otr3DpmS6osE  0.819247  \n",
       "998  spotify:artist:6JWlwpjP9WMxELrxX73n4h  0.710902  \n",
       "999  spotify:artist:5sQqpcYsodTpra0Spkl2rx  0.869833  \n",
       "\n",
       "[1000 rows x 6 columns]"
      ]
     },
     "execution_count": 14,
     "metadata": {},
     "output_type": "execute_result"
    }
   ],
   "source": [
    "Spotify_df"
   ]
  },
  {
   "cell_type": "code",
   "execution_count": 15,
   "id": "8bd774a0-1e95-4f22-8117-d89d1069b861",
   "metadata": {
    "tags": []
   },
   "outputs": [
    {
     "data": {
      "text/plain": [
       "<Axes: xlabel='score', ylabel='Count'>"
      ]
     },
     "execution_count": 15,
     "metadata": {},
     "output_type": "execute_result"
    },
    {
     "data": {
      "image/png": "[encoded data removed]",
      "text/plain": [
       "<Figure size 800x550 with 1 Axes>"
      ]
     },
     "metadata": {},
     "output_type": "display_data"
    }
   ],
   "source": [
    "sns.histplot(Spotify_df['score'])"
   ]
  },
  {
   "cell_type": "code",
   "execution_count": 16,
   "id": "62441357-123f-48a5-91fe-f05d27ba1fd9",
   "metadata": {
    "tags": []
   },
   "outputs": [],
   "source": [
    "Spotify_df['validation']=[True if x in Api_df.name.values else False for x in Spotify_df.Name]"
   ]
  },
  {
   "cell_type": "code",
   "execution_count": 17,
   "id": "d8155627-5c21-47bd-9024-cc63fd5fb404",
   "metadata": {
    "tags": []
   },
   "outputs": [
    {
     "data": {
      "text/html": [
       "<div>\n",
       "<style scoped>\n",
       "    .dataframe tbody tr th:only-of-type {\n",
       "        vertical-align: middle;\n",
       "    }\n",
       "\n",
       "    .dataframe tbody tr th {\n",
       "        vertical-align: top;\n",
       "    }\n",
       "\n",
       "    .dataframe thead th {\n",
       "        text-align: right;\n",
       "    }\n",
       "</style>\n",
       "<table border=\"1\" class=\"dataframe\">\n",
       "  <thead>\n",
       "    <tr style=\"text-align: right;\">\n",
       "      <th></th>\n",
       "      <th>Name</th>\n",
       "      <th>Genres</th>\n",
       "      <th>Popularity</th>\n",
       "      <th>Followers</th>\n",
       "      <th>Artist_URI</th>\n",
       "      <th>score</th>\n",
       "      <th>validation</th>\n",
       "    </tr>\n",
       "  </thead>\n",
       "  <tbody>\n",
       "    <tr>\n",
       "      <th>0</th>\n",
       "      <td>Slayer</td>\n",
       "      <td>alternative metal, death metal, groove metal, ...</td>\n",
       "      <td>64</td>\n",
       "      <td>3717516</td>\n",
       "      <td>spotify:artist:1IQ2e1buppatiN1bxUVkrk</td>\n",
       "      <td>0.964289</td>\n",
       "      <td>True</td>\n",
       "    </tr>\n",
       "    <tr>\n",
       "      <th>1</th>\n",
       "      <td>Gojira</td>\n",
       "      <td>alternative metal, french death metal, french ...</td>\n",
       "      <td>61</td>\n",
       "      <td>1239549</td>\n",
       "      <td>spotify:artist:0GDGKpJFhVpcjIGF8N6Ewt</td>\n",
       "      <td>0.724836</td>\n",
       "      <td>True</td>\n",
       "    </tr>\n",
       "    <tr>\n",
       "      <th>2</th>\n",
       "      <td>Currents</td>\n",
       "      <td>melodic metalcore, metalcore, progressive deat...</td>\n",
       "      <td>58</td>\n",
       "      <td>187066</td>\n",
       "      <td>spotify:artist:5pqvAI85RMxL9K0xHvSwGu</td>\n",
       "      <td>0.825734</td>\n",
       "      <td>False</td>\n",
       "    </tr>\n",
       "    <tr>\n",
       "      <th>3</th>\n",
       "      <td>In Flames</td>\n",
       "      <td>alternative metal, gothenburg metal, melodic d...</td>\n",
       "      <td>61</td>\n",
       "      <td>1127923</td>\n",
       "      <td>spotify:artist:57ylwQTnFnIhJh4nu4rxCs</td>\n",
       "      <td>0.619380</td>\n",
       "      <td>True</td>\n",
       "    </tr>\n",
       "    <tr>\n",
       "      <th>4</th>\n",
       "      <td>Lorna Shore</td>\n",
       "      <td>blackened deathcore, melodic metalcore, sympho...</td>\n",
       "      <td>57</td>\n",
       "      <td>540632</td>\n",
       "      <td>spotify:artist:6vXYoy8ouRVib302zxaxFF</td>\n",
       "      <td>0.984558</td>\n",
       "      <td>True</td>\n",
       "    </tr>\n",
       "    <tr>\n",
       "      <th>...</th>\n",
       "      <td>...</td>\n",
       "      <td>...</td>\n",
       "      <td>...</td>\n",
       "      <td>...</td>\n",
       "      <td>...</td>\n",
       "      <td>...</td>\n",
       "      <td>...</td>\n",
       "    </tr>\n",
       "    <tr>\n",
       "      <th>995</th>\n",
       "      <td>Cleansing of the Temple</td>\n",
       "      <td>christian death metal, christian deathcore</td>\n",
       "      <td>5</td>\n",
       "      <td>1315</td>\n",
       "      <td>spotify:artist:4nNgrGNSI4M9ODTMH5MdNI</td>\n",
       "      <td>0.791989</td>\n",
       "      <td>False</td>\n",
       "    </tr>\n",
       "    <tr>\n",
       "      <th>996</th>\n",
       "      <td>Sentient Horror</td>\n",
       "      <td>swedish death metal</td>\n",
       "      <td>7</td>\n",
       "      <td>6037</td>\n",
       "      <td>spotify:artist:4MNbashXmMvEKIre76REzX</td>\n",
       "      <td>0.723132</td>\n",
       "      <td>False</td>\n",
       "    </tr>\n",
       "    <tr>\n",
       "      <th>997</th>\n",
       "      <td>Purulence</td>\n",
       "      <td>british death metal, slam death metal</td>\n",
       "      <td>6</td>\n",
       "      <td>2317</td>\n",
       "      <td>spotify:artist:6n2vNeCnk8otr3DpmS6osE</td>\n",
       "      <td>0.819247</td>\n",
       "      <td>False</td>\n",
       "    </tr>\n",
       "    <tr>\n",
       "      <th>998</th>\n",
       "      <td>Emasculated Vituperation</td>\n",
       "      <td>slam death metal</td>\n",
       "      <td>7</td>\n",
       "      <td>916</td>\n",
       "      <td>spotify:artist:6JWlwpjP9WMxELrxX73n4h</td>\n",
       "      <td>0.710902</td>\n",
       "      <td>False</td>\n",
       "    </tr>\n",
       "    <tr>\n",
       "      <th>999</th>\n",
       "      <td>Wirethrone</td>\n",
       "      <td>florida death metal</td>\n",
       "      <td>7</td>\n",
       "      <td>375</td>\n",
       "      <td>spotify:artist:5sQqpcYsodTpra0Spkl2rx</td>\n",
       "      <td>0.869833</td>\n",
       "      <td>False</td>\n",
       "    </tr>\n",
       "  </tbody>\n",
       "</table>\n",
       "<p>1000 rows × 7 columns</p>\n",
       "</div>"
      ],
      "text/plain": [
       "                         Name  \\\n",
       "0                      Slayer   \n",
       "1                      Gojira   \n",
       "2                    Currents   \n",
       "3                   In Flames   \n",
       "4                 Lorna Shore   \n",
       "..                        ...   \n",
       "995   Cleansing of the Temple   \n",
       "996           Sentient Horror   \n",
       "997                 Purulence   \n",
       "998  Emasculated Vituperation   \n",
       "999                Wirethrone   \n",
       "\n",
       "                                                Genres  Popularity  Followers  \\\n",
       "0    alternative metal, death metal, groove metal, ...          64    3717516   \n",
       "1    alternative metal, french death metal, french ...          61    1239549   \n",
       "2    melodic metalcore, metalcore, progressive deat...          58     187066   \n",
       "3    alternative metal, gothenburg metal, melodic d...          61    1127923   \n",
       "4    blackened deathcore, melodic metalcore, sympho...          57     540632   \n",
       "..                                                 ...         ...        ...   \n",
       "995         christian death metal, christian deathcore           5       1315   \n",
       "996                                swedish death metal           7       6037   \n",
       "997              british death metal, slam death metal           6       2317   \n",
       "998                                   slam death metal           7        916   \n",
       "999                                florida death metal           7        375   \n",
       "\n",
       "                                Artist_URI     score  validation  \n",
       "0    spotify:artist:1IQ2e1buppatiN1bxUVkrk  0.964289        True  \n",
       "1    spotify:artist:0GDGKpJFhVpcjIGF8N6Ewt  0.724836        True  \n",
       "2    spotify:artist:5pqvAI85RMxL9K0xHvSwGu  0.825734       False  \n",
       "3    spotify:artist:57ylwQTnFnIhJh4nu4rxCs  0.619380        True  \n",
       "4    spotify:artist:6vXYoy8ouRVib302zxaxFF  0.984558        True  \n",
       "..                                     ...       ...         ...  \n",
       "995  spotify:artist:4nNgrGNSI4M9ODTMH5MdNI  0.791989       False  \n",
       "996  spotify:artist:4MNbashXmMvEKIre76REzX  0.723132       False  \n",
       "997  spotify:artist:6n2vNeCnk8otr3DpmS6osE  0.819247       False  \n",
       "998  spotify:artist:6JWlwpjP9WMxELrxX73n4h  0.710902       False  \n",
       "999  spotify:artist:5sQqpcYsodTpra0Spkl2rx  0.869833       False  \n",
       "\n",
       "[1000 rows x 7 columns]"
      ]
     },
     "execution_count": 17,
     "metadata": {},
     "output_type": "execute_result"
    }
   ],
   "source": [
    "Spotify_df"
   ]
  },
  {
   "cell_type": "code",
   "execution_count": 18,
   "id": "fbabc989-434f-4654-b314-8225d6707775",
   "metadata": {
    "tags": []
   },
   "outputs": [
    {
     "data": {
      "text/html": [
       "<div>\n",
       "<style scoped>\n",
       "    .dataframe tbody tr th:only-of-type {\n",
       "        vertical-align: middle;\n",
       "    }\n",
       "\n",
       "    .dataframe tbody tr th {\n",
       "        vertical-align: top;\n",
       "    }\n",
       "\n",
       "    .dataframe thead th {\n",
       "        text-align: right;\n",
       "    }\n",
       "</style>\n",
       "<table border=\"1\" class=\"dataframe\">\n",
       "  <thead>\n",
       "    <tr style=\"text-align: right;\">\n",
       "      <th></th>\n",
       "      <th>Name</th>\n",
       "      <th>Genres</th>\n",
       "      <th>Popularity</th>\n",
       "      <th>Followers</th>\n",
       "      <th>Artist_URI</th>\n",
       "      <th>score</th>\n",
       "      <th>validation</th>\n",
       "    </tr>\n",
       "  </thead>\n",
       "  <tbody>\n",
       "    <tr>\n",
       "      <th>2</th>\n",
       "      <td>Currents</td>\n",
       "      <td>melodic metalcore, metalcore, progressive deat...</td>\n",
       "      <td>58</td>\n",
       "      <td>187066</td>\n",
       "      <td>spotify:artist:5pqvAI85RMxL9K0xHvSwGu</td>\n",
       "      <td>0.825734</td>\n",
       "      <td>False</td>\n",
       "    </tr>\n",
       "    <tr>\n",
       "      <th>5</th>\n",
       "      <td>Slaughter to Prevail</td>\n",
       "      <td>russian metal, russian metalcore, slamming dea...</td>\n",
       "      <td>56</td>\n",
       "      <td>551299</td>\n",
       "      <td>spotify:artist:24Oiw7BlvO1BETecDLJt6m</td>\n",
       "      <td>0.958991</td>\n",
       "      <td>False</td>\n",
       "    </tr>\n",
       "    <tr>\n",
       "      <th>8</th>\n",
       "      <td>I See Stars</td>\n",
       "      <td>deathstep, melodic metalcore, metalcore, neon ...</td>\n",
       "      <td>51</td>\n",
       "      <td>451467</td>\n",
       "      <td>spotify:artist:3iCJOi5YKh247eutgCyLFe</td>\n",
       "      <td>0.956013</td>\n",
       "      <td>False</td>\n",
       "    </tr>\n",
       "    <tr>\n",
       "      <th>9</th>\n",
       "      <td>Make Them Suffer</td>\n",
       "      <td>australian metalcore, blackened deathcore, bru...</td>\n",
       "      <td>52</td>\n",
       "      <td>233898</td>\n",
       "      <td>spotify:artist:0FZcPgWI3BsFQl4rOAGSHT</td>\n",
       "      <td>0.804782</td>\n",
       "      <td>False</td>\n",
       "    </tr>\n",
       "    <tr>\n",
       "      <th>13</th>\n",
       "      <td>Alpha Wolf</td>\n",
       "      <td>australian post-hardcore, deathcore, melodic m...</td>\n",
       "      <td>50</td>\n",
       "      <td>129182</td>\n",
       "      <td>spotify:artist:2tjnvrUmP46XNjFh9V0NGc</td>\n",
       "      <td>0.982327</td>\n",
       "      <td>False</td>\n",
       "    </tr>\n",
       "    <tr>\n",
       "      <th>...</th>\n",
       "      <td>...</td>\n",
       "      <td>...</td>\n",
       "      <td>...</td>\n",
       "      <td>...</td>\n",
       "      <td>...</td>\n",
       "      <td>...</td>\n",
       "      <td>...</td>\n",
       "    </tr>\n",
       "    <tr>\n",
       "      <th>995</th>\n",
       "      <td>Cleansing of the Temple</td>\n",
       "      <td>christian death metal, christian deathcore</td>\n",
       "      <td>5</td>\n",
       "      <td>1315</td>\n",
       "      <td>spotify:artist:4nNgrGNSI4M9ODTMH5MdNI</td>\n",
       "      <td>0.791989</td>\n",
       "      <td>False</td>\n",
       "    </tr>\n",
       "    <tr>\n",
       "      <th>996</th>\n",
       "      <td>Sentient Horror</td>\n",
       "      <td>swedish death metal</td>\n",
       "      <td>7</td>\n",
       "      <td>6037</td>\n",
       "      <td>spotify:artist:4MNbashXmMvEKIre76REzX</td>\n",
       "      <td>0.723132</td>\n",
       "      <td>False</td>\n",
       "    </tr>\n",
       "    <tr>\n",
       "      <th>997</th>\n",
       "      <td>Purulence</td>\n",
       "      <td>british death metal, slam death metal</td>\n",
       "      <td>6</td>\n",
       "      <td>2317</td>\n",
       "      <td>spotify:artist:6n2vNeCnk8otr3DpmS6osE</td>\n",
       "      <td>0.819247</td>\n",
       "      <td>False</td>\n",
       "    </tr>\n",
       "    <tr>\n",
       "      <th>998</th>\n",
       "      <td>Emasculated Vituperation</td>\n",
       "      <td>slam death metal</td>\n",
       "      <td>7</td>\n",
       "      <td>916</td>\n",
       "      <td>spotify:artist:6JWlwpjP9WMxELrxX73n4h</td>\n",
       "      <td>0.710902</td>\n",
       "      <td>False</td>\n",
       "    </tr>\n",
       "    <tr>\n",
       "      <th>999</th>\n",
       "      <td>Wirethrone</td>\n",
       "      <td>florida death metal</td>\n",
       "      <td>7</td>\n",
       "      <td>375</td>\n",
       "      <td>spotify:artist:5sQqpcYsodTpra0Spkl2rx</td>\n",
       "      <td>0.869833</td>\n",
       "      <td>False</td>\n",
       "    </tr>\n",
       "  </tbody>\n",
       "</table>\n",
       "<p>436 rows × 7 columns</p>\n",
       "</div>"
      ],
      "text/plain": [
       "                         Name  \\\n",
       "2                    Currents   \n",
       "5        Slaughter to Prevail   \n",
       "8                 I See Stars   \n",
       "9            Make Them Suffer   \n",
       "13                 Alpha Wolf   \n",
       "..                        ...   \n",
       "995   Cleansing of the Temple   \n",
       "996           Sentient Horror   \n",
       "997                 Purulence   \n",
       "998  Emasculated Vituperation   \n",
       "999                Wirethrone   \n",
       "\n",
       "                                                Genres  Popularity  Followers  \\\n",
       "2    melodic metalcore, metalcore, progressive deat...          58     187066   \n",
       "5    russian metal, russian metalcore, slamming dea...          56     551299   \n",
       "8    deathstep, melodic metalcore, metalcore, neon ...          51     451467   \n",
       "9    australian metalcore, blackened deathcore, bru...          52     233898   \n",
       "13   australian post-hardcore, deathcore, melodic m...          50     129182   \n",
       "..                                                 ...         ...        ...   \n",
       "995         christian death metal, christian deathcore           5       1315   \n",
       "996                                swedish death metal           7       6037   \n",
       "997              british death metal, slam death metal           6       2317   \n",
       "998                                   slam death metal           7        916   \n",
       "999                                florida death metal           7        375   \n",
       "\n",
       "                                Artist_URI     score  validation  \n",
       "2    spotify:artist:5pqvAI85RMxL9K0xHvSwGu  0.825734       False  \n",
       "5    spotify:artist:24Oiw7BlvO1BETecDLJt6m  0.958991       False  \n",
       "8    spotify:artist:3iCJOi5YKh247eutgCyLFe  0.956013       False  \n",
       "9    spotify:artist:0FZcPgWI3BsFQl4rOAGSHT  0.804782       False  \n",
       "13   spotify:artist:2tjnvrUmP46XNjFh9V0NGc  0.982327       False  \n",
       "..                                     ...       ...         ...  \n",
       "995  spotify:artist:4nNgrGNSI4M9ODTMH5MdNI  0.791989       False  \n",
       "996  spotify:artist:4MNbashXmMvEKIre76REzX  0.723132       False  \n",
       "997  spotify:artist:6n2vNeCnk8otr3DpmS6osE  0.819247       False  \n",
       "998  spotify:artist:6JWlwpjP9WMxELrxX73n4h  0.710902       False  \n",
       "999  spotify:artist:5sQqpcYsodTpra0Spkl2rx  0.869833       False  \n",
       "\n",
       "[436 rows x 7 columns]"
      ]
     },
     "execution_count": 18,
     "metadata": {},
     "output_type": "execute_result"
    }
   ],
   "source": [
    "false_Rows=Spotify_df[Spotify_df['validation']==False]\n",
    "false_Rows"
   ]
  },
  {
   "cell_type": "code",
   "execution_count": 19,
   "id": "402af332-e9d7-4611-8733-504f398410aa",
   "metadata": {
    "tags": []
   },
   "outputs": [
    {
     "data": {
      "text/plain": [
       "69996"
      ]
     },
     "execution_count": 19,
     "metadata": {},
     "output_type": "execute_result"
    }
   ],
   "source": [
    "Api_df['id_band'].max()"
   ]
  },
  {
   "cell_type": "code",
   "execution_count": 20,
   "id": "cf7c5fad-8128-4b61-92c6-54b4c52564be",
   "metadata": {
    "tags": []
   },
   "outputs": [
    {
     "data": {
      "text/html": [
       "<div>\n",
       "<style scoped>\n",
       "    .dataframe tbody tr th:only-of-type {\n",
       "        vertical-align: middle;\n",
       "    }\n",
       "\n",
       "    .dataframe tbody tr th {\n",
       "        vertical-align: top;\n",
       "    }\n",
       "\n",
       "    .dataframe thead th {\n",
       "        text-align: right;\n",
       "    }\n",
       "</style>\n",
       "<table border=\"1\" class=\"dataframe\">\n",
       "  <thead>\n",
       "    <tr style=\"text-align: right;\">\n",
       "      <th></th>\n",
       "      <th>id_band</th>\n",
       "      <th>score</th>\n",
       "      <th>name</th>\n",
       "      <th>has_transitions</th>\n",
       "      <th>albumCount</th>\n",
       "      <th>review_count</th>\n",
       "    </tr>\n",
       "  </thead>\n",
       "  <tbody>\n",
       "    <tr>\n",
       "      <th>7199</th>\n",
       "      <td>69996</td>\n",
       "      <td>0.78</td>\n",
       "      <td>Paul Nelson</td>\n",
       "      <td>False</td>\n",
       "      <td>1.0</td>\n",
       "      <td>6</td>\n",
       "    </tr>\n",
       "  </tbody>\n",
       "</table>\n",
       "</div>"
      ],
      "text/plain": [
       "      id_band  score         name  has_transitions  albumCount  review_count\n",
       "7199    69996   0.78  Paul Nelson            False         1.0             6"
      ]
     },
     "execution_count": 20,
     "metadata": {},
     "output_type": "execute_result"
    }
   ],
   "source": [
    "Api_df.loc[Api_df['id_band']==69996]"
   ]
  },
  {
   "cell_type": "code",
   "execution_count": 21,
   "id": "dc970a41-267e-498f-ae37-d5c13b777bbe",
   "metadata": {
    "tags": []
   },
   "outputs": [],
   "source": [
    "false_Rows['id_band']=false_Rows.apply(lambda x:np.random.randint(70010,70450),axis=1)"
   ]
  },
  {
   "cell_type": "code",
   "execution_count": 22,
   "id": "fe5b6d2f-b105-415b-987e-d4a493575501",
   "metadata": {
    "tags": []
   },
   "outputs": [
    {
     "data": {
      "text/html": [
       "<div>\n",
       "<style scoped>\n",
       "    .dataframe tbody tr th:only-of-type {\n",
       "        vertical-align: middle;\n",
       "    }\n",
       "\n",
       "    .dataframe tbody tr th {\n",
       "        vertical-align: top;\n",
       "    }\n",
       "\n",
       "    .dataframe thead th {\n",
       "        text-align: right;\n",
       "    }\n",
       "</style>\n",
       "<table border=\"1\" class=\"dataframe\">\n",
       "  <thead>\n",
       "    <tr style=\"text-align: right;\">\n",
       "      <th></th>\n",
       "      <th>Name</th>\n",
       "      <th>Genres</th>\n",
       "      <th>Popularity</th>\n",
       "      <th>Followers</th>\n",
       "      <th>Artist_URI</th>\n",
       "      <th>score</th>\n",
       "      <th>validation</th>\n",
       "      <th>id_band</th>\n",
       "    </tr>\n",
       "  </thead>\n",
       "  <tbody>\n",
       "    <tr>\n",
       "      <th>2</th>\n",
       "      <td>Currents</td>\n",
       "      <td>melodic metalcore, metalcore, progressive deat...</td>\n",
       "      <td>58</td>\n",
       "      <td>187066</td>\n",
       "      <td>spotify:artist:5pqvAI85RMxL9K0xHvSwGu</td>\n",
       "      <td>0.825734</td>\n",
       "      <td>False</td>\n",
       "      <td>70188</td>\n",
       "    </tr>\n",
       "    <tr>\n",
       "      <th>5</th>\n",
       "      <td>Slaughter to Prevail</td>\n",
       "      <td>russian metal, russian metalcore, slamming dea...</td>\n",
       "      <td>56</td>\n",
       "      <td>551299</td>\n",
       "      <td>spotify:artist:24Oiw7BlvO1BETecDLJt6m</td>\n",
       "      <td>0.958991</td>\n",
       "      <td>False</td>\n",
       "      <td>70446</td>\n",
       "    </tr>\n",
       "    <tr>\n",
       "      <th>8</th>\n",
       "      <td>I See Stars</td>\n",
       "      <td>deathstep, melodic metalcore, metalcore, neon ...</td>\n",
       "      <td>51</td>\n",
       "      <td>451467</td>\n",
       "      <td>spotify:artist:3iCJOi5YKh247eutgCyLFe</td>\n",
       "      <td>0.956013</td>\n",
       "      <td>False</td>\n",
       "      <td>70064</td>\n",
       "    </tr>\n",
       "    <tr>\n",
       "      <th>9</th>\n",
       "      <td>Make Them Suffer</td>\n",
       "      <td>australian metalcore, blackened deathcore, bru...</td>\n",
       "      <td>52</td>\n",
       "      <td>233898</td>\n",
       "      <td>spotify:artist:0FZcPgWI3BsFQl4rOAGSHT</td>\n",
       "      <td>0.804782</td>\n",
       "      <td>False</td>\n",
       "      <td>70361</td>\n",
       "    </tr>\n",
       "    <tr>\n",
       "      <th>13</th>\n",
       "      <td>Alpha Wolf</td>\n",
       "      <td>australian post-hardcore, deathcore, melodic m...</td>\n",
       "      <td>50</td>\n",
       "      <td>129182</td>\n",
       "      <td>spotify:artist:2tjnvrUmP46XNjFh9V0NGc</td>\n",
       "      <td>0.982327</td>\n",
       "      <td>False</td>\n",
       "      <td>70387</td>\n",
       "    </tr>\n",
       "    <tr>\n",
       "      <th>...</th>\n",
       "      <td>...</td>\n",
       "      <td>...</td>\n",
       "      <td>...</td>\n",
       "      <td>...</td>\n",
       "      <td>...</td>\n",
       "      <td>...</td>\n",
       "      <td>...</td>\n",
       "      <td>...</td>\n",
       "    </tr>\n",
       "    <tr>\n",
       "      <th>995</th>\n",
       "      <td>Cleansing of the Temple</td>\n",
       "      <td>christian death metal, christian deathcore</td>\n",
       "      <td>5</td>\n",
       "      <td>1315</td>\n",
       "      <td>spotify:artist:4nNgrGNSI4M9ODTMH5MdNI</td>\n",
       "      <td>0.791989</td>\n",
       "      <td>False</td>\n",
       "      <td>70049</td>\n",
       "    </tr>\n",
       "    <tr>\n",
       "      <th>996</th>\n",
       "      <td>Sentient Horror</td>\n",
       "      <td>swedish death metal</td>\n",
       "      <td>7</td>\n",
       "      <td>6037</td>\n",
       "      <td>spotify:artist:4MNbashXmMvEKIre76REzX</td>\n",
       "      <td>0.723132</td>\n",
       "      <td>False</td>\n",
       "      <td>70238</td>\n",
       "    </tr>\n",
       "    <tr>\n",
       "      <th>997</th>\n",
       "      <td>Purulence</td>\n",
       "      <td>british death metal, slam death metal</td>\n",
       "      <td>6</td>\n",
       "      <td>2317</td>\n",
       "      <td>spotify:artist:6n2vNeCnk8otr3DpmS6osE</td>\n",
       "      <td>0.819247</td>\n",
       "      <td>False</td>\n",
       "      <td>70048</td>\n",
       "    </tr>\n",
       "    <tr>\n",
       "      <th>998</th>\n",
       "      <td>Emasculated Vituperation</td>\n",
       "      <td>slam death metal</td>\n",
       "      <td>7</td>\n",
       "      <td>916</td>\n",
       "      <td>spotify:artist:6JWlwpjP9WMxELrxX73n4h</td>\n",
       "      <td>0.710902</td>\n",
       "      <td>False</td>\n",
       "      <td>70212</td>\n",
       "    </tr>\n",
       "    <tr>\n",
       "      <th>999</th>\n",
       "      <td>Wirethrone</td>\n",
       "      <td>florida death metal</td>\n",
       "      <td>7</td>\n",
       "      <td>375</td>\n",
       "      <td>spotify:artist:5sQqpcYsodTpra0Spkl2rx</td>\n",
       "      <td>0.869833</td>\n",
       "      <td>False</td>\n",
       "      <td>70100</td>\n",
       "    </tr>\n",
       "  </tbody>\n",
       "</table>\n",
       "<p>436 rows × 8 columns</p>\n",
       "</div>"
      ],
      "text/plain": [
       "                         Name  \\\n",
       "2                    Currents   \n",
       "5        Slaughter to Prevail   \n",
       "8                 I See Stars   \n",
       "9            Make Them Suffer   \n",
       "13                 Alpha Wolf   \n",
       "..                        ...   \n",
       "995   Cleansing of the Temple   \n",
       "996           Sentient Horror   \n",
       "997                 Purulence   \n",
       "998  Emasculated Vituperation   \n",
       "999                Wirethrone   \n",
       "\n",
       "                                                Genres  Popularity  Followers  \\\n",
       "2    melodic metalcore, metalcore, progressive deat...          58     187066   \n",
       "5    russian metal, russian metalcore, slamming dea...          56     551299   \n",
       "8    deathstep, melodic metalcore, metalcore, neon ...          51     451467   \n",
       "9    australian metalcore, blackened deathcore, bru...          52     233898   \n",
       "13   australian post-hardcore, deathcore, melodic m...          50     129182   \n",
       "..                                                 ...         ...        ...   \n",
       "995         christian death metal, christian deathcore           5       1315   \n",
       "996                                swedish death metal           7       6037   \n",
       "997              british death metal, slam death metal           6       2317   \n",
       "998                                   slam death metal           7        916   \n",
       "999                                florida death metal           7        375   \n",
       "\n",
       "                                Artist_URI     score  validation  id_band  \n",
       "2    spotify:artist:5pqvAI85RMxL9K0xHvSwGu  0.825734       False    70188  \n",
       "5    spotify:artist:24Oiw7BlvO1BETecDLJt6m  0.958991       False    70446  \n",
       "8    spotify:artist:3iCJOi5YKh247eutgCyLFe  0.956013       False    70064  \n",
       "9    spotify:artist:0FZcPgWI3BsFQl4rOAGSHT  0.804782       False    70361  \n",
       "13   spotify:artist:2tjnvrUmP46XNjFh9V0NGc  0.982327       False    70387  \n",
       "..                                     ...       ...         ...      ...  \n",
       "995  spotify:artist:4nNgrGNSI4M9ODTMH5MdNI  0.791989       False    70049  \n",
       "996  spotify:artist:4MNbashXmMvEKIre76REzX  0.723132       False    70238  \n",
       "997  spotify:artist:6n2vNeCnk8otr3DpmS6osE  0.819247       False    70048  \n",
       "998  spotify:artist:6JWlwpjP9WMxELrxX73n4h  0.710902       False    70212  \n",
       "999  spotify:artist:5sQqpcYsodTpra0Spkl2rx  0.869833       False    70100  \n",
       "\n",
       "[436 rows x 8 columns]"
      ]
     },
     "execution_count": 22,
     "metadata": {},
     "output_type": "execute_result"
    }
   ],
   "source": [
    "false_Rows"
   ]
  },
  {
   "cell_type": "code",
   "execution_count": 23,
   "id": "3564f117-84e8-4c7a-a020-a5b201150ad3",
   "metadata": {
    "tags": []
   },
   "outputs": [
    {
     "data": {
      "text/plain": [
       "count    436.000000\n",
       "mean      20.098624\n",
       "std       11.154171\n",
       "min        5.000000\n",
       "25%       11.000000\n",
       "50%       18.000000\n",
       "75%       26.250000\n",
       "max       58.000000\n",
       "Name: Popularity, dtype: float64"
      ]
     },
     "execution_count": 23,
     "metadata": {},
     "output_type": "execute_result"
    }
   ],
   "source": [
    "false_Rows['Popularity'].describe()"
   ]
  },
  {
   "cell_type": "code",
   "execution_count": 24,
   "id": "73aec58a-cbca-44fb-968f-1b1ea6bd392f",
   "metadata": {
    "tags": []
   },
   "outputs": [
    {
     "data": {
      "text/plain": [
       "<Axes: xlabel='Popularity', ylabel='Count'>"
      ]
     },
     "execution_count": 24,
     "metadata": {},
     "output_type": "execute_result"
    },
    {
     "data": {
      "image/png": "[encoded data removed]",
      "text/plain": [
       "<Figure size 800x550 with 1 Axes>"
      ]
     },
     "metadata": {},
     "output_type": "display_data"
    }
   ],
   "source": [
    "sns.histplot(false_Rows['Popularity'])"
   ]
  },
  {
   "cell_type": "code",
   "execution_count": 25,
   "id": "1124579d-c70e-4a1e-895a-16778cdf05e1",
   "metadata": {
    "tags": []
   },
   "outputs": [
    {
     "data": {
      "text/plain": [
       "count       436.000000\n",
       "mean      35858.431193\n",
       "std       72777.213872\n",
       "min         190.000000\n",
       "25%        5090.000000\n",
       "50%       10310.000000\n",
       "75%       31476.500000\n",
       "max      679904.000000\n",
       "Name: Followers, dtype: float64"
      ]
     },
     "execution_count": 25,
     "metadata": {},
     "output_type": "execute_result"
    }
   ],
   "source": [
    "false_Rows['Followers'].describe()"
   ]
  },
  {
   "cell_type": "code",
   "execution_count": 26,
   "id": "fa78bd71-b556-406e-9b33-a110833f3435",
   "metadata": {
    "tags": []
   },
   "outputs": [
    {
     "data": {
      "text/plain": [
       "<Axes: xlabel='Followers', ylabel='Count'>"
      ]
     },
     "execution_count": 26,
     "metadata": {},
     "output_type": "execute_result"
    },
    {
     "data": {
      "image/png": "[encoded data removed]",
      "text/plain": [
       "<Figure size 800x550 with 1 Axes>"
      ]
     },
     "metadata": {},
     "output_type": "display_data"
    }
   ],
   "source": [
    "sns.histplot(false_Rows['Followers'])"
   ]
  },
  {
   "cell_type": "code",
   "execution_count": 27,
   "id": "6b775bdf-ebd5-4dd1-af3a-4b3a25d8b7cd",
   "metadata": {
    "tags": []
   },
   "outputs": [
    {
     "name": "stdout",
     "output_type": "stream",
     "text": [
      "Mean: 20.019317875614355\n",
      "Std deviation: 10.18652823849576\n",
      "Min: 5.0\n",
      "Max: 58.0\n"
     ]
    }
   ],
   "source": [
    "# Datos originales\n",
    "popularity_mean = 20.098624\n",
    "pop_std_dev = 11.154171\n",
    "pop_variance = pop_std_dev ** 2\n",
    "\n",
    "# Calcular los parámetros de la distribución log-normal\n",
    "mu_pop = np.log(popularity_mean ** 2 / np.sqrt(pop_variance + popularity_mean ** 2))\n",
    "sigma_pop = np.sqrt(np.log(pop_variance / popularity_mean ** 2 + 1))\n",
    "\n",
    "# Generar datos aleatorios con la distribución log-normal\n",
    "data_pop = np.random.lognormal(mean=mu_pop, sigma=sigma_pop, size=1000)\n",
    "\n",
    "# Asegurarse de que los datos estén en el rango deseado [5, 58]\n",
    "data_clipped_pop = np.clip(data_pop, 5, 58)\n",
    "\n",
    "# Imprimir estadísticas básicas de los datos generados\n",
    "print('Mean:', np.mean(data_clipped_pop))\n",
    "print('Std deviation:', np.std(data_clipped_pop))\n",
    "print('Min:', np.min(data_clipped_pop))\n",
    "print('Max:', np.max(data_clipped_pop))"
   ]
  },
  {
   "cell_type": "code",
   "execution_count": 28,
   "id": "fc127380-40f9-4ec0-bdcd-d402717e584b",
   "metadata": {
    "tags": []
   },
   "outputs": [
    {
     "name": "stdout",
     "output_type": "stream",
     "text": [
      "Mean: 35193.70856836771\n",
      "Std deviation: 63303.08056753113\n",
      "Min: 220.17351131879212\n",
      "Max: 679904.0\n"
     ]
    }
   ],
   "source": [
    "# Datos originales\n",
    "followers_mean = 35858.431193\n",
    "followers_var = 72777.213872 ** 2  # Variance, not standard deviation\n",
    "\n",
    "# Calcular los parámetros de la distribución log-normal\n",
    "mu_fol = np.log(followers_mean**2 / np.sqrt(followers_var + followers_mean**2))\n",
    "sigma_fol = np.sqrt(np.log(followers_var / followers_mean**2 + 1))\n",
    "\n",
    "# Generar datos aleatorios con la distribución log-normal\n",
    "data_fol = np.random.lognormal(mean=mu_fol, sigma=sigma_fol, size=1000)\n",
    "\n",
    "# Asegurarse de que los datos estén en el rango deseado [min_followers, max_followers]\n",
    "min_followers = 190\n",
    "max_followers = 679904\n",
    "data_clipped_fol = np.clip(data_fol, min_followers, max_followers)\n",
    "\n",
    "# Imprimir estadísticas básicas de los datos generados\n",
    "print('Mean:', np.mean(data_clipped_fol))\n",
    "print('Std deviation:', np.std(data_clipped_fol))\n",
    "print('Min:', np.min(data_clipped_fol))\n",
    "print('Max:', np.max(data_clipped_fol))\n"
   ]
  },
  {
   "cell_type": "code",
   "execution_count": 29,
   "id": "0718ba29-6141-40b2-9bad-33e8eb89db44",
   "metadata": {
    "tags": []
   },
   "outputs": [],
   "source": [
    "Api_df['Followers']=Api_df.apply(lambda x:round(np.random.lognormal(mean=mu_fol, sigma=sigma_fol),0),axis=1)\n",
    "Api_df['Popularity']=Api_df.apply(lambda x:round(np.random.lognormal(mean=mu_pop, sigma=sigma_pop),0),axis=1)"
   ]
  },
  {
   "cell_type": "code",
   "execution_count": 30,
   "id": "cca673ae-acb9-46c9-80f3-14d223de10d2",
   "metadata": {
    "tags": []
   },
   "outputs": [
    {
     "data": {
      "text/html": [
       "<div>\n",
       "<style scoped>\n",
       "    .dataframe tbody tr th:only-of-type {\n",
       "        vertical-align: middle;\n",
       "    }\n",
       "\n",
       "    .dataframe tbody tr th {\n",
       "        vertical-align: top;\n",
       "    }\n",
       "\n",
       "    .dataframe thead th {\n",
       "        text-align: right;\n",
       "    }\n",
       "</style>\n",
       "<table border=\"1\" class=\"dataframe\">\n",
       "  <thead>\n",
       "    <tr style=\"text-align: right;\">\n",
       "      <th></th>\n",
       "      <th>id_band</th>\n",
       "      <th>score</th>\n",
       "      <th>name</th>\n",
       "      <th>has_transitions</th>\n",
       "      <th>albumCount</th>\n",
       "      <th>review_count</th>\n",
       "      <th>Followers</th>\n",
       "      <th>Popularity</th>\n",
       "    </tr>\n",
       "  </thead>\n",
       "  <tbody>\n",
       "    <tr>\n",
       "      <th>0</th>\n",
       "      <td>11143</td>\n",
       "      <td>0.500000</td>\n",
       "      <td>Cuntscrape</td>\n",
       "      <td>True</td>\n",
       "      <td>1.0</td>\n",
       "      <td>1</td>\n",
       "      <td>7557.0</td>\n",
       "      <td>18.0</td>\n",
       "    </tr>\n",
       "    <tr>\n",
       "      <th>1</th>\n",
       "      <td>14768</td>\n",
       "      <td>0.770000</td>\n",
       "      <td>Psychiatric Regurgitation</td>\n",
       "      <td>True</td>\n",
       "      <td>1.0</td>\n",
       "      <td>1</td>\n",
       "      <td>4366.0</td>\n",
       "      <td>15.0</td>\n",
       "    </tr>\n",
       "    <tr>\n",
       "      <th>2</th>\n",
       "      <td>16693</td>\n",
       "      <td>0.860000</td>\n",
       "      <td>Four Question Marks</td>\n",
       "      <td>True</td>\n",
       "      <td>2.0</td>\n",
       "      <td>1</td>\n",
       "      <td>13204.0</td>\n",
       "      <td>7.0</td>\n",
       "    </tr>\n",
       "    <tr>\n",
       "      <th>3</th>\n",
       "      <td>16950</td>\n",
       "      <td>0.783333</td>\n",
       "      <td>Acranius</td>\n",
       "      <td>True</td>\n",
       "      <td>1.0</td>\n",
       "      <td>1</td>\n",
       "      <td>25075.0</td>\n",
       "      <td>24.0</td>\n",
       "    </tr>\n",
       "    <tr>\n",
       "      <th>4</th>\n",
       "      <td>20572</td>\n",
       "      <td>0.550000</td>\n",
       "      <td>Emergency Gate</td>\n",
       "      <td>True</td>\n",
       "      <td>3.0</td>\n",
       "      <td>1</td>\n",
       "      <td>33035.0</td>\n",
       "      <td>60.0</td>\n",
       "    </tr>\n",
       "    <tr>\n",
       "      <th>...</th>\n",
       "      <td>...</td>\n",
       "      <td>...</td>\n",
       "      <td>...</td>\n",
       "      <td>...</td>\n",
       "      <td>...</td>\n",
       "      <td>...</td>\n",
       "      <td>...</td>\n",
       "      <td>...</td>\n",
       "    </tr>\n",
       "    <tr>\n",
       "      <th>8090</th>\n",
       "      <td>60990</td>\n",
       "      <td>0.700000</td>\n",
       "      <td>Tidfall</td>\n",
       "      <td>False</td>\n",
       "      <td>1.0</td>\n",
       "      <td>4</td>\n",
       "      <td>34393.0</td>\n",
       "      <td>19.0</td>\n",
       "    </tr>\n",
       "    <tr>\n",
       "      <th>8091</th>\n",
       "      <td>63005</td>\n",
       "      <td>0.700000</td>\n",
       "      <td>Emperor</td>\n",
       "      <td>False</td>\n",
       "      <td>1.0</td>\n",
       "      <td>4</td>\n",
       "      <td>13347.0</td>\n",
       "      <td>42.0</td>\n",
       "    </tr>\n",
       "    <tr>\n",
       "      <th>8092</th>\n",
       "      <td>49377</td>\n",
       "      <td>0.680000</td>\n",
       "      <td>VARIOUS ARTISTS</td>\n",
       "      <td>False</td>\n",
       "      <td>1.0</td>\n",
       "      <td>6</td>\n",
       "      <td>45552.0</td>\n",
       "      <td>19.0</td>\n",
       "    </tr>\n",
       "    <tr>\n",
       "      <th>8093</th>\n",
       "      <td>43600</td>\n",
       "      <td>0.680000</td>\n",
       "      <td>Valensia</td>\n",
       "      <td>False</td>\n",
       "      <td>1.0</td>\n",
       "      <td>6</td>\n",
       "      <td>5581.0</td>\n",
       "      <td>7.0</td>\n",
       "    </tr>\n",
       "    <tr>\n",
       "      <th>8094</th>\n",
       "      <td>49744</td>\n",
       "      <td>0.660000</td>\n",
       "      <td>Spitfire</td>\n",
       "      <td>False</td>\n",
       "      <td>1.0</td>\n",
       "      <td>11</td>\n",
       "      <td>12979.0</td>\n",
       "      <td>10.0</td>\n",
       "    </tr>\n",
       "  </tbody>\n",
       "</table>\n",
       "<p>8095 rows × 8 columns</p>\n",
       "</div>"
      ],
      "text/plain": [
       "      id_band     score                       name  has_transitions  \\\n",
       "0       11143  0.500000                 Cuntscrape             True   \n",
       "1       14768  0.770000  Psychiatric Regurgitation             True   \n",
       "2       16693  0.860000        Four Question Marks             True   \n",
       "3       16950  0.783333                   Acranius             True   \n",
       "4       20572  0.550000             Emergency Gate             True   \n",
       "...       ...       ...                        ...              ...   \n",
       "8090    60990  0.700000                    Tidfall            False   \n",
       "8091    63005  0.700000                    Emperor            False   \n",
       "8092    49377  0.680000            VARIOUS ARTISTS            False   \n",
       "8093    43600  0.680000                   Valensia            False   \n",
       "8094    49744  0.660000                   Spitfire            False   \n",
       "\n",
       "      albumCount  review_count  Followers  Popularity  \n",
       "0            1.0             1     7557.0        18.0  \n",
       "1            1.0             1     4366.0        15.0  \n",
       "2            2.0             1    13204.0         7.0  \n",
       "3            1.0             1    25075.0        24.0  \n",
       "4            3.0             1    33035.0        60.0  \n",
       "...          ...           ...        ...         ...  \n",
       "8090         1.0             4    34393.0        19.0  \n",
       "8091         1.0             4    13347.0        42.0  \n",
       "8092         1.0             6    45552.0        19.0  \n",
       "8093         1.0             6     5581.0         7.0  \n",
       "8094         1.0            11    12979.0        10.0  \n",
       "\n",
       "[8095 rows x 8 columns]"
      ]
     },
     "execution_count": 30,
     "metadata": {},
     "output_type": "execute_result"
    }
   ],
   "source": [
    "Api_df"
   ]
  },
  {
   "cell_type": "code",
   "execution_count": 31,
   "id": "ddf886fb-daca-4221-9608-dfd1119b6307",
   "metadata": {
    "tags": []
   },
   "outputs": [
    {
     "data": {
      "text/plain": [
       "<Axes: xlabel='Followers', ylabel='Count'>"
      ]
     },
     "execution_count": 31,
     "metadata": {},
     "output_type": "execute_result"
    },
    {
     "data": {
      "image/png": "[encoded data removed]",
      "text/plain": [
       "<Figure size 800x550 with 1 Axes>"
      ]
     },
     "metadata": {},
     "output_type": "display_data"
    }
   ],
   "source": [
    "sns.histplot(Api_df['Followers'])"
   ]
  },
  {
   "cell_type": "code",
   "execution_count": 32,
   "id": "6e90e5c0-8540-418d-968e-76e7ea2d1952",
   "metadata": {
    "tags": []
   },
   "outputs": [
    {
     "data": {
      "text/plain": [
       "Index(['id_band', 'score', 'name', 'has_transitions', 'albumCount',\n",
       "       'review_count', 'Followers', 'Popularity'],\n",
       "      dtype='object')"
      ]
     },
     "execution_count": 32,
     "metadata": {},
     "output_type": "execute_result"
    }
   ],
   "source": [
    "Api_df.columns"
   ]
  },
  {
   "cell_type": "code",
   "execution_count": 33,
   "id": "aa8029db-d9d7-4390-95dd-d054dbe0723b",
   "metadata": {
    "tags": []
   },
   "outputs": [
    {
     "data": {
      "text/plain": [
       "Index(['Name', 'Genres', 'Popularity', 'Followers', 'Artist_URI', 'score',\n",
       "       'validation', 'id_band'],\n",
       "      dtype='object')"
      ]
     },
     "execution_count": 33,
     "metadata": {},
     "output_type": "execute_result"
    }
   ],
   "source": [
    "false_Rows.columns"
   ]
  },
  {
   "cell_type": "code",
   "execution_count": 34,
   "id": "8d883f88-036b-4b9c-ae3f-aef4266aebef",
   "metadata": {
    "tags": []
   },
   "outputs": [],
   "source": [
    "filtered_Spotify=false_Rows[['id_band','Name','Popularity','Followers','score']]"
   ]
  },
  {
   "cell_type": "code",
   "execution_count": 35,
   "id": "1ccfd860-f083-410f-bfba-7c5381b165b8",
   "metadata": {
    "tags": []
   },
   "outputs": [
    {
     "data": {
      "text/html": [
       "<div>\n",
       "<style scoped>\n",
       "    .dataframe tbody tr th:only-of-type {\n",
       "        vertical-align: middle;\n",
       "    }\n",
       "\n",
       "    .dataframe tbody tr th {\n",
       "        vertical-align: top;\n",
       "    }\n",
       "\n",
       "    .dataframe thead th {\n",
       "        text-align: right;\n",
       "    }\n",
       "</style>\n",
       "<table border=\"1\" class=\"dataframe\">\n",
       "  <thead>\n",
       "    <tr style=\"text-align: right;\">\n",
       "      <th></th>\n",
       "      <th>id_band</th>\n",
       "      <th>Name</th>\n",
       "      <th>Popularity</th>\n",
       "      <th>Followers</th>\n",
       "      <th>score</th>\n",
       "    </tr>\n",
       "  </thead>\n",
       "  <tbody>\n",
       "    <tr>\n",
       "      <th>2</th>\n",
       "      <td>70188</td>\n",
       "      <td>Currents</td>\n",
       "      <td>58</td>\n",
       "      <td>187066</td>\n",
       "      <td>0.825734</td>\n",
       "    </tr>\n",
       "    <tr>\n",
       "      <th>5</th>\n",
       "      <td>70446</td>\n",
       "      <td>Slaughter to Prevail</td>\n",
       "      <td>56</td>\n",
       "      <td>551299</td>\n",
       "      <td>0.958991</td>\n",
       "    </tr>\n",
       "    <tr>\n",
       "      <th>8</th>\n",
       "      <td>70064</td>\n",
       "      <td>I See Stars</td>\n",
       "      <td>51</td>\n",
       "      <td>451467</td>\n",
       "      <td>0.956013</td>\n",
       "    </tr>\n",
       "    <tr>\n",
       "      <th>9</th>\n",
       "      <td>70361</td>\n",
       "      <td>Make Them Suffer</td>\n",
       "      <td>52</td>\n",
       "      <td>233898</td>\n",
       "      <td>0.804782</td>\n",
       "    </tr>\n",
       "    <tr>\n",
       "      <th>13</th>\n",
       "      <td>70387</td>\n",
       "      <td>Alpha Wolf</td>\n",
       "      <td>50</td>\n",
       "      <td>129182</td>\n",
       "      <td>0.982327</td>\n",
       "    </tr>\n",
       "    <tr>\n",
       "      <th>...</th>\n",
       "      <td>...</td>\n",
       "      <td>...</td>\n",
       "      <td>...</td>\n",
       "      <td>...</td>\n",
       "      <td>...</td>\n",
       "    </tr>\n",
       "    <tr>\n",
       "      <th>995</th>\n",
       "      <td>70049</td>\n",
       "      <td>Cleansing of the Temple</td>\n",
       "      <td>5</td>\n",
       "      <td>1315</td>\n",
       "      <td>0.791989</td>\n",
       "    </tr>\n",
       "    <tr>\n",
       "      <th>996</th>\n",
       "      <td>70238</td>\n",
       "      <td>Sentient Horror</td>\n",
       "      <td>7</td>\n",
       "      <td>6037</td>\n",
       "      <td>0.723132</td>\n",
       "    </tr>\n",
       "    <tr>\n",
       "      <th>997</th>\n",
       "      <td>70048</td>\n",
       "      <td>Purulence</td>\n",
       "      <td>6</td>\n",
       "      <td>2317</td>\n",
       "      <td>0.819247</td>\n",
       "    </tr>\n",
       "    <tr>\n",
       "      <th>998</th>\n",
       "      <td>70212</td>\n",
       "      <td>Emasculated Vituperation</td>\n",
       "      <td>7</td>\n",
       "      <td>916</td>\n",
       "      <td>0.710902</td>\n",
       "    </tr>\n",
       "    <tr>\n",
       "      <th>999</th>\n",
       "      <td>70100</td>\n",
       "      <td>Wirethrone</td>\n",
       "      <td>7</td>\n",
       "      <td>375</td>\n",
       "      <td>0.869833</td>\n",
       "    </tr>\n",
       "  </tbody>\n",
       "</table>\n",
       "<p>436 rows × 5 columns</p>\n",
       "</div>"
      ],
      "text/plain": [
       "     id_band                      Name  Popularity  Followers     score\n",
       "2      70188                  Currents          58     187066  0.825734\n",
       "5      70446      Slaughter to Prevail          56     551299  0.958991\n",
       "8      70064               I See Stars          51     451467  0.956013\n",
       "9      70361          Make Them Suffer          52     233898  0.804782\n",
       "13     70387                Alpha Wolf          50     129182  0.982327\n",
       "..       ...                       ...         ...        ...       ...\n",
       "995    70049   Cleansing of the Temple           5       1315  0.791989\n",
       "996    70238           Sentient Horror           7       6037  0.723132\n",
       "997    70048                 Purulence           6       2317  0.819247\n",
       "998    70212  Emasculated Vituperation           7        916  0.710902\n",
       "999    70100                Wirethrone           7        375  0.869833\n",
       "\n",
       "[436 rows x 5 columns]"
      ]
     },
     "execution_count": 35,
     "metadata": {},
     "output_type": "execute_result"
    }
   ],
   "source": [
    "filtered_Spotify"
   ]
  },
  {
   "cell_type": "code",
   "execution_count": 36,
   "id": "4fab16d4-da22-453a-864d-25b256ce8da7",
   "metadata": {
    "tags": []
   },
   "outputs": [],
   "source": [
    "filtered_Spotify['has_transitions']=np.random.choice([True, False], size=len(filtered_Spotify), p=[0.4, 0.6])"
   ]
  },
  {
   "cell_type": "code",
   "execution_count": 37,
   "id": "7cdbb8d4-a6f9-4431-9256-8c71ce84ef17",
   "metadata": {
    "tags": []
   },
   "outputs": [
    {
     "data": {
      "text/html": [
       "<div>\n",
       "<style scoped>\n",
       "    .dataframe tbody tr th:only-of-type {\n",
       "        vertical-align: middle;\n",
       "    }\n",
       "\n",
       "    .dataframe tbody tr th {\n",
       "        vertical-align: top;\n",
       "    }\n",
       "\n",
       "    .dataframe thead th {\n",
       "        text-align: right;\n",
       "    }\n",
       "</style>\n",
       "<table border=\"1\" class=\"dataframe\">\n",
       "  <thead>\n",
       "    <tr style=\"text-align: right;\">\n",
       "      <th></th>\n",
       "      <th>id_band</th>\n",
       "      <th>Name</th>\n",
       "      <th>Popularity</th>\n",
       "      <th>Followers</th>\n",
       "      <th>score</th>\n",
       "      <th>has_transitions</th>\n",
       "    </tr>\n",
       "  </thead>\n",
       "  <tbody>\n",
       "    <tr>\n",
       "      <th>2</th>\n",
       "      <td>70188</td>\n",
       "      <td>Currents</td>\n",
       "      <td>58</td>\n",
       "      <td>187066</td>\n",
       "      <td>0.825734</td>\n",
       "      <td>False</td>\n",
       "    </tr>\n",
       "    <tr>\n",
       "      <th>5</th>\n",
       "      <td>70446</td>\n",
       "      <td>Slaughter to Prevail</td>\n",
       "      <td>56</td>\n",
       "      <td>551299</td>\n",
       "      <td>0.958991</td>\n",
       "      <td>False</td>\n",
       "    </tr>\n",
       "    <tr>\n",
       "      <th>8</th>\n",
       "      <td>70064</td>\n",
       "      <td>I See Stars</td>\n",
       "      <td>51</td>\n",
       "      <td>451467</td>\n",
       "      <td>0.956013</td>\n",
       "      <td>True</td>\n",
       "    </tr>\n",
       "    <tr>\n",
       "      <th>9</th>\n",
       "      <td>70361</td>\n",
       "      <td>Make Them Suffer</td>\n",
       "      <td>52</td>\n",
       "      <td>233898</td>\n",
       "      <td>0.804782</td>\n",
       "      <td>True</td>\n",
       "    </tr>\n",
       "    <tr>\n",
       "      <th>13</th>\n",
       "      <td>70387</td>\n",
       "      <td>Alpha Wolf</td>\n",
       "      <td>50</td>\n",
       "      <td>129182</td>\n",
       "      <td>0.982327</td>\n",
       "      <td>False</td>\n",
       "    </tr>\n",
       "    <tr>\n",
       "      <th>...</th>\n",
       "      <td>...</td>\n",
       "      <td>...</td>\n",
       "      <td>...</td>\n",
       "      <td>...</td>\n",
       "      <td>...</td>\n",
       "      <td>...</td>\n",
       "    </tr>\n",
       "    <tr>\n",
       "      <th>995</th>\n",
       "      <td>70049</td>\n",
       "      <td>Cleansing of the Temple</td>\n",
       "      <td>5</td>\n",
       "      <td>1315</td>\n",
       "      <td>0.791989</td>\n",
       "      <td>True</td>\n",
       "    </tr>\n",
       "    <tr>\n",
       "      <th>996</th>\n",
       "      <td>70238</td>\n",
       "      <td>Sentient Horror</td>\n",
       "      <td>7</td>\n",
       "      <td>6037</td>\n",
       "      <td>0.723132</td>\n",
       "      <td>True</td>\n",
       "    </tr>\n",
       "    <tr>\n",
       "      <th>997</th>\n",
       "      <td>70048</td>\n",
       "      <td>Purulence</td>\n",
       "      <td>6</td>\n",
       "      <td>2317</td>\n",
       "      <td>0.819247</td>\n",
       "      <td>False</td>\n",
       "    </tr>\n",
       "    <tr>\n",
       "      <th>998</th>\n",
       "      <td>70212</td>\n",
       "      <td>Emasculated Vituperation</td>\n",
       "      <td>7</td>\n",
       "      <td>916</td>\n",
       "      <td>0.710902</td>\n",
       "      <td>True</td>\n",
       "    </tr>\n",
       "    <tr>\n",
       "      <th>999</th>\n",
       "      <td>70100</td>\n",
       "      <td>Wirethrone</td>\n",
       "      <td>7</td>\n",
       "      <td>375</td>\n",
       "      <td>0.869833</td>\n",
       "      <td>False</td>\n",
       "    </tr>\n",
       "  </tbody>\n",
       "</table>\n",
       "<p>436 rows × 6 columns</p>\n",
       "</div>"
      ],
      "text/plain": [
       "     id_band                      Name  Popularity  Followers     score  \\\n",
       "2      70188                  Currents          58     187066  0.825734   \n",
       "5      70446      Slaughter to Prevail          56     551299  0.958991   \n",
       "8      70064               I See Stars          51     451467  0.956013   \n",
       "9      70361          Make Them Suffer          52     233898  0.804782   \n",
       "13     70387                Alpha Wolf          50     129182  0.982327   \n",
       "..       ...                       ...         ...        ...       ...   \n",
       "995    70049   Cleansing of the Temple           5       1315  0.791989   \n",
       "996    70238           Sentient Horror           7       6037  0.723132   \n",
       "997    70048                 Purulence           6       2317  0.819247   \n",
       "998    70212  Emasculated Vituperation           7        916  0.710902   \n",
       "999    70100                Wirethrone           7        375  0.869833   \n",
       "\n",
       "     has_transitions  \n",
       "2              False  \n",
       "5              False  \n",
       "8               True  \n",
       "9               True  \n",
       "13             False  \n",
       "..               ...  \n",
       "995             True  \n",
       "996             True  \n",
       "997            False  \n",
       "998             True  \n",
       "999            False  \n",
       "\n",
       "[436 rows x 6 columns]"
      ]
     },
     "execution_count": 37,
     "metadata": {},
     "output_type": "execute_result"
    }
   ],
   "source": [
    "filtered_Spotify"
   ]
  },
  {
   "cell_type": "code",
   "execution_count": 38,
   "id": "e9b3edf9-8323-4626-b3d4-bd720db779e7",
   "metadata": {
    "tags": []
   },
   "outputs": [
    {
     "data": {
      "text/plain": [
       "<Axes: xlabel='albumCount', ylabel='Count'>"
      ]
     },
     "execution_count": 38,
     "metadata": {},
     "output_type": "execute_result"
    },
    {
     "data": {
      "image/png": "[encoded data removed]",
      "text/plain": [
       "<Figure size 800x550 with 1 Axes>"
      ]
     },
     "metadata": {},
     "output_type": "display_data"
    }
   ],
   "source": [
    "sns.histplot(Api_df['albumCount'])"
   ]
  },
  {
   "cell_type": "code",
   "execution_count": 39,
   "id": "749c895a-0efa-4b77-8bd1-b3b7ac7342af",
   "metadata": {
    "tags": []
   },
   "outputs": [
    {
     "data": {
      "text/plain": [
       "<Axes: xlabel='review_count', ylabel='Count'>"
      ]
     },
     "execution_count": 39,
     "metadata": {},
     "output_type": "execute_result"
    },
    {
     "data": {
      "image/png": "[encoded data removed]",
      "text/plain": [
       "<Figure size 800x550 with 1 Axes>"
      ]
     },
     "metadata": {},
     "output_type": "display_data"
    }
   ],
   "source": [
    "sns.histplot(Api_df['review_count'],log_scale=True)"
   ]
  },
  {
   "cell_type": "code",
   "execution_count": 40,
   "id": "3db6ab73-8234-4c4b-ab02-deeaed0a6860",
   "metadata": {
    "tags": []
   },
   "outputs": [
    {
     "data": {
      "text/html": [
       "<div>\n",
       "<style scoped>\n",
       "    .dataframe tbody tr th:only-of-type {\n",
       "        vertical-align: middle;\n",
       "    }\n",
       "\n",
       "    .dataframe tbody tr th {\n",
       "        vertical-align: top;\n",
       "    }\n",
       "\n",
       "    .dataframe thead th {\n",
       "        text-align: right;\n",
       "    }\n",
       "</style>\n",
       "<table border=\"1\" class=\"dataframe\">\n",
       "  <thead>\n",
       "    <tr style=\"text-align: right;\">\n",
       "      <th></th>\n",
       "      <th>id_band</th>\n",
       "      <th>score</th>\n",
       "      <th>name</th>\n",
       "      <th>has_transitions</th>\n",
       "      <th>albumCount</th>\n",
       "      <th>review_count</th>\n",
       "      <th>Followers</th>\n",
       "      <th>Popularity</th>\n",
       "    </tr>\n",
       "  </thead>\n",
       "  <tbody>\n",
       "    <tr>\n",
       "      <th>0</th>\n",
       "      <td>11143</td>\n",
       "      <td>0.500000</td>\n",
       "      <td>Cuntscrape</td>\n",
       "      <td>True</td>\n",
       "      <td>1.0</td>\n",
       "      <td>1</td>\n",
       "      <td>7557.0</td>\n",
       "      <td>18.0</td>\n",
       "    </tr>\n",
       "    <tr>\n",
       "      <th>1</th>\n",
       "      <td>14768</td>\n",
       "      <td>0.770000</td>\n",
       "      <td>Psychiatric Regurgitation</td>\n",
       "      <td>True</td>\n",
       "      <td>1.0</td>\n",
       "      <td>1</td>\n",
       "      <td>4366.0</td>\n",
       "      <td>15.0</td>\n",
       "    </tr>\n",
       "    <tr>\n",
       "      <th>2</th>\n",
       "      <td>16693</td>\n",
       "      <td>0.860000</td>\n",
       "      <td>Four Question Marks</td>\n",
       "      <td>True</td>\n",
       "      <td>2.0</td>\n",
       "      <td>1</td>\n",
       "      <td>13204.0</td>\n",
       "      <td>7.0</td>\n",
       "    </tr>\n",
       "    <tr>\n",
       "      <th>3</th>\n",
       "      <td>16950</td>\n",
       "      <td>0.783333</td>\n",
       "      <td>Acranius</td>\n",
       "      <td>True</td>\n",
       "      <td>1.0</td>\n",
       "      <td>1</td>\n",
       "      <td>25075.0</td>\n",
       "      <td>24.0</td>\n",
       "    </tr>\n",
       "    <tr>\n",
       "      <th>4</th>\n",
       "      <td>20572</td>\n",
       "      <td>0.550000</td>\n",
       "      <td>Emergency Gate</td>\n",
       "      <td>True</td>\n",
       "      <td>3.0</td>\n",
       "      <td>1</td>\n",
       "      <td>33035.0</td>\n",
       "      <td>60.0</td>\n",
       "    </tr>\n",
       "    <tr>\n",
       "      <th>...</th>\n",
       "      <td>...</td>\n",
       "      <td>...</td>\n",
       "      <td>...</td>\n",
       "      <td>...</td>\n",
       "      <td>...</td>\n",
       "      <td>...</td>\n",
       "      <td>...</td>\n",
       "      <td>...</td>\n",
       "    </tr>\n",
       "    <tr>\n",
       "      <th>8090</th>\n",
       "      <td>60990</td>\n",
       "      <td>0.700000</td>\n",
       "      <td>Tidfall</td>\n",
       "      <td>False</td>\n",
       "      <td>1.0</td>\n",
       "      <td>4</td>\n",
       "      <td>34393.0</td>\n",
       "      <td>19.0</td>\n",
       "    </tr>\n",
       "    <tr>\n",
       "      <th>8091</th>\n",
       "      <td>63005</td>\n",
       "      <td>0.700000</td>\n",
       "      <td>Emperor</td>\n",
       "      <td>False</td>\n",
       "      <td>1.0</td>\n",
       "      <td>4</td>\n",
       "      <td>13347.0</td>\n",
       "      <td>42.0</td>\n",
       "    </tr>\n",
       "    <tr>\n",
       "      <th>8092</th>\n",
       "      <td>49377</td>\n",
       "      <td>0.680000</td>\n",
       "      <td>VARIOUS ARTISTS</td>\n",
       "      <td>False</td>\n",
       "      <td>1.0</td>\n",
       "      <td>6</td>\n",
       "      <td>45552.0</td>\n",
       "      <td>19.0</td>\n",
       "    </tr>\n",
       "    <tr>\n",
       "      <th>8093</th>\n",
       "      <td>43600</td>\n",
       "      <td>0.680000</td>\n",
       "      <td>Valensia</td>\n",
       "      <td>False</td>\n",
       "      <td>1.0</td>\n",
       "      <td>6</td>\n",
       "      <td>5581.0</td>\n",
       "      <td>7.0</td>\n",
       "    </tr>\n",
       "    <tr>\n",
       "      <th>8094</th>\n",
       "      <td>49744</td>\n",
       "      <td>0.660000</td>\n",
       "      <td>Spitfire</td>\n",
       "      <td>False</td>\n",
       "      <td>1.0</td>\n",
       "      <td>11</td>\n",
       "      <td>12979.0</td>\n",
       "      <td>10.0</td>\n",
       "    </tr>\n",
       "  </tbody>\n",
       "</table>\n",
       "<p>8095 rows × 8 columns</p>\n",
       "</div>"
      ],
      "text/plain": [
       "      id_band     score                       name  has_transitions  \\\n",
       "0       11143  0.500000                 Cuntscrape             True   \n",
       "1       14768  0.770000  Psychiatric Regurgitation             True   \n",
       "2       16693  0.860000        Four Question Marks             True   \n",
       "3       16950  0.783333                   Acranius             True   \n",
       "4       20572  0.550000             Emergency Gate             True   \n",
       "...       ...       ...                        ...              ...   \n",
       "8090    60990  0.700000                    Tidfall            False   \n",
       "8091    63005  0.700000                    Emperor            False   \n",
       "8092    49377  0.680000            VARIOUS ARTISTS            False   \n",
       "8093    43600  0.680000                   Valensia            False   \n",
       "8094    49744  0.660000                   Spitfire            False   \n",
       "\n",
       "      albumCount  review_count  Followers  Popularity  \n",
       "0            1.0             1     7557.0        18.0  \n",
       "1            1.0             1     4366.0        15.0  \n",
       "2            2.0             1    13204.0         7.0  \n",
       "3            1.0             1    25075.0        24.0  \n",
       "4            3.0             1    33035.0        60.0  \n",
       "...          ...           ...        ...         ...  \n",
       "8090         1.0             4    34393.0        19.0  \n",
       "8091         1.0             4    13347.0        42.0  \n",
       "8092         1.0             6    45552.0        19.0  \n",
       "8093         1.0             6     5581.0         7.0  \n",
       "8094         1.0            11    12979.0        10.0  \n",
       "\n",
       "[8095 rows x 8 columns]"
      ]
     },
     "execution_count": 40,
     "metadata": {},
     "output_type": "execute_result"
    }
   ],
   "source": [
    "Api_df"
   ]
  },
  {
   "cell_type": "code",
   "execution_count": 41,
   "id": "12129b46-8336-44e2-81a3-976c07b6715d",
   "metadata": {
    "tags": []
   },
   "outputs": [
    {
     "data": {
      "text/plain": [
       "count    8095.000000\n",
       "mean       29.235948\n",
       "std       227.354840\n",
       "min         1.000000\n",
       "25%         1.000000\n",
       "50%         1.000000\n",
       "75%         6.000000\n",
       "max      8596.000000\n",
       "Name: review_count, dtype: float64"
      ]
     },
     "execution_count": 41,
     "metadata": {},
     "output_type": "execute_result"
    }
   ],
   "source": [
    "Api_df['review_count'].describe()"
   ]
  },
  {
   "cell_type": "code",
   "execution_count": 42,
   "id": "a19b68cd-cb90-4056-a22e-33bfb8587cd6",
   "metadata": {
    "tags": []
   },
   "outputs": [
    {
     "data": {
      "text/plain": [
       "count    8095.000000\n",
       "mean        1.403088\n",
       "std         1.205155\n",
       "min         1.000000\n",
       "25%         1.000000\n",
       "50%         1.000000\n",
       "75%         1.000000\n",
       "max        17.000000\n",
       "Name: albumCount, dtype: float64"
      ]
     },
     "execution_count": 42,
     "metadata": {},
     "output_type": "execute_result"
    }
   ],
   "source": [
    "Api_df['albumCount'].describe()"
   ]
  },
  {
   "cell_type": "code",
   "execution_count": 43,
   "id": "d03b85cb-cadb-443d-8188-f54c7862972b",
   "metadata": {
    "tags": []
   },
   "outputs": [
    {
     "name": "stdout",
     "output_type": "stream",
     "text": [
      "Mean: 1.570826350690544\n",
      "Std deviation: 1.0120225501888909\n",
      "Min: 1.0\n",
      "Max: 9.994269155815081\n"
     ]
    }
   ],
   "source": [
    "# Datos originales\n",
    "alb_mean = 1.403088\n",
    "alb_var = 1.205155 ** 2  # Variance, not standard deviation\n",
    "\n",
    "# Calcular los parámetros de la distribución log-normal\n",
    "mu_alb = np.log(alb_mean**2 / np.sqrt(alb_var + alb_mean**2))\n",
    "sigma_alb = np.sqrt(np.log(alb_var / alb_mean**2 + 1))\n",
    "\n",
    "# Generar datos aleatorios con la distribución log-normal\n",
    "data_alb = np.random.lognormal(mean=mu_alb, sigma=sigma_alb, size=1000)\n",
    "\n",
    "# Asegurarse de que los datos estén en el rango deseado [min_followers, max_followers]\n",
    "min_alb = 1\n",
    "max_alb = 17\n",
    "data_clipped_alb = np.clip(data_alb, min_alb, max_alb)\n",
    "\n",
    "# Imprimir estadísticas básicas de los datos generados\n",
    "print('Mean:', np.mean(data_clipped_alb))\n",
    "print('Std deviation:', np.std(data_clipped_alb))\n",
    "print('Min:', np.min(data_clipped_alb))\n",
    "print('Max:', np.max(data_clipped_alb))"
   ]
  },
  {
   "cell_type": "code",
   "execution_count": 44,
   "id": "37684fb0-0c24-47a5-95cd-3f2c4b7a0e8f",
   "metadata": {
    "tags": []
   },
   "outputs": [
    {
     "name": "stdout",
     "output_type": "stream",
     "text": [
      "Mean: 27.260368179053447\n",
      "Std deviation: 99.1004114630863\n",
      "Min: 1.0\n",
      "Max: 1715.2972992772882\n"
     ]
    }
   ],
   "source": [
    "# Datos originales\n",
    "rev_mean = 29.235948\n",
    "rev_var = 227.354840** 2  # Variance, not standard deviation\n",
    "\n",
    "# Calcular los parámetros de la distribución log-normal\n",
    "mu_rev = np.log(rev_mean**2 / np.sqrt(rev_var + rev_mean**2))\n",
    "sigma_rev = np.sqrt(np.log(rev_var / rev_mean**2 + 1))\n",
    "\n",
    "# Generar datos aleatorios con la distribución log-normal\n",
    "data_rev = np.random.lognormal(mean=mu_rev, sigma=sigma_rev, size=1000)\n",
    "\n",
    "# Asegurarse de que los datos estén en el rango deseado [min_followers, max_followers]\n",
    "min_rev = 1\n",
    "max_rev = 8596\n",
    "data_clipped_rev = np.clip(data_rev, min_rev, max_rev)\n",
    "\n",
    "# Imprimir estadísticas básicas de los datos generados\n",
    "print('Mean:', np.mean(data_clipped_rev))\n",
    "print('Std deviation:', np.std(data_clipped_rev))\n",
    "print('Min:', np.min(data_clipped_rev))\n",
    "print('Max:', np.max(data_clipped_rev))"
   ]
  },
  {
   "cell_type": "code",
   "execution_count": 45,
   "id": "7092158a-28d5-454a-8126-80e2087fffe6",
   "metadata": {
    "tags": []
   },
   "outputs": [],
   "source": [
    "filtered_Spotify['review_count']=false_Rows.apply(lambda x:round(np.clip(np.random.lognormal(mean=mu_rev, sigma=sigma_rev),min_rev,max_rev),0),axis=1)\n",
    "filtered_Spotify['albumCount']=false_Rows.apply(lambda x:round(np.clip(np.random.lognormal(mean=mu_alb, sigma=sigma_alb),min_alb,max_alb),0),axis=1)"
   ]
  },
  {
   "cell_type": "code",
   "execution_count": 46,
   "id": "e559b083-a4a9-408c-b67f-113fd389fe54",
   "metadata": {
    "tags": []
   },
   "outputs": [
    {
     "data": {
      "text/html": [
       "<div>\n",
       "<style scoped>\n",
       "    .dataframe tbody tr th:only-of-type {\n",
       "        vertical-align: middle;\n",
       "    }\n",
       "\n",
       "    .dataframe tbody tr th {\n",
       "        vertical-align: top;\n",
       "    }\n",
       "\n",
       "    .dataframe thead th {\n",
       "        text-align: right;\n",
       "    }\n",
       "</style>\n",
       "<table border=\"1\" class=\"dataframe\">\n",
       "  <thead>\n",
       "    <tr style=\"text-align: right;\">\n",
       "      <th></th>\n",
       "      <th>id_band</th>\n",
       "      <th>Name</th>\n",
       "      <th>Popularity</th>\n",
       "      <th>Followers</th>\n",
       "      <th>score</th>\n",
       "      <th>has_transitions</th>\n",
       "      <th>review_count</th>\n",
       "      <th>albumCount</th>\n",
       "    </tr>\n",
       "  </thead>\n",
       "  <tbody>\n",
       "    <tr>\n",
       "      <th>2</th>\n",
       "      <td>70188</td>\n",
       "      <td>Currents</td>\n",
       "      <td>58</td>\n",
       "      <td>187066</td>\n",
       "      <td>0.825734</td>\n",
       "      <td>False</td>\n",
       "      <td>43.0</td>\n",
       "      <td>2.0</td>\n",
       "    </tr>\n",
       "    <tr>\n",
       "      <th>5</th>\n",
       "      <td>70446</td>\n",
       "      <td>Slaughter to Prevail</td>\n",
       "      <td>56</td>\n",
       "      <td>551299</td>\n",
       "      <td>0.958991</td>\n",
       "      <td>False</td>\n",
       "      <td>4.0</td>\n",
       "      <td>1.0</td>\n",
       "    </tr>\n",
       "    <tr>\n",
       "      <th>8</th>\n",
       "      <td>70064</td>\n",
       "      <td>I See Stars</td>\n",
       "      <td>51</td>\n",
       "      <td>451467</td>\n",
       "      <td>0.956013</td>\n",
       "      <td>True</td>\n",
       "      <td>28.0</td>\n",
       "      <td>1.0</td>\n",
       "    </tr>\n",
       "    <tr>\n",
       "      <th>9</th>\n",
       "      <td>70361</td>\n",
       "      <td>Make Them Suffer</td>\n",
       "      <td>52</td>\n",
       "      <td>233898</td>\n",
       "      <td>0.804782</td>\n",
       "      <td>True</td>\n",
       "      <td>71.0</td>\n",
       "      <td>1.0</td>\n",
       "    </tr>\n",
       "    <tr>\n",
       "      <th>13</th>\n",
       "      <td>70387</td>\n",
       "      <td>Alpha Wolf</td>\n",
       "      <td>50</td>\n",
       "      <td>129182</td>\n",
       "      <td>0.982327</td>\n",
       "      <td>False</td>\n",
       "      <td>5.0</td>\n",
       "      <td>1.0</td>\n",
       "    </tr>\n",
       "    <tr>\n",
       "      <th>...</th>\n",
       "      <td>...</td>\n",
       "      <td>...</td>\n",
       "      <td>...</td>\n",
       "      <td>...</td>\n",
       "      <td>...</td>\n",
       "      <td>...</td>\n",
       "      <td>...</td>\n",
       "      <td>...</td>\n",
       "    </tr>\n",
       "    <tr>\n",
       "      <th>995</th>\n",
       "      <td>70049</td>\n",
       "      <td>Cleansing of the Temple</td>\n",
       "      <td>5</td>\n",
       "      <td>1315</td>\n",
       "      <td>0.791989</td>\n",
       "      <td>True</td>\n",
       "      <td>52.0</td>\n",
       "      <td>1.0</td>\n",
       "    </tr>\n",
       "    <tr>\n",
       "      <th>996</th>\n",
       "      <td>70238</td>\n",
       "      <td>Sentient Horror</td>\n",
       "      <td>7</td>\n",
       "      <td>6037</td>\n",
       "      <td>0.723132</td>\n",
       "      <td>True</td>\n",
       "      <td>9.0</td>\n",
       "      <td>1.0</td>\n",
       "    </tr>\n",
       "    <tr>\n",
       "      <th>997</th>\n",
       "      <td>70048</td>\n",
       "      <td>Purulence</td>\n",
       "      <td>6</td>\n",
       "      <td>2317</td>\n",
       "      <td>0.819247</td>\n",
       "      <td>False</td>\n",
       "      <td>66.0</td>\n",
       "      <td>1.0</td>\n",
       "    </tr>\n",
       "    <tr>\n",
       "      <th>998</th>\n",
       "      <td>70212</td>\n",
       "      <td>Emasculated Vituperation</td>\n",
       "      <td>7</td>\n",
       "      <td>916</td>\n",
       "      <td>0.710902</td>\n",
       "      <td>True</td>\n",
       "      <td>33.0</td>\n",
       "      <td>1.0</td>\n",
       "    </tr>\n",
       "    <tr>\n",
       "      <th>999</th>\n",
       "      <td>70100</td>\n",
       "      <td>Wirethrone</td>\n",
       "      <td>7</td>\n",
       "      <td>375</td>\n",
       "      <td>0.869833</td>\n",
       "      <td>False</td>\n",
       "      <td>36.0</td>\n",
       "      <td>3.0</td>\n",
       "    </tr>\n",
       "  </tbody>\n",
       "</table>\n",
       "<p>436 rows × 8 columns</p>\n",
       "</div>"
      ],
      "text/plain": [
       "     id_band                      Name  Popularity  Followers     score  \\\n",
       "2      70188                  Currents          58     187066  0.825734   \n",
       "5      70446      Slaughter to Prevail          56     551299  0.958991   \n",
       "8      70064               I See Stars          51     451467  0.956013   \n",
       "9      70361          Make Them Suffer          52     233898  0.804782   \n",
       "13     70387                Alpha Wolf          50     129182  0.982327   \n",
       "..       ...                       ...         ...        ...       ...   \n",
       "995    70049   Cleansing of the Temple           5       1315  0.791989   \n",
       "996    70238           Sentient Horror           7       6037  0.723132   \n",
       "997    70048                 Purulence           6       2317  0.819247   \n",
       "998    70212  Emasculated Vituperation           7        916  0.710902   \n",
       "999    70100                Wirethrone           7        375  0.869833   \n",
       "\n",
       "     has_transitions  review_count  albumCount  \n",
       "2              False          43.0         2.0  \n",
       "5              False           4.0         1.0  \n",
       "8               True          28.0         1.0  \n",
       "9               True          71.0         1.0  \n",
       "13             False           5.0         1.0  \n",
       "..               ...           ...         ...  \n",
       "995             True          52.0         1.0  \n",
       "996             True           9.0         1.0  \n",
       "997            False          66.0         1.0  \n",
       "998             True          33.0         1.0  \n",
       "999            False          36.0         3.0  \n",
       "\n",
       "[436 rows x 8 columns]"
      ]
     },
     "execution_count": 46,
     "metadata": {},
     "output_type": "execute_result"
    }
   ],
   "source": [
    "filtered_Spotify"
   ]
  },
  {
   "cell_type": "code",
   "execution_count": 47,
   "id": "8a7150f1-b26a-4348-a4b3-bfbd9ddfe1c4",
   "metadata": {
    "tags": []
   },
   "outputs": [
    {
     "data": {
      "text/plain": [
       "count    436.000000\n",
       "mean       1.497706\n",
       "std        1.129538\n",
       "min        1.000000\n",
       "25%        1.000000\n",
       "50%        1.000000\n",
       "75%        2.000000\n",
       "max       10.000000\n",
       "Name: albumCount, dtype: float64"
      ]
     },
     "execution_count": 47,
     "metadata": {},
     "output_type": "execute_result"
    }
   ],
   "source": [
    "filtered_Spotify['albumCount'].describe()"
   ]
  },
  {
   "cell_type": "code",
   "execution_count": 48,
   "id": "3693177f-1c28-47e3-b458-cb594b444252",
   "metadata": {
    "tags": []
   },
   "outputs": [
    {
     "data": {
      "text/plain": [
       "count    436.000000\n",
       "mean      20.933486\n",
       "std       52.070886\n",
       "min        1.000000\n",
       "25%        1.000000\n",
       "50%        4.000000\n",
       "75%       16.000000\n",
       "max      508.000000\n",
       "Name: review_count, dtype: float64"
      ]
     },
     "execution_count": 48,
     "metadata": {},
     "output_type": "execute_result"
    }
   ],
   "source": [
    "filtered_Spotify['review_count'].describe()"
   ]
  },
  {
   "cell_type": "code",
   "execution_count": 49,
   "id": "bda549ec-5e81-4086-b4b8-cdfe35394a7e",
   "metadata": {
    "tags": []
   },
   "outputs": [],
   "source": [
    "final_spotify=filtered_Spotify.copy()\n",
    "final_spotify.drop(columns=['Name'],axis=1,inplace=True)"
   ]
  },
  {
   "cell_type": "code",
   "execution_count": 50,
   "id": "da8d7c5d-88e6-450d-b941-2afcb2809124",
   "metadata": {
    "tags": []
   },
   "outputs": [
    {
     "data": {
      "text/html": [
       "<div>\n",
       "<style scoped>\n",
       "    .dataframe tbody tr th:only-of-type {\n",
       "        vertical-align: middle;\n",
       "    }\n",
       "\n",
       "    .dataframe tbody tr th {\n",
       "        vertical-align: top;\n",
       "    }\n",
       "\n",
       "    .dataframe thead th {\n",
       "        text-align: right;\n",
       "    }\n",
       "</style>\n",
       "<table border=\"1\" class=\"dataframe\">\n",
       "  <thead>\n",
       "    <tr style=\"text-align: right;\">\n",
       "      <th></th>\n",
       "      <th>id_band</th>\n",
       "      <th>Popularity</th>\n",
       "      <th>Followers</th>\n",
       "      <th>score</th>\n",
       "      <th>has_transitions</th>\n",
       "      <th>review_count</th>\n",
       "      <th>albumCount</th>\n",
       "    </tr>\n",
       "  </thead>\n",
       "  <tbody>\n",
       "    <tr>\n",
       "      <th>2</th>\n",
       "      <td>70188</td>\n",
       "      <td>58</td>\n",
       "      <td>187066</td>\n",
       "      <td>0.825734</td>\n",
       "      <td>False</td>\n",
       "      <td>43.0</td>\n",
       "      <td>2.0</td>\n",
       "    </tr>\n",
       "    <tr>\n",
       "      <th>5</th>\n",
       "      <td>70446</td>\n",
       "      <td>56</td>\n",
       "      <td>551299</td>\n",
       "      <td>0.958991</td>\n",
       "      <td>False</td>\n",
       "      <td>4.0</td>\n",
       "      <td>1.0</td>\n",
       "    </tr>\n",
       "    <tr>\n",
       "      <th>8</th>\n",
       "      <td>70064</td>\n",
       "      <td>51</td>\n",
       "      <td>451467</td>\n",
       "      <td>0.956013</td>\n",
       "      <td>True</td>\n",
       "      <td>28.0</td>\n",
       "      <td>1.0</td>\n",
       "    </tr>\n",
       "    <tr>\n",
       "      <th>9</th>\n",
       "      <td>70361</td>\n",
       "      <td>52</td>\n",
       "      <td>233898</td>\n",
       "      <td>0.804782</td>\n",
       "      <td>True</td>\n",
       "      <td>71.0</td>\n",
       "      <td>1.0</td>\n",
       "    </tr>\n",
       "    <tr>\n",
       "      <th>13</th>\n",
       "      <td>70387</td>\n",
       "      <td>50</td>\n",
       "      <td>129182</td>\n",
       "      <td>0.982327</td>\n",
       "      <td>False</td>\n",
       "      <td>5.0</td>\n",
       "      <td>1.0</td>\n",
       "    </tr>\n",
       "    <tr>\n",
       "      <th>...</th>\n",
       "      <td>...</td>\n",
       "      <td>...</td>\n",
       "      <td>...</td>\n",
       "      <td>...</td>\n",
       "      <td>...</td>\n",
       "      <td>...</td>\n",
       "      <td>...</td>\n",
       "    </tr>\n",
       "    <tr>\n",
       "      <th>995</th>\n",
       "      <td>70049</td>\n",
       "      <td>5</td>\n",
       "      <td>1315</td>\n",
       "      <td>0.791989</td>\n",
       "      <td>True</td>\n",
       "      <td>52.0</td>\n",
       "      <td>1.0</td>\n",
       "    </tr>\n",
       "    <tr>\n",
       "      <th>996</th>\n",
       "      <td>70238</td>\n",
       "      <td>7</td>\n",
       "      <td>6037</td>\n",
       "      <td>0.723132</td>\n",
       "      <td>True</td>\n",
       "      <td>9.0</td>\n",
       "      <td>1.0</td>\n",
       "    </tr>\n",
       "    <tr>\n",
       "      <th>997</th>\n",
       "      <td>70048</td>\n",
       "      <td>6</td>\n",
       "      <td>2317</td>\n",
       "      <td>0.819247</td>\n",
       "      <td>False</td>\n",
       "      <td>66.0</td>\n",
       "      <td>1.0</td>\n",
       "    </tr>\n",
       "    <tr>\n",
       "      <th>998</th>\n",
       "      <td>70212</td>\n",
       "      <td>7</td>\n",
       "      <td>916</td>\n",
       "      <td>0.710902</td>\n",
       "      <td>True</td>\n",
       "      <td>33.0</td>\n",
       "      <td>1.0</td>\n",
       "    </tr>\n",
       "    <tr>\n",
       "      <th>999</th>\n",
       "      <td>70100</td>\n",
       "      <td>7</td>\n",
       "      <td>375</td>\n",
       "      <td>0.869833</td>\n",
       "      <td>False</td>\n",
       "      <td>36.0</td>\n",
       "      <td>3.0</td>\n",
       "    </tr>\n",
       "  </tbody>\n",
       "</table>\n",
       "<p>436 rows × 7 columns</p>\n",
       "</div>"
      ],
      "text/plain": [
       "     id_band  Popularity  Followers     score  has_transitions  review_count  \\\n",
       "2      70188          58     187066  0.825734            False          43.0   \n",
       "5      70446          56     551299  0.958991            False           4.0   \n",
       "8      70064          51     451467  0.956013             True          28.0   \n",
       "9      70361          52     233898  0.804782             True          71.0   \n",
       "13     70387          50     129182  0.982327            False           5.0   \n",
       "..       ...         ...        ...       ...              ...           ...   \n",
       "995    70049           5       1315  0.791989             True          52.0   \n",
       "996    70238           7       6037  0.723132             True           9.0   \n",
       "997    70048           6       2317  0.819247            False          66.0   \n",
       "998    70212           7        916  0.710902             True          33.0   \n",
       "999    70100           7        375  0.869833            False          36.0   \n",
       "\n",
       "     albumCount  \n",
       "2           2.0  \n",
       "5           1.0  \n",
       "8           1.0  \n",
       "9           1.0  \n",
       "13          1.0  \n",
       "..          ...  \n",
       "995         1.0  \n",
       "996         1.0  \n",
       "997         1.0  \n",
       "998         1.0  \n",
       "999         3.0  \n",
       "\n",
       "[436 rows x 7 columns]"
      ]
     },
     "execution_count": 50,
     "metadata": {},
     "output_type": "execute_result"
    }
   ],
   "source": [
    "final_spotify"
   ]
  },
  {
   "cell_type": "code",
   "execution_count": 51,
   "id": "9bddfdac-ceed-4506-b5af-a1043c3c4edd",
   "metadata": {
    "tags": []
   },
   "outputs": [
    {
     "data": {
      "text/html": [
       "<div>\n",
       "<style scoped>\n",
       "    .dataframe tbody tr th:only-of-type {\n",
       "        vertical-align: middle;\n",
       "    }\n",
       "\n",
       "    .dataframe tbody tr th {\n",
       "        vertical-align: top;\n",
       "    }\n",
       "\n",
       "    .dataframe thead th {\n",
       "        text-align: right;\n",
       "    }\n",
       "</style>\n",
       "<table border=\"1\" class=\"dataframe\">\n",
       "  <thead>\n",
       "    <tr style=\"text-align: right;\">\n",
       "      <th></th>\n",
       "      <th>id_band</th>\n",
       "      <th>score</th>\n",
       "      <th>name</th>\n",
       "      <th>has_transitions</th>\n",
       "      <th>albumCount</th>\n",
       "      <th>review_count</th>\n",
       "      <th>Followers</th>\n",
       "      <th>Popularity</th>\n",
       "    </tr>\n",
       "  </thead>\n",
       "  <tbody>\n",
       "    <tr>\n",
       "      <th>0</th>\n",
       "      <td>11143</td>\n",
       "      <td>0.500000</td>\n",
       "      <td>Cuntscrape</td>\n",
       "      <td>True</td>\n",
       "      <td>1.0</td>\n",
       "      <td>1</td>\n",
       "      <td>7557.0</td>\n",
       "      <td>18.0</td>\n",
       "    </tr>\n",
       "    <tr>\n",
       "      <th>1</th>\n",
       "      <td>14768</td>\n",
       "      <td>0.770000</td>\n",
       "      <td>Psychiatric Regurgitation</td>\n",
       "      <td>True</td>\n",
       "      <td>1.0</td>\n",
       "      <td>1</td>\n",
       "      <td>4366.0</td>\n",
       "      <td>15.0</td>\n",
       "    </tr>\n",
       "    <tr>\n",
       "      <th>2</th>\n",
       "      <td>16693</td>\n",
       "      <td>0.860000</td>\n",
       "      <td>Four Question Marks</td>\n",
       "      <td>True</td>\n",
       "      <td>2.0</td>\n",
       "      <td>1</td>\n",
       "      <td>13204.0</td>\n",
       "      <td>7.0</td>\n",
       "    </tr>\n",
       "    <tr>\n",
       "      <th>3</th>\n",
       "      <td>16950</td>\n",
       "      <td>0.783333</td>\n",
       "      <td>Acranius</td>\n",
       "      <td>True</td>\n",
       "      <td>1.0</td>\n",
       "      <td>1</td>\n",
       "      <td>25075.0</td>\n",
       "      <td>24.0</td>\n",
       "    </tr>\n",
       "    <tr>\n",
       "      <th>4</th>\n",
       "      <td>20572</td>\n",
       "      <td>0.550000</td>\n",
       "      <td>Emergency Gate</td>\n",
       "      <td>True</td>\n",
       "      <td>3.0</td>\n",
       "      <td>1</td>\n",
       "      <td>33035.0</td>\n",
       "      <td>60.0</td>\n",
       "    </tr>\n",
       "    <tr>\n",
       "      <th>...</th>\n",
       "      <td>...</td>\n",
       "      <td>...</td>\n",
       "      <td>...</td>\n",
       "      <td>...</td>\n",
       "      <td>...</td>\n",
       "      <td>...</td>\n",
       "      <td>...</td>\n",
       "      <td>...</td>\n",
       "    </tr>\n",
       "    <tr>\n",
       "      <th>8090</th>\n",
       "      <td>60990</td>\n",
       "      <td>0.700000</td>\n",
       "      <td>Tidfall</td>\n",
       "      <td>False</td>\n",
       "      <td>1.0</td>\n",
       "      <td>4</td>\n",
       "      <td>34393.0</td>\n",
       "      <td>19.0</td>\n",
       "    </tr>\n",
       "    <tr>\n",
       "      <th>8091</th>\n",
       "      <td>63005</td>\n",
       "      <td>0.700000</td>\n",
       "      <td>Emperor</td>\n",
       "      <td>False</td>\n",
       "      <td>1.0</td>\n",
       "      <td>4</td>\n",
       "      <td>13347.0</td>\n",
       "      <td>42.0</td>\n",
       "    </tr>\n",
       "    <tr>\n",
       "      <th>8092</th>\n",
       "      <td>49377</td>\n",
       "      <td>0.680000</td>\n",
       "      <td>VARIOUS ARTISTS</td>\n",
       "      <td>False</td>\n",
       "      <td>1.0</td>\n",
       "      <td>6</td>\n",
       "      <td>45552.0</td>\n",
       "      <td>19.0</td>\n",
       "    </tr>\n",
       "    <tr>\n",
       "      <th>8093</th>\n",
       "      <td>43600</td>\n",
       "      <td>0.680000</td>\n",
       "      <td>Valensia</td>\n",
       "      <td>False</td>\n",
       "      <td>1.0</td>\n",
       "      <td>6</td>\n",
       "      <td>5581.0</td>\n",
       "      <td>7.0</td>\n",
       "    </tr>\n",
       "    <tr>\n",
       "      <th>8094</th>\n",
       "      <td>49744</td>\n",
       "      <td>0.660000</td>\n",
       "      <td>Spitfire</td>\n",
       "      <td>False</td>\n",
       "      <td>1.0</td>\n",
       "      <td>11</td>\n",
       "      <td>12979.0</td>\n",
       "      <td>10.0</td>\n",
       "    </tr>\n",
       "  </tbody>\n",
       "</table>\n",
       "<p>8095 rows × 8 columns</p>\n",
       "</div>"
      ],
      "text/plain": [
       "      id_band     score                       name  has_transitions  \\\n",
       "0       11143  0.500000                 Cuntscrape             True   \n",
       "1       14768  0.770000  Psychiatric Regurgitation             True   \n",
       "2       16693  0.860000        Four Question Marks             True   \n",
       "3       16950  0.783333                   Acranius             True   \n",
       "4       20572  0.550000             Emergency Gate             True   \n",
       "...       ...       ...                        ...              ...   \n",
       "8090    60990  0.700000                    Tidfall            False   \n",
       "8091    63005  0.700000                    Emperor            False   \n",
       "8092    49377  0.680000            VARIOUS ARTISTS            False   \n",
       "8093    43600  0.680000                   Valensia            False   \n",
       "8094    49744  0.660000                   Spitfire            False   \n",
       "\n",
       "      albumCount  review_count  Followers  Popularity  \n",
       "0            1.0             1     7557.0        18.0  \n",
       "1            1.0             1     4366.0        15.0  \n",
       "2            2.0             1    13204.0         7.0  \n",
       "3            1.0             1    25075.0        24.0  \n",
       "4            3.0             1    33035.0        60.0  \n",
       "...          ...           ...        ...         ...  \n",
       "8090         1.0             4    34393.0        19.0  \n",
       "8091         1.0             4    13347.0        42.0  \n",
       "8092         1.0             6    45552.0        19.0  \n",
       "8093         1.0             6     5581.0         7.0  \n",
       "8094         1.0            11    12979.0        10.0  \n",
       "\n",
       "[8095 rows x 8 columns]"
      ]
     },
     "execution_count": 51,
     "metadata": {},
     "output_type": "execute_result"
    }
   ],
   "source": [
    "Api_df"
   ]
  },
  {
   "cell_type": "code",
   "execution_count": 52,
   "id": "9eec72e6-dc08-49b6-a622-c7ded7b17c6d",
   "metadata": {
    "tags": []
   },
   "outputs": [],
   "source": [
    "final_Api=Api_df.copy()\n",
    "final_Api.drop(columns=['name'],axis=1,inplace=True)\n",
    "#final_spotify['has_transitions']=final_spotify['has_transitions'].astype(int)\n"
   ]
  },
  {
   "cell_type": "code",
   "execution_count": 53,
   "id": "5f64ad87-ceeb-4f0f-8e2c-1dea8fefb3fd",
   "metadata": {
    "tags": []
   },
   "outputs": [
    {
     "data": {
      "text/html": [
       "<div>\n",
       "<style scoped>\n",
       "    .dataframe tbody tr th:only-of-type {\n",
       "        vertical-align: middle;\n",
       "    }\n",
       "\n",
       "    .dataframe tbody tr th {\n",
       "        vertical-align: top;\n",
       "    }\n",
       "\n",
       "    .dataframe thead th {\n",
       "        text-align: right;\n",
       "    }\n",
       "</style>\n",
       "<table border=\"1\" class=\"dataframe\">\n",
       "  <thead>\n",
       "    <tr style=\"text-align: right;\">\n",
       "      <th></th>\n",
       "      <th>id_band</th>\n",
       "      <th>Popularity</th>\n",
       "      <th>Followers</th>\n",
       "      <th>score</th>\n",
       "      <th>has_transitions</th>\n",
       "      <th>review_count</th>\n",
       "      <th>albumCount</th>\n",
       "    </tr>\n",
       "  </thead>\n",
       "  <tbody>\n",
       "    <tr>\n",
       "      <th>2</th>\n",
       "      <td>70188</td>\n",
       "      <td>58</td>\n",
       "      <td>187066</td>\n",
       "      <td>0.825734</td>\n",
       "      <td>False</td>\n",
       "      <td>43.0</td>\n",
       "      <td>2.0</td>\n",
       "    </tr>\n",
       "    <tr>\n",
       "      <th>5</th>\n",
       "      <td>70446</td>\n",
       "      <td>56</td>\n",
       "      <td>551299</td>\n",
       "      <td>0.958991</td>\n",
       "      <td>False</td>\n",
       "      <td>4.0</td>\n",
       "      <td>1.0</td>\n",
       "    </tr>\n",
       "    <tr>\n",
       "      <th>8</th>\n",
       "      <td>70064</td>\n",
       "      <td>51</td>\n",
       "      <td>451467</td>\n",
       "      <td>0.956013</td>\n",
       "      <td>True</td>\n",
       "      <td>28.0</td>\n",
       "      <td>1.0</td>\n",
       "    </tr>\n",
       "    <tr>\n",
       "      <th>9</th>\n",
       "      <td>70361</td>\n",
       "      <td>52</td>\n",
       "      <td>233898</td>\n",
       "      <td>0.804782</td>\n",
       "      <td>True</td>\n",
       "      <td>71.0</td>\n",
       "      <td>1.0</td>\n",
       "    </tr>\n",
       "    <tr>\n",
       "      <th>13</th>\n",
       "      <td>70387</td>\n",
       "      <td>50</td>\n",
       "      <td>129182</td>\n",
       "      <td>0.982327</td>\n",
       "      <td>False</td>\n",
       "      <td>5.0</td>\n",
       "      <td>1.0</td>\n",
       "    </tr>\n",
       "    <tr>\n",
       "      <th>...</th>\n",
       "      <td>...</td>\n",
       "      <td>...</td>\n",
       "      <td>...</td>\n",
       "      <td>...</td>\n",
       "      <td>...</td>\n",
       "      <td>...</td>\n",
       "      <td>...</td>\n",
       "    </tr>\n",
       "    <tr>\n",
       "      <th>995</th>\n",
       "      <td>70049</td>\n",
       "      <td>5</td>\n",
       "      <td>1315</td>\n",
       "      <td>0.791989</td>\n",
       "      <td>True</td>\n",
       "      <td>52.0</td>\n",
       "      <td>1.0</td>\n",
       "    </tr>\n",
       "    <tr>\n",
       "      <th>996</th>\n",
       "      <td>70238</td>\n",
       "      <td>7</td>\n",
       "      <td>6037</td>\n",
       "      <td>0.723132</td>\n",
       "      <td>True</td>\n",
       "      <td>9.0</td>\n",
       "      <td>1.0</td>\n",
       "    </tr>\n",
       "    <tr>\n",
       "      <th>997</th>\n",
       "      <td>70048</td>\n",
       "      <td>6</td>\n",
       "      <td>2317</td>\n",
       "      <td>0.819247</td>\n",
       "      <td>False</td>\n",
       "      <td>66.0</td>\n",
       "      <td>1.0</td>\n",
       "    </tr>\n",
       "    <tr>\n",
       "      <th>998</th>\n",
       "      <td>70212</td>\n",
       "      <td>7</td>\n",
       "      <td>916</td>\n",
       "      <td>0.710902</td>\n",
       "      <td>True</td>\n",
       "      <td>33.0</td>\n",
       "      <td>1.0</td>\n",
       "    </tr>\n",
       "    <tr>\n",
       "      <th>999</th>\n",
       "      <td>70100</td>\n",
       "      <td>7</td>\n",
       "      <td>375</td>\n",
       "      <td>0.869833</td>\n",
       "      <td>False</td>\n",
       "      <td>36.0</td>\n",
       "      <td>3.0</td>\n",
       "    </tr>\n",
       "  </tbody>\n",
       "</table>\n",
       "<p>436 rows × 7 columns</p>\n",
       "</div>"
      ],
      "text/plain": [
       "     id_band  Popularity  Followers     score  has_transitions  review_count  \\\n",
       "2      70188          58     187066  0.825734            False          43.0   \n",
       "5      70446          56     551299  0.958991            False           4.0   \n",
       "8      70064          51     451467  0.956013             True          28.0   \n",
       "9      70361          52     233898  0.804782             True          71.0   \n",
       "13     70387          50     129182  0.982327            False           5.0   \n",
       "..       ...         ...        ...       ...              ...           ...   \n",
       "995    70049           5       1315  0.791989             True          52.0   \n",
       "996    70238           7       6037  0.723132             True           9.0   \n",
       "997    70048           6       2317  0.819247            False          66.0   \n",
       "998    70212           7        916  0.710902             True          33.0   \n",
       "999    70100           7        375  0.869833            False          36.0   \n",
       "\n",
       "     albumCount  \n",
       "2           2.0  \n",
       "5           1.0  \n",
       "8           1.0  \n",
       "9           1.0  \n",
       "13          1.0  \n",
       "..          ...  \n",
       "995         1.0  \n",
       "996         1.0  \n",
       "997         1.0  \n",
       "998         1.0  \n",
       "999         3.0  \n",
       "\n",
       "[436 rows x 7 columns]"
      ]
     },
     "execution_count": 53,
     "metadata": {},
     "output_type": "execute_result"
    }
   ],
   "source": [
    "final_spotify"
   ]
  },
  {
   "cell_type": "code",
   "execution_count": 54,
   "id": "4a486001-ff82-4cb0-8485-10d24dd9974d",
   "metadata": {
    "tags": []
   },
   "outputs": [],
   "source": [
    "Final_Merged_DB=pd.concat([final_Api,final_spotify],ignore_index=True)"
   ]
  },
  {
   "cell_type": "code",
   "execution_count": 55,
   "id": "19167a34-4c44-4b3f-924d-9db39813da6c",
   "metadata": {
    "tags": []
   },
   "outputs": [
    {
     "data": {
      "text/html": [
       "<div>\n",
       "<style scoped>\n",
       "    .dataframe tbody tr th:only-of-type {\n",
       "        vertical-align: middle;\n",
       "    }\n",
       "\n",
       "    .dataframe tbody tr th {\n",
       "        vertical-align: top;\n",
       "    }\n",
       "\n",
       "    .dataframe thead th {\n",
       "        text-align: right;\n",
       "    }\n",
       "</style>\n",
       "<table border=\"1\" class=\"dataframe\">\n",
       "  <thead>\n",
       "    <tr style=\"text-align: right;\">\n",
       "      <th></th>\n",
       "      <th>id_band</th>\n",
       "      <th>score</th>\n",
       "      <th>has_transitions</th>\n",
       "      <th>albumCount</th>\n",
       "      <th>review_count</th>\n",
       "      <th>Followers</th>\n",
       "      <th>Popularity</th>\n",
       "    </tr>\n",
       "  </thead>\n",
       "  <tbody>\n",
       "    <tr>\n",
       "      <th>0</th>\n",
       "      <td>11143</td>\n",
       "      <td>0.500000</td>\n",
       "      <td>True</td>\n",
       "      <td>1.0</td>\n",
       "      <td>1.0</td>\n",
       "      <td>7557.0</td>\n",
       "      <td>18.0</td>\n",
       "    </tr>\n",
       "    <tr>\n",
       "      <th>1</th>\n",
       "      <td>14768</td>\n",
       "      <td>0.770000</td>\n",
       "      <td>True</td>\n",
       "      <td>1.0</td>\n",
       "      <td>1.0</td>\n",
       "      <td>4366.0</td>\n",
       "      <td>15.0</td>\n",
       "    </tr>\n",
       "    <tr>\n",
       "      <th>2</th>\n",
       "      <td>16693</td>\n",
       "      <td>0.860000</td>\n",
       "      <td>True</td>\n",
       "      <td>2.0</td>\n",
       "      <td>1.0</td>\n",
       "      <td>13204.0</td>\n",
       "      <td>7.0</td>\n",
       "    </tr>\n",
       "    <tr>\n",
       "      <th>3</th>\n",
       "      <td>16950</td>\n",
       "      <td>0.783333</td>\n",
       "      <td>True</td>\n",
       "      <td>1.0</td>\n",
       "      <td>1.0</td>\n",
       "      <td>25075.0</td>\n",
       "      <td>24.0</td>\n",
       "    </tr>\n",
       "    <tr>\n",
       "      <th>4</th>\n",
       "      <td>20572</td>\n",
       "      <td>0.550000</td>\n",
       "      <td>True</td>\n",
       "      <td>3.0</td>\n",
       "      <td>1.0</td>\n",
       "      <td>33035.0</td>\n",
       "      <td>60.0</td>\n",
       "    </tr>\n",
       "    <tr>\n",
       "      <th>...</th>\n",
       "      <td>...</td>\n",
       "      <td>...</td>\n",
       "      <td>...</td>\n",
       "      <td>...</td>\n",
       "      <td>...</td>\n",
       "      <td>...</td>\n",
       "      <td>...</td>\n",
       "    </tr>\n",
       "    <tr>\n",
       "      <th>8526</th>\n",
       "      <td>70049</td>\n",
       "      <td>0.791989</td>\n",
       "      <td>True</td>\n",
       "      <td>1.0</td>\n",
       "      <td>52.0</td>\n",
       "      <td>1315.0</td>\n",
       "      <td>5.0</td>\n",
       "    </tr>\n",
       "    <tr>\n",
       "      <th>8527</th>\n",
       "      <td>70238</td>\n",
       "      <td>0.723132</td>\n",
       "      <td>True</td>\n",
       "      <td>1.0</td>\n",
       "      <td>9.0</td>\n",
       "      <td>6037.0</td>\n",
       "      <td>7.0</td>\n",
       "    </tr>\n",
       "    <tr>\n",
       "      <th>8528</th>\n",
       "      <td>70048</td>\n",
       "      <td>0.819247</td>\n",
       "      <td>False</td>\n",
       "      <td>1.0</td>\n",
       "      <td>66.0</td>\n",
       "      <td>2317.0</td>\n",
       "      <td>6.0</td>\n",
       "    </tr>\n",
       "    <tr>\n",
       "      <th>8529</th>\n",
       "      <td>70212</td>\n",
       "      <td>0.710902</td>\n",
       "      <td>True</td>\n",
       "      <td>1.0</td>\n",
       "      <td>33.0</td>\n",
       "      <td>916.0</td>\n",
       "      <td>7.0</td>\n",
       "    </tr>\n",
       "    <tr>\n",
       "      <th>8530</th>\n",
       "      <td>70100</td>\n",
       "      <td>0.869833</td>\n",
       "      <td>False</td>\n",
       "      <td>3.0</td>\n",
       "      <td>36.0</td>\n",
       "      <td>375.0</td>\n",
       "      <td>7.0</td>\n",
       "    </tr>\n",
       "  </tbody>\n",
       "</table>\n",
       "<p>8531 rows × 7 columns</p>\n",
       "</div>"
      ],
      "text/plain": [
       "      id_band     score  has_transitions  albumCount  review_count  Followers  \\\n",
       "0       11143  0.500000             True         1.0           1.0     7557.0   \n",
       "1       14768  0.770000             True         1.0           1.0     4366.0   \n",
       "2       16693  0.860000             True         2.0           1.0    13204.0   \n",
       "3       16950  0.783333             True         1.0           1.0    25075.0   \n",
       "4       20572  0.550000             True         3.0           1.0    33035.0   \n",
       "...       ...       ...              ...         ...           ...        ...   \n",
       "8526    70049  0.791989             True         1.0          52.0     1315.0   \n",
       "8527    70238  0.723132             True         1.0           9.0     6037.0   \n",
       "8528    70048  0.819247            False         1.0          66.0     2317.0   \n",
       "8529    70212  0.710902             True         1.0          33.0      916.0   \n",
       "8530    70100  0.869833            False         3.0          36.0      375.0   \n",
       "\n",
       "      Popularity  \n",
       "0           18.0  \n",
       "1           15.0  \n",
       "2            7.0  \n",
       "3           24.0  \n",
       "4           60.0  \n",
       "...          ...  \n",
       "8526         5.0  \n",
       "8527         7.0  \n",
       "8528         6.0  \n",
       "8529         7.0  \n",
       "8530         7.0  \n",
       "\n",
       "[8531 rows x 7 columns]"
      ]
     },
     "execution_count": 55,
     "metadata": {},
     "output_type": "execute_result"
    }
   ],
   "source": [
    "Final_Merged_DB"
   ]
  },
  {
   "cell_type": "code",
   "execution_count": 56,
   "id": "e635125a-06fc-4b9d-8641-844845d2dfb5",
   "metadata": {
    "tags": []
   },
   "outputs": [],
   "source": [
    "Final_Merged_DB.rename(columns={'albumCount':'album_count','Followers':'followers','Popularity':'popularity'},inplace=True)"
   ]
  },
  {
   "cell_type": "markdown",
   "id": "ff222f5e-2fa4-4b41-89ab-3a0ffec90a21",
   "metadata": {},
   "source": [
    "## DATAFRAME FINAL "
   ]
  },
  {
   "cell_type": "code",
   "execution_count": 57,
   "id": "71c66e75-5785-4d9b-8cb7-e536a15a7edb",
   "metadata": {
    "tags": []
   },
   "outputs": [
    {
     "data": {
      "text/html": [
       "<div>\n",
       "<style scoped>\n",
       "    .dataframe tbody tr th:only-of-type {\n",
       "        vertical-align: middle;\n",
       "    }\n",
       "\n",
       "    .dataframe tbody tr th {\n",
       "        vertical-align: top;\n",
       "    }\n",
       "\n",
       "    .dataframe thead th {\n",
       "        text-align: right;\n",
       "    }\n",
       "</style>\n",
       "<table border=\"1\" class=\"dataframe\">\n",
       "  <thead>\n",
       "    <tr style=\"text-align: right;\">\n",
       "      <th></th>\n",
       "      <th>id_band</th>\n",
       "      <th>score</th>\n",
       "      <th>has_transitions</th>\n",
       "      <th>album_count</th>\n",
       "      <th>review_count</th>\n",
       "      <th>followers</th>\n",
       "      <th>popularity</th>\n",
       "    </tr>\n",
       "  </thead>\n",
       "  <tbody>\n",
       "    <tr>\n",
       "      <th>0</th>\n",
       "      <td>11143</td>\n",
       "      <td>0.500000</td>\n",
       "      <td>True</td>\n",
       "      <td>1.0</td>\n",
       "      <td>1.0</td>\n",
       "      <td>7557.0</td>\n",
       "      <td>18.0</td>\n",
       "    </tr>\n",
       "    <tr>\n",
       "      <th>1</th>\n",
       "      <td>14768</td>\n",
       "      <td>0.770000</td>\n",
       "      <td>True</td>\n",
       "      <td>1.0</td>\n",
       "      <td>1.0</td>\n",
       "      <td>4366.0</td>\n",
       "      <td>15.0</td>\n",
       "    </tr>\n",
       "    <tr>\n",
       "      <th>2</th>\n",
       "      <td>16693</td>\n",
       "      <td>0.860000</td>\n",
       "      <td>True</td>\n",
       "      <td>2.0</td>\n",
       "      <td>1.0</td>\n",
       "      <td>13204.0</td>\n",
       "      <td>7.0</td>\n",
       "    </tr>\n",
       "    <tr>\n",
       "      <th>3</th>\n",
       "      <td>16950</td>\n",
       "      <td>0.783333</td>\n",
       "      <td>True</td>\n",
       "      <td>1.0</td>\n",
       "      <td>1.0</td>\n",
       "      <td>25075.0</td>\n",
       "      <td>24.0</td>\n",
       "    </tr>\n",
       "    <tr>\n",
       "      <th>4</th>\n",
       "      <td>20572</td>\n",
       "      <td>0.550000</td>\n",
       "      <td>True</td>\n",
       "      <td>3.0</td>\n",
       "      <td>1.0</td>\n",
       "      <td>33035.0</td>\n",
       "      <td>60.0</td>\n",
       "    </tr>\n",
       "    <tr>\n",
       "      <th>...</th>\n",
       "      <td>...</td>\n",
       "      <td>...</td>\n",
       "      <td>...</td>\n",
       "      <td>...</td>\n",
       "      <td>...</td>\n",
       "      <td>...</td>\n",
       "      <td>...</td>\n",
       "    </tr>\n",
       "    <tr>\n",
       "      <th>8526</th>\n",
       "      <td>70049</td>\n",
       "      <td>0.791989</td>\n",
       "      <td>True</td>\n",
       "      <td>1.0</td>\n",
       "      <td>52.0</td>\n",
       "      <td>1315.0</td>\n",
       "      <td>5.0</td>\n",
       "    </tr>\n",
       "    <tr>\n",
       "      <th>8527</th>\n",
       "      <td>70238</td>\n",
       "      <td>0.723132</td>\n",
       "      <td>True</td>\n",
       "      <td>1.0</td>\n",
       "      <td>9.0</td>\n",
       "      <td>6037.0</td>\n",
       "      <td>7.0</td>\n",
       "    </tr>\n",
       "    <tr>\n",
       "      <th>8528</th>\n",
       "      <td>70048</td>\n",
       "      <td>0.819247</td>\n",
       "      <td>False</td>\n",
       "      <td>1.0</td>\n",
       "      <td>66.0</td>\n",
       "      <td>2317.0</td>\n",
       "      <td>6.0</td>\n",
       "    </tr>\n",
       "    <tr>\n",
       "      <th>8529</th>\n",
       "      <td>70212</td>\n",
       "      <td>0.710902</td>\n",
       "      <td>True</td>\n",
       "      <td>1.0</td>\n",
       "      <td>33.0</td>\n",
       "      <td>916.0</td>\n",
       "      <td>7.0</td>\n",
       "    </tr>\n",
       "    <tr>\n",
       "      <th>8530</th>\n",
       "      <td>70100</td>\n",
       "      <td>0.869833</td>\n",
       "      <td>False</td>\n",
       "      <td>3.0</td>\n",
       "      <td>36.0</td>\n",
       "      <td>375.0</td>\n",
       "      <td>7.0</td>\n",
       "    </tr>\n",
       "  </tbody>\n",
       "</table>\n",
       "<p>8531 rows × 7 columns</p>\n",
       "</div>"
      ],
      "text/plain": [
       "      id_band     score  has_transitions  album_count  review_count  \\\n",
       "0       11143  0.500000             True          1.0           1.0   \n",
       "1       14768  0.770000             True          1.0           1.0   \n",
       "2       16693  0.860000             True          2.0           1.0   \n",
       "3       16950  0.783333             True          1.0           1.0   \n",
       "4       20572  0.550000             True          3.0           1.0   \n",
       "...       ...       ...              ...          ...           ...   \n",
       "8526    70049  0.791989             True          1.0          52.0   \n",
       "8527    70238  0.723132             True          1.0           9.0   \n",
       "8528    70048  0.819247            False          1.0          66.0   \n",
       "8529    70212  0.710902             True          1.0          33.0   \n",
       "8530    70100  0.869833            False          3.0          36.0   \n",
       "\n",
       "      followers  popularity  \n",
       "0        7557.0        18.0  \n",
       "1        4366.0        15.0  \n",
       "2       13204.0         7.0  \n",
       "3       25075.0        24.0  \n",
       "4       33035.0        60.0  \n",
       "...         ...         ...  \n",
       "8526     1315.0         5.0  \n",
       "8527     6037.0         7.0  \n",
       "8528     2317.0         6.0  \n",
       "8529      916.0         7.0  \n",
       "8530      375.0         7.0  \n",
       "\n",
       "[8531 rows x 7 columns]"
      ]
     },
     "execution_count": 57,
     "metadata": {},
     "output_type": "execute_result"
    }
   ],
   "source": [
    "Final_Merged_DB"
   ]
  },
  {
   "cell_type": "code",
   "execution_count": 58,
   "id": "0383ec24-cdf7-453a-9273-ba8ad20b6207",
   "metadata": {
    "tags": []
   },
   "outputs": [
    {
     "data": {
      "image/png": "[encoded data removed]",
      "text/plain": [
       "<Figure size 800x550 with 1 Axes>"
      ]
     },
     "metadata": {},
     "output_type": "display_data"
    }
   ],
   "source": [
    "fig = plt.figure()\n",
    "ax = fig.add_subplot(111, projection='3d')\n",
    "\n",
    "# Realizar el gráfico de dispersión\n",
    "ax.scatter(Final_Merged_DB['has_transitions'], Final_Merged_DB['followers'], Final_Merged_DB['score'], c='magenta', marker='o')\n",
    "\n",
    "# Añadir etiquetas\n",
    "ax.set_xlabel('Transiciones')\n",
    "ax.set_ylabel('Seguidores')\n",
    "ax.set_zlabel('score')\n",
    "\n",
    "# Mostrar el gráfico\n",
    "plt.show()"
   ]
  },
  {
   "cell_type": "code",
   "execution_count": 59,
   "id": "831cd899-b4b0-4f5e-94d7-83f5b544bec3",
   "metadata": {
    "tags": []
   },
   "outputs": [
    {
     "data": {
      "image/png": "[encoded data removed]",
      "text/plain": [
       "<Figure size 800x550 with 1 Axes>"
      ]
     },
     "metadata": {},
     "output_type": "display_data"
    }
   ],
   "source": [
    "fig = plt.figure()\n",
    "ax = fig.add_subplot(111, projection='3d')\n",
    "\n",
    "# Realizar el gráfico de dispersión\n",
    "ax.scatter(Final_Merged_DB['popularity'], Final_Merged_DB['followers'], Final_Merged_DB['score'], c='magenta', marker='o')\n",
    "\n",
    "# Añadir etiquetas\n",
    "ax.set_xlabel('Popularidad')\n",
    "ax.set_ylabel('Seguidores')\n",
    "ax.set_zlabel('score')\n",
    "\n",
    "# Mostrar el gráfico\n",
    "plt.show()"
   ]
  },
  {
   "cell_type": "code",
   "execution_count": 60,
   "id": "10ea75b0-9b80-4a7f-8a4c-6ef80649b7c0",
   "metadata": {
    "tags": []
   },
   "outputs": [
    {
     "data": {
      "text/plain": [
       "<Axes: xlabel='followers', ylabel='score'>"
      ]
     },
     "execution_count": 60,
     "metadata": {},
     "output_type": "execute_result"
    },
    {
     "data": {
      "image/png": "[encoded data removed]",
      "text/plain": [
       "<Figure size 800x550 with 1 Axes>"
      ]
     },
     "metadata": {},
     "output_type": "display_data"
    }
   ],
   "source": [
    "sns.scatterplot(data=Final_Merged_DB,x='followers',y='score')"
   ]
  },
  {
   "cell_type": "code",
   "execution_count": 61,
   "id": "56c267ce-a5b4-4d65-b5a0-476c3f2d8f05",
   "metadata": {
    "tags": []
   },
   "outputs": [
    {
     "data": {
      "text/plain": [
       "<Axes: xlabel='popularity', ylabel='score'>"
      ]
     },
     "execution_count": 61,
     "metadata": {},
     "output_type": "execute_result"
    },
    {
     "data": {
      "image/png": "[encoded data removed]",
      "text/plain": [
       "<Figure size 800x550 with 1 Axes>"
      ]
     },
     "metadata": {},
     "output_type": "display_data"
    }
   ],
   "source": [
    "sns.scatterplot(data=Final_Merged_DB,x='popularity',y='score')"
   ]
  },
  {
   "cell_type": "code",
   "execution_count": 62,
   "id": "1dda42da-2e51-48f8-843c-15c41fab0a1a",
   "metadata": {
    "tags": []
   },
   "outputs": [
    {
     "data": {
      "image/png": "[encoded data removed]",
      "text/plain": [
       "<Figure size 800x550 with 1 Axes>"
      ]
     },
     "metadata": {},
     "output_type": "display_data"
    }
   ],
   "source": [
    "fig = plt.figure()\n",
    "ax = fig.add_subplot(111, projection='3d')\n",
    "\n",
    "# Realizar el gráfico de dispersión\n",
    "ax.scatter(Final_Merged_DB['has_transitions'], Final_Merged_DB['album_count'], Final_Merged_DB['followers'], c='magenta', marker='o')\n",
    "\n",
    "# Añadir etiquetas\n",
    "ax.set_xlabel('Transiciones')\n",
    "ax.set_ylabel('Promedio de discos')\n",
    "ax.set_zlabel('Seguidores')\n",
    "\n",
    "# Mostrar el gráfico\n",
    "plt.show()"
   ]
  },
  {
   "cell_type": "code",
   "execution_count": 63,
   "id": "43d16fd2-129b-4a8a-bad9-97e9d4791c9c",
   "metadata": {
    "tags": []
   },
   "outputs": [
    {
     "data": {
      "image/png": "[encoded data removed]",
      "text/plain": [
       "<Figure size 1200x600 with 2 Axes>"
      ]
     },
     "metadata": {},
     "output_type": "display_data"
    }
   ],
   "source": [
    "fig, axes = plt.subplots(1, 2, figsize=(12, 6), sharey=True)\n",
    "sns.scatterplot(data=Final_Merged_DB[Final_Merged_DB['has_transitions']==True],x='album_count',y='followers',ax=axes[0])\n",
    "axes[0].set_title('Has Transitions = True')\n",
    "sns.scatterplot(data=Final_Merged_DB[Final_Merged_DB['has_transitions']==False],x='album_count',y='followers',ax=axes[1])\n",
    "axes[1].set_title('Has Transitions = False')\n",
    "plt.show()"
   ]
  },
  {
   "cell_type": "code",
   "execution_count": 64,
   "id": "8656675e-0b03-4fdc-9431-f137795c5adb",
   "metadata": {
    "tags": []
   },
   "outputs": [
    {
     "data": {
      "image/png": "[encoded data removed]",
      "text/plain": [
       "<Figure size 1200x600 with 2 Axes>"
      ]
     },
     "metadata": {},
     "output_type": "display_data"
    }
   ],
   "source": [
    "fig, axes = plt.subplots(1, 2, figsize=(12, 6), sharey=True)\n",
    "sns.scatterplot(data=Final_Merged_DB[Final_Merged_DB['has_transitions']==True],x='album_count',y='score',ax=axes[0])\n",
    "axes[0].set_title('Has Transitions = True')\n",
    "sns.scatterplot(data=Final_Merged_DB[Final_Merged_DB['has_transitions']==False],x='album_count',y='score',ax=axes[1])\n",
    "axes[1].set_title('Has Transitions = False')\n",
    "plt.show()"
   ]
  },
  {
   "cell_type": "code",
   "execution_count": 65,
   "id": "a2f756b3-df40-4795-97c1-38a5f5b8ae1d",
   "metadata": {},
   "outputs": [],
   "source": [
    "dt_Spotify=Final_Merged_DB.copy()\n",
    "dt_Spotify['has_transitions']=dt_Spotify['has_transitions'].astype('str')\n",
    "dt_Spotify['album_count']=dt_Spotify['album_count'].astype('int')\n",
    "X=dt_Spotify[['has_transitions','album_count','review_count','followers','popularity']]"
   ]
  },
  {
   "cell_type": "code",
   "execution_count": 66,
   "id": "bb6c3e02-1e6f-4381-b4ae-3e22c521f4e2",
   "metadata": {
    "tags": []
   },
   "outputs": [],
   "source": [
    "y=dt_Spotify['score']\n",
    "X_dummies=pd.get_dummies(X)\n",
    "X_dummies.drop(columns='has_transitions_False',inplace=True) #1 es True\n",
    "X_train_dt, X_test_dt,y_train_dt,y_test_dt=train_test_split(X_dummies,y,test_size=0.3,random_state=42)"
   ]
  },
  {
   "cell_type": "code",
   "execution_count": 67,
   "id": "3e396782-e332-4dbb-85f2-d11f5433132d",
   "metadata": {
    "tags": []
   },
   "outputs": [
    {
     "data": {
      "text/html": [
       "<div>\n",
       "<style scoped>\n",
       "    .dataframe tbody tr th:only-of-type {\n",
       "        vertical-align: middle;\n",
       "    }\n",
       "\n",
       "    .dataframe tbody tr th {\n",
       "        vertical-align: top;\n",
       "    }\n",
       "\n",
       "    .dataframe thead th {\n",
       "        text-align: right;\n",
       "    }\n",
       "</style>\n",
       "<table border=\"1\" class=\"dataframe\">\n",
       "  <thead>\n",
       "    <tr style=\"text-align: right;\">\n",
       "      <th></th>\n",
       "      <th>album_count</th>\n",
       "      <th>review_count</th>\n",
       "      <th>followers</th>\n",
       "      <th>popularity</th>\n",
       "      <th>has_transitions_True</th>\n",
       "    </tr>\n",
       "  </thead>\n",
       "  <tbody>\n",
       "    <tr>\n",
       "      <th>2499</th>\n",
       "      <td>1</td>\n",
       "      <td>1.0</td>\n",
       "      <td>15203.0</td>\n",
       "      <td>30.0</td>\n",
       "      <td>False</td>\n",
       "    </tr>\n",
       "    <tr>\n",
       "      <th>8034</th>\n",
       "      <td>1</td>\n",
       "      <td>2.0</td>\n",
       "      <td>101139.0</td>\n",
       "      <td>40.0</td>\n",
       "      <td>True</td>\n",
       "    </tr>\n",
       "    <tr>\n",
       "      <th>7030</th>\n",
       "      <td>1</td>\n",
       "      <td>2.0</td>\n",
       "      <td>17745.0</td>\n",
       "      <td>30.0</td>\n",
       "      <td>True</td>\n",
       "    </tr>\n",
       "    <tr>\n",
       "      <th>6058</th>\n",
       "      <td>1</td>\n",
       "      <td>120.0</td>\n",
       "      <td>16895.0</td>\n",
       "      <td>41.0</td>\n",
       "      <td>False</td>\n",
       "    </tr>\n",
       "    <tr>\n",
       "      <th>6632</th>\n",
       "      <td>1</td>\n",
       "      <td>9.0</td>\n",
       "      <td>24301.0</td>\n",
       "      <td>10.0</td>\n",
       "      <td>True</td>\n",
       "    </tr>\n",
       "    <tr>\n",
       "      <th>...</th>\n",
       "      <td>...</td>\n",
       "      <td>...</td>\n",
       "      <td>...</td>\n",
       "      <td>...</td>\n",
       "      <td>...</td>\n",
       "    </tr>\n",
       "    <tr>\n",
       "      <th>777</th>\n",
       "      <td>1</td>\n",
       "      <td>1.0</td>\n",
       "      <td>5705.0</td>\n",
       "      <td>10.0</td>\n",
       "      <td>False</td>\n",
       "    </tr>\n",
       "    <tr>\n",
       "      <th>1119</th>\n",
       "      <td>1</td>\n",
       "      <td>1.0</td>\n",
       "      <td>66792.0</td>\n",
       "      <td>9.0</td>\n",
       "      <td>False</td>\n",
       "    </tr>\n",
       "    <tr>\n",
       "      <th>3213</th>\n",
       "      <td>2</td>\n",
       "      <td>1.0</td>\n",
       "      <td>11720.0</td>\n",
       "      <td>9.0</td>\n",
       "      <td>False</td>\n",
       "    </tr>\n",
       "    <tr>\n",
       "      <th>6395</th>\n",
       "      <td>1</td>\n",
       "      <td>6.0</td>\n",
       "      <td>12404.0</td>\n",
       "      <td>7.0</td>\n",
       "      <td>False</td>\n",
       "    </tr>\n",
       "    <tr>\n",
       "      <th>1921</th>\n",
       "      <td>2</td>\n",
       "      <td>1.0</td>\n",
       "      <td>1193.0</td>\n",
       "      <td>27.0</td>\n",
       "      <td>False</td>\n",
       "    </tr>\n",
       "  </tbody>\n",
       "</table>\n",
       "<p>2560 rows × 5 columns</p>\n",
       "</div>"
      ],
      "text/plain": [
       "      album_count  review_count  followers  popularity  has_transitions_True\n",
       "2499            1           1.0    15203.0        30.0                 False\n",
       "8034            1           2.0   101139.0        40.0                  True\n",
       "7030            1           2.0    17745.0        30.0                  True\n",
       "6058            1         120.0    16895.0        41.0                 False\n",
       "6632            1           9.0    24301.0        10.0                  True\n",
       "...           ...           ...        ...         ...                   ...\n",
       "777             1           1.0     5705.0        10.0                 False\n",
       "1119            1           1.0    66792.0         9.0                 False\n",
       "3213            2           1.0    11720.0         9.0                 False\n",
       "6395            1           6.0    12404.0         7.0                 False\n",
       "1921            2           1.0     1193.0        27.0                 False\n",
       "\n",
       "[2560 rows x 5 columns]"
      ]
     },
     "execution_count": 67,
     "metadata": {},
     "output_type": "execute_result"
    }
   ],
   "source": [
    "X_test_dt"
   ]
  },
  {
   "cell_type": "code",
   "execution_count": 68,
   "id": "06aa20af-f9f9-48a4-ae0b-b2d2c8fafaa2",
   "metadata": {
    "tags": []
   },
   "outputs": [],
   "source": [
    "reg = DecisionTreeRegressor(max_depth=3, min_samples_split=3, min_samples_leaf=2)\n",
    "reg = reg.fit(X_train_dt, y_train_dt)\n"
   ]
  },
  {
   "cell_type": "code",
   "execution_count": 69,
   "id": "b4338014-0977-410f-95e2-55b455fca841",
   "metadata": {
    "tags": []
   },
   "outputs": [],
   "source": [
    "y_pred_dt = reg.predict(X_test_dt)\n"
   ]
  },
  {
   "cell_type": "code",
   "execution_count": 70,
   "id": "5badf6a6-6f1c-48ad-8f99-f37dc450956b",
   "metadata": {
    "tags": []
   },
   "outputs": [
    {
     "name": "stdout",
     "output_type": "stream",
     "text": [
      "0.19631816759318477\n"
     ]
    }
   ],
   "source": [
    "r2_dt = r2_score(y_test_dt,y_pred_dt)\n",
    "print(r2_dt)"
   ]
  },
  {
   "cell_type": "code",
   "execution_count": 71,
   "id": "7e5520a5-e4a0-4e03-a76b-e63ffe9b7abb",
   "metadata": {
    "tags": []
   },
   "outputs": [],
   "source": [
    "param_dist = {\n",
    "    'max_depth': [3, None],  # Profundidades de 3, ninguna limitación, o un rango de enteros\n",
    "    'min_samples_split': randint(2, 11),  # Número mínimo de muestras para dividir un nodo\n",
    "    'min_samples_leaf': randint(1, 11),  # Número mínimo de muestras en un nodo hoja\n",
    "    'criterion': ['mse', 'friedman_mse', 'mae']  # Criterio para la calidad de una división\n",
    "}"
   ]
  },
  {
   "cell_type": "code",
   "execution_count": 72,
   "id": "780b1b10-957d-4e9c-81d5-862cc8cd418b",
   "metadata": {
    "tags": []
   },
   "outputs": [
    {
     "name": "stdout",
     "output_type": "stream",
     "text": [
      "Fitting 3 folds for each of 100 candidates, totalling 300 fits\n"
     ]
    },
    {
     "data": {
      "text/html": [
       "<style>#sk-container-id-1 {color: black;}#sk-container-id-1 pre{padding: 0;}#sk-container-id-1 div.sk-toggleable {background-color: white;}#sk-container-id-1 label.sk-toggleable__label {cursor: pointer;display: block;width: 100%;margin-bottom: 0;padding: 0.3em;box-sizing: border-box;text-align: center;}#sk-container-id-1 label.sk-toggleable__label-arrow:before {content: \"▸\";float: left;margin-right: 0.25em;color: #696969;}#sk-container-id-1 label.sk-toggleable__label-arrow:hover:before {color: black;}#sk-container-id-1 div.sk-estimator:hover label.sk-toggleable__label-arrow:before {color: black;}#sk-container-id-1 div.sk-toggleable__content {max-height: 0;max-width: 0;overflow: hidden;text-align: left;background-color: #f0f8ff;}#sk-container-id-1 div.sk-toggleable__content pre {margin: 0.2em;color: black;border-radius: 0.25em;background-color: #f0f8ff;}#sk-container-id-1 input.sk-toggleable__control:checked~div.sk-toggleable__content {max-height: 200px;max-width: 100%;overflow: auto;}#sk-container-id-1 input.sk-toggleable__control:checked~label.sk-toggleable__label-arrow:before {content: \"▾\";}#sk-container-id-1 div.sk-estimator input.sk-toggleable__control:checked~label.sk-toggleable__label {background-color: #d4ebff;}#sk-container-id-1 div.sk-label input.sk-toggleable__control:checked~label.sk-toggleable__label {background-color: #d4ebff;}#sk-container-id-1 input.sk-hidden--visually {border: 0;clip: rect(1px 1px 1px 1px);clip: rect(1px, 1px, 1px, 1px);height: 1px;margin: -1px;overflow: hidden;padding: 0;position: absolute;width: 1px;}#sk-container-id-1 div.sk-estimator {font-family: monospace;background-color: #f0f8ff;border: 1px dotted black;border-radius: 0.25em;box-sizing: border-box;margin-bottom: 0.5em;}#sk-container-id-1 div.sk-estimator:hover {background-color: #d4ebff;}#sk-container-id-1 div.sk-parallel-item::after {content: \"\";width: 100%;border-bottom: 1px solid gray;flex-grow: 1;}#sk-container-id-1 div.sk-label:hover label.sk-toggleable__label {background-color: #d4ebff;}#sk-container-id-1 div.sk-serial::before {content: \"\";position: absolute;border-left: 1px solid gray;box-sizing: border-box;top: 0;bottom: 0;left: 50%;z-index: 0;}#sk-container-id-1 div.sk-serial {display: flex;flex-direction: column;align-items: center;background-color: white;padding-right: 0.2em;padding-left: 0.2em;position: relative;}#sk-container-id-1 div.sk-item {position: relative;z-index: 1;}#sk-container-id-1 div.sk-parallel {display: flex;align-items: stretch;justify-content: center;background-color: white;position: relative;}#sk-container-id-1 div.sk-item::before, #sk-container-id-1 div.sk-parallel-item::before {content: \"\";position: absolute;border-left: 1px solid gray;box-sizing: border-box;top: 0;bottom: 0;left: 50%;z-index: -1;}#sk-container-id-1 div.sk-parallel-item {display: flex;flex-direction: column;z-index: 1;position: relative;background-color: white;}#sk-container-id-1 div.sk-parallel-item:first-child::after {align-self: flex-end;width: 50%;}#sk-container-id-1 div.sk-parallel-item:last-child::after {align-self: flex-start;width: 50%;}#sk-container-id-1 div.sk-parallel-item:only-child::after {width: 0;}#sk-container-id-1 div.sk-dashed-wrapped {border: 1px dashed gray;margin: 0 0.4em 0.5em 0.4em;box-sizing: border-box;padding-bottom: 0.4em;background-color: white;}#sk-container-id-1 div.sk-label label {font-family: monospace;font-weight: bold;display: inline-block;line-height: 1.2em;}#sk-container-id-1 div.sk-label-container {text-align: center;}#sk-container-id-1 div.sk-container {/* jupyter's `normalize.less` sets `[hidden] { display: none; }` but bootstrap.min.css set `[hidden] { display: none !important; }` so we also need the `!important` here to be able to override the default hidden behavior on the sphinx rendered scikit-learn.org. See: https://github.com/scikit-learn/scikit-learn/issues/21755 */display: inline-block !important;position: relative;}#sk-container-id-1 div.sk-text-repr-fallback {display: none;}</style><div id=\"sk-container-id-1\" class=\"sk-top-container\"><div class=\"sk-text-repr-fallback\"><pre>RandomizedSearchCV(cv=3, estimator=DecisionTreeRegressor(), n_iter=100,\n",
       "                   n_jobs=-1,\n",
       "                   param_distributions={&#x27;criterion&#x27;: [&#x27;mse&#x27;, &#x27;friedman_mse&#x27;,\n",
       "                                                      &#x27;mae&#x27;],\n",
       "                                        &#x27;max_depth&#x27;: [3, None],\n",
       "                                        &#x27;min_samples_leaf&#x27;: &lt;scipy.stats._distn_infrastructure.rv_discrete_frozen object at 0x000002510481A650&gt;,\n",
       "                                        &#x27;min_samples_split&#x27;: &lt;scipy.stats._distn_infrastructure.rv_discrete_frozen object at 0x0000025104819F90&gt;},\n",
       "                   random_state=42, verbose=2)</pre><b>In a Jupyter environment, please rerun this cell to show the HTML representation or trust the notebook. <br />On GitHub, the HTML representation is unable to render, please try loading this page with nbviewer.org.</b></div><div class=\"sk-container\" hidden><div class=\"sk-item sk-dashed-wrapped\"><div class=\"sk-label-container\"><div class=\"sk-label sk-toggleable\"><input class=\"sk-toggleable__control sk-hidden--visually\" id=\"sk-estimator-id-1\" type=\"checkbox\" ><label for=\"sk-estimator-id-1\" class=\"sk-toggleable__label sk-toggleable__label-arrow\">RandomizedSearchCV</label><div class=\"sk-toggleable__content\"><pre>RandomizedSearchCV(cv=3, estimator=DecisionTreeRegressor(), n_iter=100,\n",
       "                   n_jobs=-1,\n",
       "                   param_distributions={&#x27;criterion&#x27;: [&#x27;mse&#x27;, &#x27;friedman_mse&#x27;,\n",
       "                                                      &#x27;mae&#x27;],\n",
       "                                        &#x27;max_depth&#x27;: [3, None],\n",
       "                                        &#x27;min_samples_leaf&#x27;: &lt;scipy.stats._distn_infrastructure.rv_discrete_frozen object at 0x000002510481A650&gt;,\n",
       "                                        &#x27;min_samples_split&#x27;: &lt;scipy.stats._distn_infrastructure.rv_discrete_frozen object at 0x0000025104819F90&gt;},\n",
       "                   random_state=42, verbose=2)</pre></div></div></div><div class=\"sk-parallel\"><div class=\"sk-parallel-item\"><div class=\"sk-item\"><div class=\"sk-label-container\"><div class=\"sk-label sk-toggleable\"><input class=\"sk-toggleable__control sk-hidden--visually\" id=\"sk-estimator-id-2\" type=\"checkbox\" ><label for=\"sk-estimator-id-2\" class=\"sk-toggleable__label sk-toggleable__label-arrow\">estimator: DecisionTreeRegressor</label><div class=\"sk-toggleable__content\"><pre>DecisionTreeRegressor()</pre></div></div></div><div class=\"sk-serial\"><div class=\"sk-item\"><div class=\"sk-estimator sk-toggleable\"><input class=\"sk-toggleable__control sk-hidden--visually\" id=\"sk-estimator-id-3\" type=\"checkbox\" ><label for=\"sk-estimator-id-3\" class=\"sk-toggleable__label sk-toggleable__label-arrow\">DecisionTreeRegressor</label><div class=\"sk-toggleable__content\"><pre>DecisionTreeRegressor()</pre></div></div></div></div></div></div></div></div></div></div>"
      ],
      "text/plain": [
       "RandomizedSearchCV(cv=3, estimator=DecisionTreeRegressor(), n_iter=100,\n",
       "                   n_jobs=-1,\n",
       "                   param_distributions={'criterion': ['mse', 'friedman_mse',\n",
       "                                                      'mae'],\n",
       "                                        'max_depth': [3, None],\n",
       "                                        'min_samples_leaf': <scipy.stats._distn_infrastructure.rv_discrete_frozen object at 0x000002510481A650>,\n",
       "                                        'min_samples_split': <scipy.stats._distn_infrastructure.rv_discrete_frozen object at 0x0000025104819F90>},\n",
       "                   random_state=42, verbose=2)"
      ]
     },
     "execution_count": 72,
     "metadata": {},
     "output_type": "execute_result"
    }
   ],
   "source": [
    "# Modelo base para tunear\n",
    "base_model = DecisionTreeRegressor()\n",
    "\n",
    "# Búsqueda aleatoria de parámetros, utilizando 3 fold cross validation, \n",
    "# busca a través de 100 diferentes combinaciones, y usa todos los núcleos disponibles\n",
    "random_search = RandomizedSearchCV(estimator=base_model,\n",
    "                                   param_distributions=param_dist,\n",
    "                                   n_iter=100, cv=3, verbose=2,\n",
    "                                   random_state=42, n_jobs=-1)\n",
    "\n",
    "# Ajustar el modelo de búsqueda aleatoria\n",
    "random_search.fit(X_train_dt, y_train_dt)"
   ]
  },
  {
   "cell_type": "code",
   "execution_count": 73,
   "id": "4a46cc11-9969-4c6c-9e3d-72201a463f5c",
   "metadata": {
    "tags": []
   },
   "outputs": [
    {
     "name": "stdout",
     "output_type": "stream",
     "text": [
      "Mejores parámetros encontrados:  {'criterion': 'friedman_mse', 'max_depth': 3, 'min_samples_leaf': 2, 'min_samples_split': 3}\n"
     ]
    }
   ],
   "source": [
    "best_params = random_search.best_params_\n",
    "best_estimator = random_search.best_estimator_\n",
    "\n",
    "print(\"Mejores parámetros encontrados: \", best_params)\n"
   ]
  },
  {
   "cell_type": "code",
   "execution_count": 74,
   "id": "5a19aee3-78fa-4f4d-bbbe-b3ef80f1d2cd",
   "metadata": {},
   "outputs": [
    {
     "name": "stdout",
     "output_type": "stream",
     "text": [
      "Mean Squared Error: 0.021474319808557282\n",
      "Root Mean Squared Error: 0.14654118809589775\n",
      "                      importance\n",
      "followers               0.537651\n",
      "popularity              0.193711\n",
      "review_count            0.192262\n",
      "album_count             0.049722\n",
      "has_transitions_True    0.026654\n"
     ]
    }
   ],
   "source": [
    "# Crear el modelo de Random Forest Regressor\n",
    "random_forest_model = RandomForestRegressor(n_estimators=300, random_state=42)\n",
    "\n",
    "# Entrenar el modelo\n",
    "random_forest_model.fit(X_train_dt, y_train_dt)\n",
    "\n",
    "# Hacer predicciones\n",
    "y_pred_rf = random_forest_model.predict(X_test_dt)\n",
    "\n",
    "# Calcular el error cuadrático medio (MSE)\n",
    "mse_rf = mean_squared_error(y_test_dt, y_pred_rf)\n",
    "print(f\"Mean Squared Error: {mse_rf}\")\n",
    "\n",
    "# Calcular la raíz del error cuadrático medio (RMSE)\n",
    "rmse_rf = np.sqrt(mse_rf)\n",
    "print(f\"Root Mean Squared Error: {rmse_rf}\")\n",
    "\n",
    "# Mostrar la importancia de las características\n",
    "feature_importances = pd.DataFrame(random_forest_model.feature_importances_,\n",
    "                                   index = X_train_dt.columns,\n",
    "                                   columns=['importance']).sort_values('importance', ascending=False)\n",
    "print(feature_importances)"
   ]
  },
  {
   "cell_type": "code",
   "execution_count": 75,
   "id": "d4b85c7e-da63-4212-a08c-4b8893e07011",
   "metadata": {
    "tags": []
   },
   "outputs": [
    {
     "name": "stdout",
     "output_type": "stream",
     "text": [
      "0.023093756846636615\n"
     ]
    }
   ],
   "source": [
    "r2_dt = r2_score(y_test_dt,y_pred_rf)\n",
    "print(r2_dt)"
   ]
  },
  {
   "cell_type": "code",
   "execution_count": 76,
   "id": "236b458e-99c0-4c14-bd1f-fe56b3fdbd47",
   "metadata": {
    "tags": []
   },
   "outputs": [
    {
     "data": {
      "text/html": [
       "<style>#sk-container-id-2 {color: black;}#sk-container-id-2 pre{padding: 0;}#sk-container-id-2 div.sk-toggleable {background-color: white;}#sk-container-id-2 label.sk-toggleable__label {cursor: pointer;display: block;width: 100%;margin-bottom: 0;padding: 0.3em;box-sizing: border-box;text-align: center;}#sk-container-id-2 label.sk-toggleable__label-arrow:before {content: \"▸\";float: left;margin-right: 0.25em;color: #696969;}#sk-container-id-2 label.sk-toggleable__label-arrow:hover:before {color: black;}#sk-container-id-2 div.sk-estimator:hover label.sk-toggleable__label-arrow:before {color: black;}#sk-container-id-2 div.sk-toggleable__content {max-height: 0;max-width: 0;overflow: hidden;text-align: left;background-color: #f0f8ff;}#sk-container-id-2 div.sk-toggleable__content pre {margin: 0.2em;color: black;border-radius: 0.25em;background-color: #f0f8ff;}#sk-container-id-2 input.sk-toggleable__control:checked~div.sk-toggleable__content {max-height: 200px;max-width: 100%;overflow: auto;}#sk-container-id-2 input.sk-toggleable__control:checked~label.sk-toggleable__label-arrow:before {content: \"▾\";}#sk-container-id-2 div.sk-estimator input.sk-toggleable__control:checked~label.sk-toggleable__label {background-color: #d4ebff;}#sk-container-id-2 div.sk-label input.sk-toggleable__control:checked~label.sk-toggleable__label {background-color: #d4ebff;}#sk-container-id-2 input.sk-hidden--visually {border: 0;clip: rect(1px 1px 1px 1px);clip: rect(1px, 1px, 1px, 1px);height: 1px;margin: -1px;overflow: hidden;padding: 0;position: absolute;width: 1px;}#sk-container-id-2 div.sk-estimator {font-family: monospace;background-color: #f0f8ff;border: 1px dotted black;border-radius: 0.25em;box-sizing: border-box;margin-bottom: 0.5em;}#sk-container-id-2 div.sk-estimator:hover {background-color: #d4ebff;}#sk-container-id-2 div.sk-parallel-item::after {content: \"\";width: 100%;border-bottom: 1px solid gray;flex-grow: 1;}#sk-container-id-2 div.sk-label:hover label.sk-toggleable__label {background-color: #d4ebff;}#sk-container-id-2 div.sk-serial::before {content: \"\";position: absolute;border-left: 1px solid gray;box-sizing: border-box;top: 0;bottom: 0;left: 50%;z-index: 0;}#sk-container-id-2 div.sk-serial {display: flex;flex-direction: column;align-items: center;background-color: white;padding-right: 0.2em;padding-left: 0.2em;position: relative;}#sk-container-id-2 div.sk-item {position: relative;z-index: 1;}#sk-container-id-2 div.sk-parallel {display: flex;align-items: stretch;justify-content: center;background-color: white;position: relative;}#sk-container-id-2 div.sk-item::before, #sk-container-id-2 div.sk-parallel-item::before {content: \"\";position: absolute;border-left: 1px solid gray;box-sizing: border-box;top: 0;bottom: 0;left: 50%;z-index: -1;}#sk-container-id-2 div.sk-parallel-item {display: flex;flex-direction: column;z-index: 1;position: relative;background-color: white;}#sk-container-id-2 div.sk-parallel-item:first-child::after {align-self: flex-end;width: 50%;}#sk-container-id-2 div.sk-parallel-item:last-child::after {align-self: flex-start;width: 50%;}#sk-container-id-2 div.sk-parallel-item:only-child::after {width: 0;}#sk-container-id-2 div.sk-dashed-wrapped {border: 1px dashed gray;margin: 0 0.4em 0.5em 0.4em;box-sizing: border-box;padding-bottom: 0.4em;background-color: white;}#sk-container-id-2 div.sk-label label {font-family: monospace;font-weight: bold;display: inline-block;line-height: 1.2em;}#sk-container-id-2 div.sk-label-container {text-align: center;}#sk-container-id-2 div.sk-container {/* jupyter's `normalize.less` sets `[hidden] { display: none; }` but bootstrap.min.css set `[hidden] { display: none !important; }` so we also need the `!important` here to be able to override the default hidden behavior on the sphinx rendered scikit-learn.org. See: https://github.com/scikit-learn/scikit-learn/issues/21755 */display: inline-block !important;position: relative;}#sk-container-id-2 div.sk-text-repr-fallback {display: none;}</style><div id=\"sk-container-id-2\" class=\"sk-top-container\"><div class=\"sk-text-repr-fallback\"><pre>GridSearchCV(cv=5,\n",
       "             estimator=Pipeline(steps=[(&#x27;scaler&#x27;, StandardScaler()),\n",
       "                                       (&#x27;features&#x27;, PolynomialFeatures()),\n",
       "                                       (&#x27;regression&#x27;, LinearRegression())]),\n",
       "             param_grid={&#x27;features__degree&#x27;: [1, 2, 3, 4]},\n",
       "             scoring=&#x27;neg_root_mean_squared_error&#x27;)</pre><b>In a Jupyter environment, please rerun this cell to show the HTML representation or trust the notebook. <br />On GitHub, the HTML representation is unable to render, please try loading this page with nbviewer.org.</b></div><div class=\"sk-container\" hidden><div class=\"sk-item sk-dashed-wrapped\"><div class=\"sk-label-container\"><div class=\"sk-label sk-toggleable\"><input class=\"sk-toggleable__control sk-hidden--visually\" id=\"sk-estimator-id-4\" type=\"checkbox\" ><label for=\"sk-estimator-id-4\" class=\"sk-toggleable__label sk-toggleable__label-arrow\">GridSearchCV</label><div class=\"sk-toggleable__content\"><pre>GridSearchCV(cv=5,\n",
       "             estimator=Pipeline(steps=[(&#x27;scaler&#x27;, StandardScaler()),\n",
       "                                       (&#x27;features&#x27;, PolynomialFeatures()),\n",
       "                                       (&#x27;regression&#x27;, LinearRegression())]),\n",
       "             param_grid={&#x27;features__degree&#x27;: [1, 2, 3, 4]},\n",
       "             scoring=&#x27;neg_root_mean_squared_error&#x27;)</pre></div></div></div><div class=\"sk-parallel\"><div class=\"sk-parallel-item\"><div class=\"sk-item\"><div class=\"sk-label-container\"><div class=\"sk-label sk-toggleable\"><input class=\"sk-toggleable__control sk-hidden--visually\" id=\"sk-estimator-id-5\" type=\"checkbox\" ><label for=\"sk-estimator-id-5\" class=\"sk-toggleable__label sk-toggleable__label-arrow\">estimator: Pipeline</label><div class=\"sk-toggleable__content\"><pre>Pipeline(steps=[(&#x27;scaler&#x27;, StandardScaler()),\n",
       "                (&#x27;features&#x27;, PolynomialFeatures()),\n",
       "                (&#x27;regression&#x27;, LinearRegression())])</pre></div></div></div><div class=\"sk-serial\"><div class=\"sk-item\"><div class=\"sk-serial\"><div class=\"sk-item\"><div class=\"sk-estimator sk-toggleable\"><input class=\"sk-toggleable__control sk-hidden--visually\" id=\"sk-estimator-id-6\" type=\"checkbox\" ><label for=\"sk-estimator-id-6\" class=\"sk-toggleable__label sk-toggleable__label-arrow\">StandardScaler</label><div class=\"sk-toggleable__content\"><pre>StandardScaler()</pre></div></div></div><div class=\"sk-item\"><div class=\"sk-estimator sk-toggleable\"><input class=\"sk-toggleable__control sk-hidden--visually\" id=\"sk-estimator-id-7\" type=\"checkbox\" ><label for=\"sk-estimator-id-7\" class=\"sk-toggleable__label sk-toggleable__label-arrow\">PolynomialFeatures</label><div class=\"sk-toggleable__content\"><pre>PolynomialFeatures()</pre></div></div></div><div class=\"sk-item\"><div class=\"sk-estimator sk-toggleable\"><input class=\"sk-toggleable__control sk-hidden--visually\" id=\"sk-estimator-id-8\" type=\"checkbox\" ><label for=\"sk-estimator-id-8\" class=\"sk-toggleable__label sk-toggleable__label-arrow\">LinearRegression</label><div class=\"sk-toggleable__content\"><pre>LinearRegression()</pre></div></div></div></div></div></div></div></div></div></div></div></div>"
      ],
      "text/plain": [
       "GridSearchCV(cv=5,\n",
       "             estimator=Pipeline(steps=[('scaler', StandardScaler()),\n",
       "                                       ('features', PolynomialFeatures()),\n",
       "                                       ('regression', LinearRegression())]),\n",
       "             param_grid={'features__degree': [1, 2, 3, 4]},\n",
       "             scoring='neg_root_mean_squared_error')"
      ]
     },
     "execution_count": 76,
     "metadata": {},
     "output_type": "execute_result"
    }
   ],
   "source": [
    "modelo = Pipeline([('scaler', StandardScaler()),('features', PolynomialFeatures()),\n",
    "                    ('regression', LinearRegression(fit_intercept=True))])\n",
    "\n",
    "hiperparametros={'features__degree':[1,2,3,4]}\n",
    "grilla=GridSearchCV(modelo,hiperparametros,refit=True, cv=5,scoring='neg_root_mean_squared_error')\n",
    "grilla.fit(X_train_dt,y_train_dt)"
   ]
  },
  {
   "cell_type": "code",
   "execution_count": 77,
   "id": "9649e50b-4575-45a8-af90-5d2031584ba7",
   "metadata": {
    "tags": []
   },
   "outputs": [
    {
     "name": "stdout",
     "output_type": "stream",
     "text": [
      "{'features__degree': 1}\n"
     ]
    }
   ],
   "source": [
    "print(grilla.best_params_)"
   ]
  },
  {
   "cell_type": "code",
   "execution_count": 78,
   "id": "da133589-42a5-4b9c-a3df-78ce9a580a6e",
   "metadata": {
    "tags": []
   },
   "outputs": [
    {
     "data": {
      "text/html": [
       "<style>#sk-container-id-3 {color: black;}#sk-container-id-3 pre{padding: 0;}#sk-container-id-3 div.sk-toggleable {background-color: white;}#sk-container-id-3 label.sk-toggleable__label {cursor: pointer;display: block;width: 100%;margin-bottom: 0;padding: 0.3em;box-sizing: border-box;text-align: center;}#sk-container-id-3 label.sk-toggleable__label-arrow:before {content: \"▸\";float: left;margin-right: 0.25em;color: #696969;}#sk-container-id-3 label.sk-toggleable__label-arrow:hover:before {color: black;}#sk-container-id-3 div.sk-estimator:hover label.sk-toggleable__label-arrow:before {color: black;}#sk-container-id-3 div.sk-toggleable__content {max-height: 0;max-width: 0;overflow: hidden;text-align: left;background-color: #f0f8ff;}#sk-container-id-3 div.sk-toggleable__content pre {margin: 0.2em;color: black;border-radius: 0.25em;background-color: #f0f8ff;}#sk-container-id-3 input.sk-toggleable__control:checked~div.sk-toggleable__content {max-height: 200px;max-width: 100%;overflow: auto;}#sk-container-id-3 input.sk-toggleable__control:checked~label.sk-toggleable__label-arrow:before {content: \"▾\";}#sk-container-id-3 div.sk-estimator input.sk-toggleable__control:checked~label.sk-toggleable__label {background-color: #d4ebff;}#sk-container-id-3 div.sk-label input.sk-toggleable__control:checked~label.sk-toggleable__label {background-color: #d4ebff;}#sk-container-id-3 input.sk-hidden--visually {border: 0;clip: rect(1px 1px 1px 1px);clip: rect(1px, 1px, 1px, 1px);height: 1px;margin: -1px;overflow: hidden;padding: 0;position: absolute;width: 1px;}#sk-container-id-3 div.sk-estimator {font-family: monospace;background-color: #f0f8ff;border: 1px dotted black;border-radius: 0.25em;box-sizing: border-box;margin-bottom: 0.5em;}#sk-container-id-3 div.sk-estimator:hover {background-color: #d4ebff;}#sk-container-id-3 div.sk-parallel-item::after {content: \"\";width: 100%;border-bottom: 1px solid gray;flex-grow: 1;}#sk-container-id-3 div.sk-label:hover label.sk-toggleable__label {background-color: #d4ebff;}#sk-container-id-3 div.sk-serial::before {content: \"\";position: absolute;border-left: 1px solid gray;box-sizing: border-box;top: 0;bottom: 0;left: 50%;z-index: 0;}#sk-container-id-3 div.sk-serial {display: flex;flex-direction: column;align-items: center;background-color: white;padding-right: 0.2em;padding-left: 0.2em;position: relative;}#sk-container-id-3 div.sk-item {position: relative;z-index: 1;}#sk-container-id-3 div.sk-parallel {display: flex;align-items: stretch;justify-content: center;background-color: white;position: relative;}#sk-container-id-3 div.sk-item::before, #sk-container-id-3 div.sk-parallel-item::before {content: \"\";position: absolute;border-left: 1px solid gray;box-sizing: border-box;top: 0;bottom: 0;left: 50%;z-index: -1;}#sk-container-id-3 div.sk-parallel-item {display: flex;flex-direction: column;z-index: 1;position: relative;background-color: white;}#sk-container-id-3 div.sk-parallel-item:first-child::after {align-self: flex-end;width: 50%;}#sk-container-id-3 div.sk-parallel-item:last-child::after {align-self: flex-start;width: 50%;}#sk-container-id-3 div.sk-parallel-item:only-child::after {width: 0;}#sk-container-id-3 div.sk-dashed-wrapped {border: 1px dashed gray;margin: 0 0.4em 0.5em 0.4em;box-sizing: border-box;padding-bottom: 0.4em;background-color: white;}#sk-container-id-3 div.sk-label label {font-family: monospace;font-weight: bold;display: inline-block;line-height: 1.2em;}#sk-container-id-3 div.sk-label-container {text-align: center;}#sk-container-id-3 div.sk-container {/* jupyter's `normalize.less` sets `[hidden] { display: none; }` but bootstrap.min.css set `[hidden] { display: none !important; }` so we also need the `!important` here to be able to override the default hidden behavior on the sphinx rendered scikit-learn.org. See: https://github.com/scikit-learn/scikit-learn/issues/21755 */display: inline-block !important;position: relative;}#sk-container-id-3 div.sk-text-repr-fallback {display: none;}</style><div id=\"sk-container-id-3\" class=\"sk-top-container\"><div class=\"sk-text-repr-fallback\"><pre>Pipeline(steps=[(&#x27;scaler&#x27;, StandardScaler()),\n",
       "                (&#x27;features&#x27;, PolynomialFeatures(degree=1)),\n",
       "                (&#x27;regression&#x27;, LinearRegression())])</pre><b>In a Jupyter environment, please rerun this cell to show the HTML representation or trust the notebook. <br />On GitHub, the HTML representation is unable to render, please try loading this page with nbviewer.org.</b></div><div class=\"sk-container\" hidden><div class=\"sk-item sk-dashed-wrapped\"><div class=\"sk-label-container\"><div class=\"sk-label sk-toggleable\"><input class=\"sk-toggleable__control sk-hidden--visually\" id=\"sk-estimator-id-9\" type=\"checkbox\" ><label for=\"sk-estimator-id-9\" class=\"sk-toggleable__label sk-toggleable__label-arrow\">Pipeline</label><div class=\"sk-toggleable__content\"><pre>Pipeline(steps=[(&#x27;scaler&#x27;, StandardScaler()),\n",
       "                (&#x27;features&#x27;, PolynomialFeatures(degree=1)),\n",
       "                (&#x27;regression&#x27;, LinearRegression())])</pre></div></div></div><div class=\"sk-serial\"><div class=\"sk-item\"><div class=\"sk-estimator sk-toggleable\"><input class=\"sk-toggleable__control sk-hidden--visually\" id=\"sk-estimator-id-10\" type=\"checkbox\" ><label for=\"sk-estimator-id-10\" class=\"sk-toggleable__label sk-toggleable__label-arrow\">StandardScaler</label><div class=\"sk-toggleable__content\"><pre>StandardScaler()</pre></div></div></div><div class=\"sk-item\"><div class=\"sk-estimator sk-toggleable\"><input class=\"sk-toggleable__control sk-hidden--visually\" id=\"sk-estimator-id-11\" type=\"checkbox\" ><label for=\"sk-estimator-id-11\" class=\"sk-toggleable__label sk-toggleable__label-arrow\">PolynomialFeatures</label><div class=\"sk-toggleable__content\"><pre>PolynomialFeatures(degree=1)</pre></div></div></div><div class=\"sk-item\"><div class=\"sk-estimator sk-toggleable\"><input class=\"sk-toggleable__control sk-hidden--visually\" id=\"sk-estimator-id-12\" type=\"checkbox\" ><label for=\"sk-estimator-id-12\" class=\"sk-toggleable__label sk-toggleable__label-arrow\">LinearRegression</label><div class=\"sk-toggleable__content\"><pre>LinearRegression()</pre></div></div></div></div></div></div></div>"
      ],
      "text/plain": [
       "Pipeline(steps=[('scaler', StandardScaler()),\n",
       "                ('features', PolynomialFeatures(degree=1)),\n",
       "                ('regression', LinearRegression())])"
      ]
     },
     "execution_count": 78,
     "metadata": {},
     "output_type": "execute_result"
    }
   ],
   "source": [
    "modelo_lineal=grilla.best_estimator_\n",
    "modelo_lineal.fit(X_train_dt, y_train_dt)"
   ]
  },
  {
   "cell_type": "code",
   "execution_count": 79,
   "id": "fcd02d91-c0f1-44c5-a9e9-e2bda1ac4aca",
   "metadata": {
    "tags": []
   },
   "outputs": [],
   "source": [
    "y_pred_test = modelo_lineal.predict(X_test_dt)\n",
    "y_pred_train = modelo_lineal.predict(X_train_dt)"
   ]
  },
  {
   "cell_type": "code",
   "execution_count": 80,
   "id": "880ff7aa-6617-424f-b7c8-2ff7ec4cad6e",
   "metadata": {
    "tags": []
   },
   "outputs": [
    {
     "name": "stdout",
     "output_type": "stream",
     "text": [
      "Precisión del modelo usando la raíz del error cuadratico medio (RMSE):\n",
      "Train: 0.14304148172243172\n",
      "Testeo: 0.14334273858230043\n"
     ]
    }
   ],
   "source": [
    "print('Precisión del modelo usando la raíz del error cuadratico medio (RMSE):')\n",
    "\n",
    "score_train_modelo_lineal = mean_squared_error(y_train_dt,y_pred_train,squared=False)\n",
    "score_test_modelo_lineal = mean_squared_error(y_test_dt,y_pred_test,squared=False)\n",
    "\n",
    "print (\"Train:\", score_train_modelo_lineal)\n",
    "print (\"Testeo:\", score_test_modelo_lineal)"
   ]
  },
  {
   "cell_type": "code",
   "execution_count": 81,
   "id": "e9f51d0f-e932-4a5b-8377-fffbdab599be",
   "metadata": {
    "tags": []
   },
   "outputs": [
    {
     "name": "stdout",
     "output_type": "stream",
     "text": [
      "0.023093756846636615\n"
     ]
    }
   ],
   "source": [
    "r2_lineal = r2_score(y_test_dt,y_pred_test)\n",
    "print(r2_dt)"
   ]
  },
  {
   "cell_type": "code",
   "execution_count": 82,
   "id": "a5116e43-2f28-43fe-bb36-e764581cb6b1",
   "metadata": {
    "tags": []
   },
   "outputs": [
    {
     "name": "stdout",
     "output_type": "stream",
     "text": [
      "0.023093756846636615\n"
     ]
    }
   ],
   "source": [
    "r2_lineal = r2_score(y_test_dt,y_pred_test)\n",
    "print(r2_dt)"
   ]
  },
  {
   "cell_type": "code",
   "execution_count": null,
   "id": "42abe74a-9744-4da8-80ef-ea221719a2c7",
   "metadata": {},
   "outputs": [],
   "source": []
  }
 ],
 "metadata": {
  "kernelspec": {
   "display_name": "Python 3 (ipykernel)",
   "language": "python",
   "name": "python3"
  },
  "language_info": {
   "codemirror_mode": {
    "name": "ipython",
    "version": 3
   },
   "file_extension": ".py",
   "mimetype": "text/x-python",
   "name": "python",
   "nbconvert_exporter": "python",
   "pygments_lexer": "ipython3",
   "version": "3.12.1"
  }
 },
 "nbformat": 4,
 "nbformat_minor": 5
}
