{
 "cells": [
  {
   "cell_type": "code",
   "execution_count": 1,
   "id": "574c8093-08ed-45f3-9d97-0cc4ec60f6aa",
   "metadata": {
    "tags": []
   },
   "outputs": [],
   "source": [
    "import pandas as pd\n",
    "import numpy as np\n",
    "import matplotlib.pyplot as plt\n",
    "import ipywidgets as wd\n",
    "from ipywidgets import interact\n",
    "import seaborn as sns\n",
    "import ptitprince as pt\n",
    "import re #I import this library 'cause I need to deal with regular expressions\n",
    "from sklearn.decomposition import PCA\n",
    "from mlxtend.plotting import plot_decision_regions\n",
    "import warnings\n",
    "warnings.filterwarnings(\"ignore\")\n",
    "from sklearn.cluster import KMeans\n",
    "from sklearn.neighbors import KNeighborsClassifier\n",
    "from sklearn.tree import DecisionTreeClassifier\n",
    "from sklearn.tree import plot_tree\n",
    "from sklearn import tree\n",
    "from yellowbrick.cluster import KElbowVisualizer\n",
    "from sklearn import metrics\n",
    "sns.set_style('whitegrid')\n",
    "from sklearn.metrics import confusion_matrix\n",
    "from sklearn.model_selection import train_test_split\n",
    "from sklearn import datasets\n",
    "from sklearn.linear_model import LinearRegression\n",
    "from category_encoders import TargetEncoder\n",
    "from sklearn.preprocessing import PolynomialFeatures\n",
    "from sklearn.preprocessing import PowerTransformer # para usar Yeo-Johnson\n",
    "from scipy.stats import skew\n",
    "from sklearn.metrics import r2_score\n",
    "from sklearn.feature_selection import mutual_info_regression\n",
    "from sklearn.tree import DecisionTreeRegressor\n",
    "from scipy.stats import randint\n",
    "from sklearn.model_selection import RandomizedSearchCV"
   ]
  },
  {
   "cell_type": "code",
   "execution_count": 2,
   "id": "04c86bed-0e05-45c8-a900-b5a065be6b42",
   "metadata": {
    "tags": []
   },
   "outputs": [],
   "source": [
    "Api_file=\"Merged_Api.csv\"\n",
    "Api_df=pd.read_csv(Api_file)"
   ]
  },
  {
   "cell_type": "code",
   "execution_count": 3,
   "id": "931bcd50-be19-4c3d-bbe5-a52a7c2d0a97",
   "metadata": {
    "tags": []
   },
   "outputs": [],
   "source": [
    "Api_df['has_transitions']=Api_df['has_transitions'].astype('int')"
   ]
  },
  {
   "cell_type": "code",
   "execution_count": 4,
   "id": "ce5329dc-1f62-44e6-8646-83ee3979ebd1",
   "metadata": {
    "tags": []
   },
   "outputs": [
    {
     "data": {
      "text/html": [
       "<div>\n",
       "<style scoped>\n",
       "    .dataframe tbody tr th:only-of-type {\n",
       "        vertical-align: middle;\n",
       "    }\n",
       "\n",
       "    .dataframe tbody tr th {\n",
       "        vertical-align: top;\n",
       "    }\n",
       "\n",
       "    .dataframe thead th {\n",
       "        text-align: right;\n",
       "    }\n",
       "</style>\n",
       "<table border=\"1\" class=\"dataframe\">\n",
       "  <thead>\n",
       "    <tr style=\"text-align: right;\">\n",
       "      <th></th>\n",
       "      <th>id_band</th>\n",
       "      <th>score</th>\n",
       "      <th>name</th>\n",
       "      <th>has_transitions</th>\n",
       "      <th>albumCount</th>\n",
       "      <th>review_count</th>\n",
       "    </tr>\n",
       "  </thead>\n",
       "  <tbody>\n",
       "    <tr>\n",
       "      <th>0</th>\n",
       "      <td>11143</td>\n",
       "      <td>0.500000</td>\n",
       "      <td>Cuntscrape</td>\n",
       "      <td>1</td>\n",
       "      <td>1.0</td>\n",
       "      <td>1</td>\n",
       "    </tr>\n",
       "    <tr>\n",
       "      <th>1</th>\n",
       "      <td>14768</td>\n",
       "      <td>0.770000</td>\n",
       "      <td>Psychiatric Regurgitation</td>\n",
       "      <td>1</td>\n",
       "      <td>1.0</td>\n",
       "      <td>1</td>\n",
       "    </tr>\n",
       "    <tr>\n",
       "      <th>2</th>\n",
       "      <td>16693</td>\n",
       "      <td>0.860000</td>\n",
       "      <td>Four Question Marks</td>\n",
       "      <td>1</td>\n",
       "      <td>2.0</td>\n",
       "      <td>1</td>\n",
       "    </tr>\n",
       "    <tr>\n",
       "      <th>3</th>\n",
       "      <td>16950</td>\n",
       "      <td>0.783333</td>\n",
       "      <td>Acranius</td>\n",
       "      <td>1</td>\n",
       "      <td>1.0</td>\n",
       "      <td>1</td>\n",
       "    </tr>\n",
       "    <tr>\n",
       "      <th>4</th>\n",
       "      <td>20572</td>\n",
       "      <td>0.550000</td>\n",
       "      <td>Emergency Gate</td>\n",
       "      <td>1</td>\n",
       "      <td>3.0</td>\n",
       "      <td>1</td>\n",
       "    </tr>\n",
       "    <tr>\n",
       "      <th>...</th>\n",
       "      <td>...</td>\n",
       "      <td>...</td>\n",
       "      <td>...</td>\n",
       "      <td>...</td>\n",
       "      <td>...</td>\n",
       "      <td>...</td>\n",
       "    </tr>\n",
       "    <tr>\n",
       "      <th>8090</th>\n",
       "      <td>60990</td>\n",
       "      <td>0.700000</td>\n",
       "      <td>Tidfall</td>\n",
       "      <td>0</td>\n",
       "      <td>1.0</td>\n",
       "      <td>4</td>\n",
       "    </tr>\n",
       "    <tr>\n",
       "      <th>8091</th>\n",
       "      <td>63005</td>\n",
       "      <td>0.700000</td>\n",
       "      <td>Emperor</td>\n",
       "      <td>0</td>\n",
       "      <td>1.0</td>\n",
       "      <td>4</td>\n",
       "    </tr>\n",
       "    <tr>\n",
       "      <th>8092</th>\n",
       "      <td>49377</td>\n",
       "      <td>0.680000</td>\n",
       "      <td>VARIOUS ARTISTS</td>\n",
       "      <td>0</td>\n",
       "      <td>1.0</td>\n",
       "      <td>6</td>\n",
       "    </tr>\n",
       "    <tr>\n",
       "      <th>8093</th>\n",
       "      <td>43600</td>\n",
       "      <td>0.680000</td>\n",
       "      <td>Valensia</td>\n",
       "      <td>0</td>\n",
       "      <td>1.0</td>\n",
       "      <td>6</td>\n",
       "    </tr>\n",
       "    <tr>\n",
       "      <th>8094</th>\n",
       "      <td>49744</td>\n",
       "      <td>0.660000</td>\n",
       "      <td>Spitfire</td>\n",
       "      <td>0</td>\n",
       "      <td>1.0</td>\n",
       "      <td>11</td>\n",
       "    </tr>\n",
       "  </tbody>\n",
       "</table>\n",
       "<p>8095 rows × 6 columns</p>\n",
       "</div>"
      ],
      "text/plain": [
       "      id_band     score                       name  has_transitions  \\\n",
       "0       11143  0.500000                 Cuntscrape                1   \n",
       "1       14768  0.770000  Psychiatric Regurgitation                1   \n",
       "2       16693  0.860000        Four Question Marks                1   \n",
       "3       16950  0.783333                   Acranius                1   \n",
       "4       20572  0.550000             Emergency Gate                1   \n",
       "...       ...       ...                        ...              ...   \n",
       "8090    60990  0.700000                    Tidfall                0   \n",
       "8091    63005  0.700000                    Emperor                0   \n",
       "8092    49377  0.680000            VARIOUS ARTISTS                0   \n",
       "8093    43600  0.680000                   Valensia                0   \n",
       "8094    49744  0.660000                   Spitfire                0   \n",
       "\n",
       "      albumCount  review_count  \n",
       "0            1.0             1  \n",
       "1            1.0             1  \n",
       "2            2.0             1  \n",
       "3            1.0             1  \n",
       "4            3.0             1  \n",
       "...          ...           ...  \n",
       "8090         1.0             4  \n",
       "8091         1.0             4  \n",
       "8092         1.0             6  \n",
       "8093         1.0             6  \n",
       "8094         1.0            11  \n",
       "\n",
       "[8095 rows x 6 columns]"
      ]
     },
     "execution_count": 4,
     "metadata": {},
     "output_type": "execute_result"
    }
   ],
   "source": [
    "Api_df"
   ]
  },
  {
   "cell_type": "code",
   "execution_count": 5,
   "id": "a27b3355-ab2c-461b-8b2f-06210c32050b",
   "metadata": {
    "tags": []
   },
   "outputs": [],
   "source": [
    "Spotify_file='Spotify_extracted.csv'\n",
    "Spotify_df=pd.read_csv(Spotify_file)"
   ]
  },
  {
   "cell_type": "code",
   "execution_count": 6,
   "id": "048ba7c5-c2fe-497d-89fb-133e334002e7",
   "metadata": {
    "tags": []
   },
   "outputs": [
    {
     "data": {
      "text/plain": [
       "Index(['Name', 'Genres', 'Popularity', 'Followers', 'Artist_URI'], dtype='object')"
      ]
     },
     "execution_count": 6,
     "metadata": {},
     "output_type": "execute_result"
    }
   ],
   "source": [
    "Spotify_df.columns"
   ]
  },
  {
   "cell_type": "code",
   "execution_count": 7,
   "id": "84b106dc-0dce-4482-ad17-ac4f10e55961",
   "metadata": {
    "tags": []
   },
   "outputs": [
    {
     "name": "stdout",
     "output_type": "stream",
     "text": [
      "<class 'pandas.core.frame.DataFrame'>\n",
      "RangeIndex: 1000 entries, 0 to 999\n",
      "Data columns (total 5 columns):\n",
      " #   Column      Non-Null Count  Dtype \n",
      "---  ------      --------------  ----- \n",
      " 0   Name        1000 non-null   object\n",
      " 1   Genres      1000 non-null   object\n",
      " 2   Popularity  1000 non-null   int64 \n",
      " 3   Followers   1000 non-null   int64 \n",
      " 4   Artist_URI  1000 non-null   object\n",
      "dtypes: int64(2), object(3)\n",
      "memory usage: 39.2+ KB\n"
     ]
    }
   ],
   "source": [
    "Spotify_df.info()"
   ]
  },
  {
   "cell_type": "markdown",
   "id": "9ac3e642-56ad-466b-a842-dd75ffd3223c",
   "metadata": {},
   "source": [
    "## Imputación de los datos de score para los registros que provienen de la API de Spotify\n",
    "\n",
    "Para realizar esta imputación de datos se busca extraer los valores de score de una distribución que respete el sesgo a la izquierda de los datos de Score originales y para esto se contemplaron dos caminos: el primero, consiste en utilizar una distribución log-normal e intentar reflejarla. Esto se plantea debido a que determinar los parámetros de esta distribución es relativamente sencillo, no obstante se desiste de este camino debido a que esta distrubución naturalmente tiene sesgo a la derecha. No obstante se deja el proceso reflejado en el notebook: "
   ]
  },
  {
   "cell_type": "code",
   "execution_count": 8,
   "id": "2efbe816-9bbc-42d4-8219-b6a886d5f39d",
   "metadata": {
    "tags": []
   },
   "outputs": [
    {
     "data": {
      "text/plain": [
       "count    8095.000000\n",
       "mean        0.842687\n",
       "std         0.148607\n",
       "min         0.000000\n",
       "25%         0.780000\n",
       "50%         0.880000\n",
       "75%         0.950000\n",
       "max         1.000000\n",
       "Name: score, dtype: float64"
      ]
     },
     "execution_count": 8,
     "metadata": {},
     "output_type": "execute_result"
    }
   ],
   "source": [
    "Api_df['score'].describe()"
   ]
  },
  {
   "cell_type": "code",
   "execution_count": 19,
   "id": "67ef87ea-18dc-4a7d-9f40-a25ed702dd79",
   "metadata": {
    "tags": []
   },
   "outputs": [
    {
     "name": "stdout",
     "output_type": "stream",
     "text": [
      "Mean: 0.8340240183305562\n",
      "Std deviation: 0.10804736350608936\n",
      "Min: 0.4864044873879608\n",
      "Max: 1.0\n"
     ]
    }
   ],
   "source": [
    "desired_mean = 0.842687\n",
    "sigma = 0.148607\n",
    "mu= np.log(desired_mean) - (sigma**2 / 2)\n",
    "\n",
    "# Generar datos aleatorios con la distribución log-normal\n",
    "data = np.random.lognormal(mean=mu, sigma=sigma, size=1000)\n",
    "\n",
    "# Asegurarse de que los datos estén en el rango deseado [0, 1]\n",
    "data_clipped = np.clip(data, 0, 1)\n",
    "\n",
    "# Imprimir estadísticas básicas de los datos generados\n",
    "print('Mean:', np.mean(data_clipped))\n",
    "print('Std deviation:', np.std(data_clipped))\n",
    "print('Min:', np.min(data_clipped))\n",
    "print('Max:', np.max(data_clipped))"
   ]
  },
  {
   "cell_type": "code",
   "execution_count": 20,
   "id": "54207456-532c-40a5-8b23-6e5c0ccb5662",
   "metadata": {
    "tags": []
   },
   "outputs": [
    {
     "data": {
      "text/plain": [
       "<AxesSubplot: ylabel='Count'>"
      ]
     },
     "execution_count": 20,
     "metadata": {},
     "output_type": "execute_result"
    },
    {
     "data": {
      "image/png": "[encoded data removed]",
      "text/plain": [
       "<Figure size 800x550 with 1 Axes>"
      ]
     },
     "metadata": {},
     "output_type": "display_data"
    }
   ],
   "source": [
    "sns.histplot(data)"
   ]
  },
  {
   "cell_type": "markdown",
   "id": "8f13f827-1462-4b0f-860c-9d7c312fff28",
   "metadata": {},
   "source": [
    "# Observaciones\n",
    "\n",
    "Cómo se puede observar en el histplot anterior, la distrubución de los datos de la log-normal tiene sesgo a la derecha y no a la izquierda, de manera que se procede a usar la distribución Beta"
   ]
  },
  {
   "cell_type": "markdown",
   "id": "e40b6945-ef4a-4955-922e-c946a4135fc4",
   "metadata": {},
   "source": [
    "# Imputación del Score usando la distrubución Beta:\n",
    "\n",
    "La dsitrubución Beta es una distrubución que tiene sesgo a la izquierda y que depende de dos parámetros $\\alpha$ y $\\beta$. \n",
    "La **distribución Beta** es una familia de distribuciones de probabilidad definidas en el intervalo \\([0, 1]\\), parametrizadas por dos parámetros positivos que generalmente se denotan como $\\alpha$ y $\\beta$. La función de densidad de probabilidad (PDF) de una variable aleatoria Beta \\(X\\) se define como:\n",
    "\n",
    "$$\n",
    "f(x; \\alpha, \\beta) = \\frac{x^{\\alpha - 1}(1-x)^{\\beta - 1}}{B(\\alpha, \\beta)}\n",
    "$$\n",
    "\n",
    "donde\n",
    "\n",
    "$$\n",
    "B(\\alpha, \\beta) = \\int_{0}^{1} t^{\\alpha - 1}(1-t)^{\\beta - 1} dt\n",
    "$$\n",
    "\n",
    "es la función Beta, que sirve como constante de normalización para que el área bajo la curva de la PDF sea igual a 1.\n",
    "\n",
    "La **media** $\\mu$ y **varianza** $\\sigma^2$ de la distribución Beta son:\n",
    "\n",
    "$$\n",
    "\\mu = \\frac{\\alpha}{\\alpha + \\beta}\n",
    "$$\n",
    "\n",
    "$$\n",
    "\\sigma^2 = \\frac{\\alpha \\beta}{(\\alpha + \\beta)^2 (\\alpha + \\beta + 1)}\n",
    "$$\n",
    "\n",
    "La forma de la distribución Beta puede variar ampliamente dependiendo de los valores de $\\alpha$ y $\\beta$, lo que la hace muy flexible para modelar datos con diferentes tipos de sesgos y concentraciones de probabilidad.\n",
    "\n",
    "Para poder ajustar los párametros de la distribución Beta a los datos de Score de la db original y de esta forma obtener los datos que servirán para imputar los scores de las bandas que estén en la base de datos de la API, pero no en la base de datos original se procede de la siguiente forma:\n",
    "\n",
    "# Primer Paso: obtener $\\alpha$ y $\\beta$ en terminos de $\\alpha +\\beta$ de las expresiones para la media y la varianza\n",
    "\n",
    "De la expresión de la media podemos despejar $\\alpha$ en terminos de $\\alpha +\\beta$ y nos arroja el siguiente resultado:\n",
    "\n",
    "$$\\alpha=\\mu(\\alpha +\\beta)$$\n",
    "\n",
    "Y para $\\beta$ tenemos que:\n",
    "\n",
    "$$\\beta=\\frac{\\alpha(1-\\mu)}{\\mu}=\\frac{\\mu(\\alpha +\\beta)(1-\\mu)}{\\mu}=(\\alpha +\\beta)(1-\\mu)$$\n",
    "\n",
    "# Segundo paso: obtener  $\\alpha +\\beta$ de las expresión para la varianza\n",
    "\n",
    "En la expresión de la varianza podemos sustituir el resultado obtenido anteriormente para $\\alpha$ y $\\beta$ en términos de $\\alpha +\\beta$:\n",
    "\n",
    "$$\n",
    "\\sigma^2 = \\frac{\\alpha \\beta}{(\\alpha + \\beta)^2 (\\alpha + \\beta + 1)}= \\frac{\\mu(\\alpha +\\beta)(\\alpha +\\beta)(1-\\mu)}{(\\alpha + \\beta)^2 (\\alpha + \\beta + 1)}=\\frac{\\mu(1-\\mu)}{ (\\alpha + \\beta + 1)}\n",
    "$$\n",
    "\n",
    "Y de este resultado podemos encontrar que \n",
    "\n",
    "$$\\alpha + \\beta=\\frac{\\mu(1-\\mu)}{\\sigma^{2}}-1$$\n",
    "\n",
    "Y ahora, si conocemos la varianza y la media podemos determinar $\\alpha +\\beta$ y con este párametro podemos calcular $\\alpha$ y $\\beta$ y con eso determinar nuestros párametros para la distribución beta. A partir de este punto llamaremos a $\\alpha +\\beta$ como tmp."
   ]
  },
  {
   "cell_type": "code",
   "execution_count": 33,
   "id": "5375f4f6-ffbc-4a90-988e-0d2c755b5d5c",
   "metadata": {
    "tags": []
   },
   "outputs": [
    {
     "name": "stdout",
     "output_type": "stream",
     "text": [
      "Media simulada: 0.8484208576244415\n",
      "Varianza simulada: 0.02114534012627476\n"
     ]
    }
   ],
   "source": [
    "media = 0.842687  \n",
    "varianza = 0.148607 ** 2  \n",
    "\n",
    "# Calcular los parámetros alfa y beta\n",
    "tmp = (media * (1 - media) / varianza) - 1\n",
    "alfa = media * tmp\n",
    "beta = (1 - media) * tmp\n",
    "\n",
    "# Simular datos de una distribución beta\n",
    "datos_simulados = np.random.beta(alfa, beta, size=1000)\n",
    "\n",
    "# Verificar las propiedades de los datos simulados\n",
    "print(f\"Media simulada: {np.mean(datos_simulados)}\")\n",
    "print(f\"Varianza simulada: {np.var(datos_simulados)}\")"
   ]
  },
  {
   "cell_type": "code",
   "execution_count": 31,
   "id": "b748bbff-7404-44af-9efb-296afa3edb33",
   "metadata": {
    "tags": []
   },
   "outputs": [
    {
     "data": {
      "text/plain": [
       "<AxesSubplot: ylabel='Count'>"
      ]
     },
     "execution_count": 31,
     "metadata": {},
     "output_type": "execute_result"
    },
    {
     "data": {
      "image/png": "[encoded data removed]",
      "text/plain": [
       "<Figure size 800x550 with 1 Axes>"
      ]
     },
     "metadata": {},
     "output_type": "display_data"
    }
   ],
   "source": [
    "sns.histplot(datos_simulados)"
   ]
  },
  {
   "cell_type": "code",
   "execution_count": 29,
   "id": "521441df-2d78-4e24-bdf4-13f1d6788767",
   "metadata": {
    "tags": []
   },
   "outputs": [],
   "source": [
    "Spotify_df['score']=Spotify_df.apply(lambda x:np.random.beta(alfa,beta),axis=1)"
   ]
  },
  {
   "cell_type": "code",
   "execution_count": 30,
   "id": "0b5b9f8c-8cb7-4229-955e-0f33e99b329e",
   "metadata": {
    "tags": []
   },
   "outputs": [
    {
     "data": {
      "text/html": [
       "<div>\n",
       "<style scoped>\n",
       "    .dataframe tbody tr th:only-of-type {\n",
       "        vertical-align: middle;\n",
       "    }\n",
       "\n",
       "    .dataframe tbody tr th {\n",
       "        vertical-align: top;\n",
       "    }\n",
       "\n",
       "    .dataframe thead th {\n",
       "        text-align: right;\n",
       "    }\n",
       "</style>\n",
       "<table border=\"1\" class=\"dataframe\">\n",
       "  <thead>\n",
       "    <tr style=\"text-align: right;\">\n",
       "      <th></th>\n",
       "      <th>Name</th>\n",
       "      <th>Genres</th>\n",
       "      <th>Popularity</th>\n",
       "      <th>Followers</th>\n",
       "      <th>Artist_URI</th>\n",
       "      <th>score</th>\n",
       "    </tr>\n",
       "  </thead>\n",
       "  <tbody>\n",
       "    <tr>\n",
       "      <th>0</th>\n",
       "      <td>Slayer</td>\n",
       "      <td>alternative metal, death metal, groove metal, ...</td>\n",
       "      <td>64</td>\n",
       "      <td>3717516</td>\n",
       "      <td>spotify:artist:1IQ2e1buppatiN1bxUVkrk</td>\n",
       "      <td>0.984666</td>\n",
       "    </tr>\n",
       "    <tr>\n",
       "      <th>1</th>\n",
       "      <td>Gojira</td>\n",
       "      <td>alternative metal, french death metal, french ...</td>\n",
       "      <td>61</td>\n",
       "      <td>1239549</td>\n",
       "      <td>spotify:artist:0GDGKpJFhVpcjIGF8N6Ewt</td>\n",
       "      <td>0.996419</td>\n",
       "    </tr>\n",
       "    <tr>\n",
       "      <th>2</th>\n",
       "      <td>Currents</td>\n",
       "      <td>melodic metalcore, metalcore, progressive deat...</td>\n",
       "      <td>58</td>\n",
       "      <td>187066</td>\n",
       "      <td>spotify:artist:5pqvAI85RMxL9K0xHvSwGu</td>\n",
       "      <td>0.670290</td>\n",
       "    </tr>\n",
       "    <tr>\n",
       "      <th>3</th>\n",
       "      <td>In Flames</td>\n",
       "      <td>alternative metal, gothenburg metal, melodic d...</td>\n",
       "      <td>61</td>\n",
       "      <td>1127923</td>\n",
       "      <td>spotify:artist:57ylwQTnFnIhJh4nu4rxCs</td>\n",
       "      <td>0.652000</td>\n",
       "    </tr>\n",
       "    <tr>\n",
       "      <th>4</th>\n",
       "      <td>Lorna Shore</td>\n",
       "      <td>blackened deathcore, melodic metalcore, sympho...</td>\n",
       "      <td>57</td>\n",
       "      <td>540632</td>\n",
       "      <td>spotify:artist:6vXYoy8ouRVib302zxaxFF</td>\n",
       "      <td>0.874139</td>\n",
       "    </tr>\n",
       "    <tr>\n",
       "      <th>...</th>\n",
       "      <td>...</td>\n",
       "      <td>...</td>\n",
       "      <td>...</td>\n",
       "      <td>...</td>\n",
       "      <td>...</td>\n",
       "      <td>...</td>\n",
       "    </tr>\n",
       "    <tr>\n",
       "      <th>995</th>\n",
       "      <td>Cleansing of the Temple</td>\n",
       "      <td>christian death metal, christian deathcore</td>\n",
       "      <td>5</td>\n",
       "      <td>1315</td>\n",
       "      <td>spotify:artist:4nNgrGNSI4M9ODTMH5MdNI</td>\n",
       "      <td>0.942668</td>\n",
       "    </tr>\n",
       "    <tr>\n",
       "      <th>996</th>\n",
       "      <td>Sentient Horror</td>\n",
       "      <td>swedish death metal</td>\n",
       "      <td>7</td>\n",
       "      <td>6037</td>\n",
       "      <td>spotify:artist:4MNbashXmMvEKIre76REzX</td>\n",
       "      <td>0.994068</td>\n",
       "    </tr>\n",
       "    <tr>\n",
       "      <th>997</th>\n",
       "      <td>Purulence</td>\n",
       "      <td>british death metal, slam death metal</td>\n",
       "      <td>6</td>\n",
       "      <td>2317</td>\n",
       "      <td>spotify:artist:6n2vNeCnk8otr3DpmS6osE</td>\n",
       "      <td>0.986358</td>\n",
       "    </tr>\n",
       "    <tr>\n",
       "      <th>998</th>\n",
       "      <td>Emasculated Vituperation</td>\n",
       "      <td>slam death metal</td>\n",
       "      <td>7</td>\n",
       "      <td>916</td>\n",
       "      <td>spotify:artist:6JWlwpjP9WMxELrxX73n4h</td>\n",
       "      <td>0.793271</td>\n",
       "    </tr>\n",
       "    <tr>\n",
       "      <th>999</th>\n",
       "      <td>Wirethrone</td>\n",
       "      <td>florida death metal</td>\n",
       "      <td>7</td>\n",
       "      <td>375</td>\n",
       "      <td>spotify:artist:5sQqpcYsodTpra0Spkl2rx</td>\n",
       "      <td>0.652053</td>\n",
       "    </tr>\n",
       "  </tbody>\n",
       "</table>\n",
       "<p>1000 rows × 6 columns</p>\n",
       "</div>"
      ],
      "text/plain": [
       "                         Name  \\\n",
       "0                      Slayer   \n",
       "1                      Gojira   \n",
       "2                    Currents   \n",
       "3                   In Flames   \n",
       "4                 Lorna Shore   \n",
       "..                        ...   \n",
       "995   Cleansing of the Temple   \n",
       "996           Sentient Horror   \n",
       "997                 Purulence   \n",
       "998  Emasculated Vituperation   \n",
       "999                Wirethrone   \n",
       "\n",
       "                                                Genres  Popularity  Followers  \\\n",
       "0    alternative metal, death metal, groove metal, ...          64    3717516   \n",
       "1    alternative metal, french death metal, french ...          61    1239549   \n",
       "2    melodic metalcore, metalcore, progressive deat...          58     187066   \n",
       "3    alternative metal, gothenburg metal, melodic d...          61    1127923   \n",
       "4    blackened deathcore, melodic metalcore, sympho...          57     540632   \n",
       "..                                                 ...         ...        ...   \n",
       "995         christian death metal, christian deathcore           5       1315   \n",
       "996                                swedish death metal           7       6037   \n",
       "997              british death metal, slam death metal           6       2317   \n",
       "998                                   slam death metal           7        916   \n",
       "999                                florida death metal           7        375   \n",
       "\n",
       "                                Artist_URI     score  \n",
       "0    spotify:artist:1IQ2e1buppatiN1bxUVkrk  0.984666  \n",
       "1    spotify:artist:0GDGKpJFhVpcjIGF8N6Ewt  0.996419  \n",
       "2    spotify:artist:5pqvAI85RMxL9K0xHvSwGu  0.670290  \n",
       "3    spotify:artist:57ylwQTnFnIhJh4nu4rxCs  0.652000  \n",
       "4    spotify:artist:6vXYoy8ouRVib302zxaxFF  0.874139  \n",
       "..                                     ...       ...  \n",
       "995  spotify:artist:4nNgrGNSI4M9ODTMH5MdNI  0.942668  \n",
       "996  spotify:artist:4MNbashXmMvEKIre76REzX  0.994068  \n",
       "997  spotify:artist:6n2vNeCnk8otr3DpmS6osE  0.986358  \n",
       "998  spotify:artist:6JWlwpjP9WMxELrxX73n4h  0.793271  \n",
       "999  spotify:artist:5sQqpcYsodTpra0Spkl2rx  0.652053  \n",
       "\n",
       "[1000 rows x 6 columns]"
      ]
     },
     "execution_count": 30,
     "metadata": {},
     "output_type": "execute_result"
    }
   ],
   "source": [
    "Spotify_df"
   ]
  },
  {
   "cell_type": "code",
   "execution_count": 32,
   "id": "8bd774a0-1e95-4f22-8117-d89d1069b861",
   "metadata": {
    "tags": []
   },
   "outputs": [
    {
     "data": {
      "text/plain": [
       "<AxesSubplot: xlabel='score', ylabel='Count'>"
      ]
     },
     "execution_count": 32,
     "metadata": {},
     "output_type": "execute_result"
    },
    {
     "data": {
      "image/png": "[encoded data removed]",
      "text/plain": [
       "<Figure size 800x550 with 1 Axes>"
      ]
     },
     "metadata": {},
     "output_type": "display_data"
    }
   ],
   "source": [
    "sns.histplot(Spotify_df['score'])"
   ]
  },
  {
   "cell_type": "code",
   "execution_count": 34,
   "id": "62441357-123f-48a5-91fe-f05d27ba1fd9",
   "metadata": {
    "tags": []
   },
   "outputs": [],
   "source": [
    "Spotify_df['validation']=[True if x in Api_df.name.values else False for x in Spotify_df.Name]"
   ]
  },
  {
   "cell_type": "code",
   "execution_count": 35,
   "id": "d8155627-5c21-47bd-9024-cc63fd5fb404",
   "metadata": {
    "tags": []
   },
   "outputs": [
    {
     "data": {
      "text/html": [
       "<div>\n",
       "<style scoped>\n",
       "    .dataframe tbody tr th:only-of-type {\n",
       "        vertical-align: middle;\n",
       "    }\n",
       "\n",
       "    .dataframe tbody tr th {\n",
       "        vertical-align: top;\n",
       "    }\n",
       "\n",
       "    .dataframe thead th {\n",
       "        text-align: right;\n",
       "    }\n",
       "</style>\n",
       "<table border=\"1\" class=\"dataframe\">\n",
       "  <thead>\n",
       "    <tr style=\"text-align: right;\">\n",
       "      <th></th>\n",
       "      <th>Name</th>\n",
       "      <th>Genres</th>\n",
       "      <th>Popularity</th>\n",
       "      <th>Followers</th>\n",
       "      <th>Artist_URI</th>\n",
       "      <th>score</th>\n",
       "      <th>validation</th>\n",
       "    </tr>\n",
       "  </thead>\n",
       "  <tbody>\n",
       "    <tr>\n",
       "      <th>0</th>\n",
       "      <td>Slayer</td>\n",
       "      <td>alternative metal, death metal, groove metal, ...</td>\n",
       "      <td>64</td>\n",
       "      <td>3717516</td>\n",
       "      <td>spotify:artist:1IQ2e1buppatiN1bxUVkrk</td>\n",
       "      <td>0.984666</td>\n",
       "      <td>True</td>\n",
       "    </tr>\n",
       "    <tr>\n",
       "      <th>1</th>\n",
       "      <td>Gojira</td>\n",
       "      <td>alternative metal, french death metal, french ...</td>\n",
       "      <td>61</td>\n",
       "      <td>1239549</td>\n",
       "      <td>spotify:artist:0GDGKpJFhVpcjIGF8N6Ewt</td>\n",
       "      <td>0.996419</td>\n",
       "      <td>True</td>\n",
       "    </tr>\n",
       "    <tr>\n",
       "      <th>2</th>\n",
       "      <td>Currents</td>\n",
       "      <td>melodic metalcore, metalcore, progressive deat...</td>\n",
       "      <td>58</td>\n",
       "      <td>187066</td>\n",
       "      <td>spotify:artist:5pqvAI85RMxL9K0xHvSwGu</td>\n",
       "      <td>0.670290</td>\n",
       "      <td>False</td>\n",
       "    </tr>\n",
       "    <tr>\n",
       "      <th>3</th>\n",
       "      <td>In Flames</td>\n",
       "      <td>alternative metal, gothenburg metal, melodic d...</td>\n",
       "      <td>61</td>\n",
       "      <td>1127923</td>\n",
       "      <td>spotify:artist:57ylwQTnFnIhJh4nu4rxCs</td>\n",
       "      <td>0.652000</td>\n",
       "      <td>True</td>\n",
       "    </tr>\n",
       "    <tr>\n",
       "      <th>4</th>\n",
       "      <td>Lorna Shore</td>\n",
       "      <td>blackened deathcore, melodic metalcore, sympho...</td>\n",
       "      <td>57</td>\n",
       "      <td>540632</td>\n",
       "      <td>spotify:artist:6vXYoy8ouRVib302zxaxFF</td>\n",
       "      <td>0.874139</td>\n",
       "      <td>True</td>\n",
       "    </tr>\n",
       "    <tr>\n",
       "      <th>...</th>\n",
       "      <td>...</td>\n",
       "      <td>...</td>\n",
       "      <td>...</td>\n",
       "      <td>...</td>\n",
       "      <td>...</td>\n",
       "      <td>...</td>\n",
       "      <td>...</td>\n",
       "    </tr>\n",
       "    <tr>\n",
       "      <th>995</th>\n",
       "      <td>Cleansing of the Temple</td>\n",
       "      <td>christian death metal, christian deathcore</td>\n",
       "      <td>5</td>\n",
       "      <td>1315</td>\n",
       "      <td>spotify:artist:4nNgrGNSI4M9ODTMH5MdNI</td>\n",
       "      <td>0.942668</td>\n",
       "      <td>False</td>\n",
       "    </tr>\n",
       "    <tr>\n",
       "      <th>996</th>\n",
       "      <td>Sentient Horror</td>\n",
       "      <td>swedish death metal</td>\n",
       "      <td>7</td>\n",
       "      <td>6037</td>\n",
       "      <td>spotify:artist:4MNbashXmMvEKIre76REzX</td>\n",
       "      <td>0.994068</td>\n",
       "      <td>False</td>\n",
       "    </tr>\n",
       "    <tr>\n",
       "      <th>997</th>\n",
       "      <td>Purulence</td>\n",
       "      <td>british death metal, slam death metal</td>\n",
       "      <td>6</td>\n",
       "      <td>2317</td>\n",
       "      <td>spotify:artist:6n2vNeCnk8otr3DpmS6osE</td>\n",
       "      <td>0.986358</td>\n",
       "      <td>False</td>\n",
       "    </tr>\n",
       "    <tr>\n",
       "      <th>998</th>\n",
       "      <td>Emasculated Vituperation</td>\n",
       "      <td>slam death metal</td>\n",
       "      <td>7</td>\n",
       "      <td>916</td>\n",
       "      <td>spotify:artist:6JWlwpjP9WMxELrxX73n4h</td>\n",
       "      <td>0.793271</td>\n",
       "      <td>False</td>\n",
       "    </tr>\n",
       "    <tr>\n",
       "      <th>999</th>\n",
       "      <td>Wirethrone</td>\n",
       "      <td>florida death metal</td>\n",
       "      <td>7</td>\n",
       "      <td>375</td>\n",
       "      <td>spotify:artist:5sQqpcYsodTpra0Spkl2rx</td>\n",
       "      <td>0.652053</td>\n",
       "      <td>False</td>\n",
       "    </tr>\n",
       "  </tbody>\n",
       "</table>\n",
       "<p>1000 rows × 7 columns</p>\n",
       "</div>"
      ],
      "text/plain": [
       "                         Name  \\\n",
       "0                      Slayer   \n",
       "1                      Gojira   \n",
       "2                    Currents   \n",
       "3                   In Flames   \n",
       "4                 Lorna Shore   \n",
       "..                        ...   \n",
       "995   Cleansing of the Temple   \n",
       "996           Sentient Horror   \n",
       "997                 Purulence   \n",
       "998  Emasculated Vituperation   \n",
       "999                Wirethrone   \n",
       "\n",
       "                                                Genres  Popularity  Followers  \\\n",
       "0    alternative metal, death metal, groove metal, ...          64    3717516   \n",
       "1    alternative metal, french death metal, french ...          61    1239549   \n",
       "2    melodic metalcore, metalcore, progressive deat...          58     187066   \n",
       "3    alternative metal, gothenburg metal, melodic d...          61    1127923   \n",
       "4    blackened deathcore, melodic metalcore, sympho...          57     540632   \n",
       "..                                                 ...         ...        ...   \n",
       "995         christian death metal, christian deathcore           5       1315   \n",
       "996                                swedish death metal           7       6037   \n",
       "997              british death metal, slam death metal           6       2317   \n",
       "998                                   slam death metal           7        916   \n",
       "999                                florida death metal           7        375   \n",
       "\n",
       "                                Artist_URI     score  validation  \n",
       "0    spotify:artist:1IQ2e1buppatiN1bxUVkrk  0.984666        True  \n",
       "1    spotify:artist:0GDGKpJFhVpcjIGF8N6Ewt  0.996419        True  \n",
       "2    spotify:artist:5pqvAI85RMxL9K0xHvSwGu  0.670290       False  \n",
       "3    spotify:artist:57ylwQTnFnIhJh4nu4rxCs  0.652000        True  \n",
       "4    spotify:artist:6vXYoy8ouRVib302zxaxFF  0.874139        True  \n",
       "..                                     ...       ...         ...  \n",
       "995  spotify:artist:4nNgrGNSI4M9ODTMH5MdNI  0.942668       False  \n",
       "996  spotify:artist:4MNbashXmMvEKIre76REzX  0.994068       False  \n",
       "997  spotify:artist:6n2vNeCnk8otr3DpmS6osE  0.986358       False  \n",
       "998  spotify:artist:6JWlwpjP9WMxELrxX73n4h  0.793271       False  \n",
       "999  spotify:artist:5sQqpcYsodTpra0Spkl2rx  0.652053       False  \n",
       "\n",
       "[1000 rows x 7 columns]"
      ]
     },
     "execution_count": 35,
     "metadata": {},
     "output_type": "execute_result"
    }
   ],
   "source": [
    "Spotify_df"
   ]
  },
  {
   "cell_type": "code",
   "execution_count": 36,
   "id": "fbabc989-434f-4654-b314-8225d6707775",
   "metadata": {
    "tags": []
   },
   "outputs": [
    {
     "data": {
      "text/html": [
       "<div>\n",
       "<style scoped>\n",
       "    .dataframe tbody tr th:only-of-type {\n",
       "        vertical-align: middle;\n",
       "    }\n",
       "\n",
       "    .dataframe tbody tr th {\n",
       "        vertical-align: top;\n",
       "    }\n",
       "\n",
       "    .dataframe thead th {\n",
       "        text-align: right;\n",
       "    }\n",
       "</style>\n",
       "<table border=\"1\" class=\"dataframe\">\n",
       "  <thead>\n",
       "    <tr style=\"text-align: right;\">\n",
       "      <th></th>\n",
       "      <th>Name</th>\n",
       "      <th>Genres</th>\n",
       "      <th>Popularity</th>\n",
       "      <th>Followers</th>\n",
       "      <th>Artist_URI</th>\n",
       "      <th>score</th>\n",
       "      <th>validation</th>\n",
       "    </tr>\n",
       "  </thead>\n",
       "  <tbody>\n",
       "    <tr>\n",
       "      <th>2</th>\n",
       "      <td>Currents</td>\n",
       "      <td>melodic metalcore, metalcore, progressive deat...</td>\n",
       "      <td>58</td>\n",
       "      <td>187066</td>\n",
       "      <td>spotify:artist:5pqvAI85RMxL9K0xHvSwGu</td>\n",
       "      <td>0.670290</td>\n",
       "      <td>False</td>\n",
       "    </tr>\n",
       "    <tr>\n",
       "      <th>5</th>\n",
       "      <td>Slaughter to Prevail</td>\n",
       "      <td>russian metal, russian metalcore, slamming dea...</td>\n",
       "      <td>56</td>\n",
       "      <td>551299</td>\n",
       "      <td>spotify:artist:24Oiw7BlvO1BETecDLJt6m</td>\n",
       "      <td>0.939591</td>\n",
       "      <td>False</td>\n",
       "    </tr>\n",
       "    <tr>\n",
       "      <th>8</th>\n",
       "      <td>I See Stars</td>\n",
       "      <td>deathstep, melodic metalcore, metalcore, neon ...</td>\n",
       "      <td>51</td>\n",
       "      <td>451467</td>\n",
       "      <td>spotify:artist:3iCJOi5YKh247eutgCyLFe</td>\n",
       "      <td>0.779559</td>\n",
       "      <td>False</td>\n",
       "    </tr>\n",
       "    <tr>\n",
       "      <th>9</th>\n",
       "      <td>Make Them Suffer</td>\n",
       "      <td>australian metalcore, blackened deathcore, bru...</td>\n",
       "      <td>52</td>\n",
       "      <td>233898</td>\n",
       "      <td>spotify:artist:0FZcPgWI3BsFQl4rOAGSHT</td>\n",
       "      <td>0.909188</td>\n",
       "      <td>False</td>\n",
       "    </tr>\n",
       "    <tr>\n",
       "      <th>13</th>\n",
       "      <td>Alpha Wolf</td>\n",
       "      <td>australian post-hardcore, deathcore, melodic m...</td>\n",
       "      <td>50</td>\n",
       "      <td>129182</td>\n",
       "      <td>spotify:artist:2tjnvrUmP46XNjFh9V0NGc</td>\n",
       "      <td>0.557774</td>\n",
       "      <td>False</td>\n",
       "    </tr>\n",
       "    <tr>\n",
       "      <th>...</th>\n",
       "      <td>...</td>\n",
       "      <td>...</td>\n",
       "      <td>...</td>\n",
       "      <td>...</td>\n",
       "      <td>...</td>\n",
       "      <td>...</td>\n",
       "      <td>...</td>\n",
       "    </tr>\n",
       "    <tr>\n",
       "      <th>995</th>\n",
       "      <td>Cleansing of the Temple</td>\n",
       "      <td>christian death metal, christian deathcore</td>\n",
       "      <td>5</td>\n",
       "      <td>1315</td>\n",
       "      <td>spotify:artist:4nNgrGNSI4M9ODTMH5MdNI</td>\n",
       "      <td>0.942668</td>\n",
       "      <td>False</td>\n",
       "    </tr>\n",
       "    <tr>\n",
       "      <th>996</th>\n",
       "      <td>Sentient Horror</td>\n",
       "      <td>swedish death metal</td>\n",
       "      <td>7</td>\n",
       "      <td>6037</td>\n",
       "      <td>spotify:artist:4MNbashXmMvEKIre76REzX</td>\n",
       "      <td>0.994068</td>\n",
       "      <td>False</td>\n",
       "    </tr>\n",
       "    <tr>\n",
       "      <th>997</th>\n",
       "      <td>Purulence</td>\n",
       "      <td>british death metal, slam death metal</td>\n",
       "      <td>6</td>\n",
       "      <td>2317</td>\n",
       "      <td>spotify:artist:6n2vNeCnk8otr3DpmS6osE</td>\n",
       "      <td>0.986358</td>\n",
       "      <td>False</td>\n",
       "    </tr>\n",
       "    <tr>\n",
       "      <th>998</th>\n",
       "      <td>Emasculated Vituperation</td>\n",
       "      <td>slam death metal</td>\n",
       "      <td>7</td>\n",
       "      <td>916</td>\n",
       "      <td>spotify:artist:6JWlwpjP9WMxELrxX73n4h</td>\n",
       "      <td>0.793271</td>\n",
       "      <td>False</td>\n",
       "    </tr>\n",
       "    <tr>\n",
       "      <th>999</th>\n",
       "      <td>Wirethrone</td>\n",
       "      <td>florida death metal</td>\n",
       "      <td>7</td>\n",
       "      <td>375</td>\n",
       "      <td>spotify:artist:5sQqpcYsodTpra0Spkl2rx</td>\n",
       "      <td>0.652053</td>\n",
       "      <td>False</td>\n",
       "    </tr>\n",
       "  </tbody>\n",
       "</table>\n",
       "<p>436 rows × 7 columns</p>\n",
       "</div>"
      ],
      "text/plain": [
       "                         Name  \\\n",
       "2                    Currents   \n",
       "5        Slaughter to Prevail   \n",
       "8                 I See Stars   \n",
       "9            Make Them Suffer   \n",
       "13                 Alpha Wolf   \n",
       "..                        ...   \n",
       "995   Cleansing of the Temple   \n",
       "996           Sentient Horror   \n",
       "997                 Purulence   \n",
       "998  Emasculated Vituperation   \n",
       "999                Wirethrone   \n",
       "\n",
       "                                                Genres  Popularity  Followers  \\\n",
       "2    melodic metalcore, metalcore, progressive deat...          58     187066   \n",
       "5    russian metal, russian metalcore, slamming dea...          56     551299   \n",
       "8    deathstep, melodic metalcore, metalcore, neon ...          51     451467   \n",
       "9    australian metalcore, blackened deathcore, bru...          52     233898   \n",
       "13   australian post-hardcore, deathcore, melodic m...          50     129182   \n",
       "..                                                 ...         ...        ...   \n",
       "995         christian death metal, christian deathcore           5       1315   \n",
       "996                                swedish death metal           7       6037   \n",
       "997              british death metal, slam death metal           6       2317   \n",
       "998                                   slam death metal           7        916   \n",
       "999                                florida death metal           7        375   \n",
       "\n",
       "                                Artist_URI     score  validation  \n",
       "2    spotify:artist:5pqvAI85RMxL9K0xHvSwGu  0.670290       False  \n",
       "5    spotify:artist:24Oiw7BlvO1BETecDLJt6m  0.939591       False  \n",
       "8    spotify:artist:3iCJOi5YKh247eutgCyLFe  0.779559       False  \n",
       "9    spotify:artist:0FZcPgWI3BsFQl4rOAGSHT  0.909188       False  \n",
       "13   spotify:artist:2tjnvrUmP46XNjFh9V0NGc  0.557774       False  \n",
       "..                                     ...       ...         ...  \n",
       "995  spotify:artist:4nNgrGNSI4M9ODTMH5MdNI  0.942668       False  \n",
       "996  spotify:artist:4MNbashXmMvEKIre76REzX  0.994068       False  \n",
       "997  spotify:artist:6n2vNeCnk8otr3DpmS6osE  0.986358       False  \n",
       "998  spotify:artist:6JWlwpjP9WMxELrxX73n4h  0.793271       False  \n",
       "999  spotify:artist:5sQqpcYsodTpra0Spkl2rx  0.652053       False  \n",
       "\n",
       "[436 rows x 7 columns]"
      ]
     },
     "execution_count": 36,
     "metadata": {},
     "output_type": "execute_result"
    }
   ],
   "source": [
    "false_Rows=Spotify_df[Spotify_df['validation']==False]\n",
    "false_Rows"
   ]
  },
  {
   "cell_type": "code",
   "execution_count": 37,
   "id": "402af332-e9d7-4611-8733-504f398410aa",
   "metadata": {
    "tags": []
   },
   "outputs": [
    {
     "data": {
      "text/plain": [
       "69996"
      ]
     },
     "execution_count": 37,
     "metadata": {},
     "output_type": "execute_result"
    }
   ],
   "source": [
    "Api_df['id_band'].max()"
   ]
  },
  {
   "cell_type": "code",
   "execution_count": 38,
   "id": "cf7c5fad-8128-4b61-92c6-54b4c52564be",
   "metadata": {
    "tags": []
   },
   "outputs": [
    {
     "data": {
      "text/html": [
       "<div>\n",
       "<style scoped>\n",
       "    .dataframe tbody tr th:only-of-type {\n",
       "        vertical-align: middle;\n",
       "    }\n",
       "\n",
       "    .dataframe tbody tr th {\n",
       "        vertical-align: top;\n",
       "    }\n",
       "\n",
       "    .dataframe thead th {\n",
       "        text-align: right;\n",
       "    }\n",
       "</style>\n",
       "<table border=\"1\" class=\"dataframe\">\n",
       "  <thead>\n",
       "    <tr style=\"text-align: right;\">\n",
       "      <th></th>\n",
       "      <th>id_band</th>\n",
       "      <th>score</th>\n",
       "      <th>name</th>\n",
       "      <th>has_transitions</th>\n",
       "      <th>albumCount</th>\n",
       "      <th>review_count</th>\n",
       "    </tr>\n",
       "  </thead>\n",
       "  <tbody>\n",
       "    <tr>\n",
       "      <th>7199</th>\n",
       "      <td>69996</td>\n",
       "      <td>0.78</td>\n",
       "      <td>Paul Nelson</td>\n",
       "      <td>0</td>\n",
       "      <td>1.0</td>\n",
       "      <td>6</td>\n",
       "    </tr>\n",
       "  </tbody>\n",
       "</table>\n",
       "</div>"
      ],
      "text/plain": [
       "      id_band  score         name  has_transitions  albumCount  review_count\n",
       "7199    69996   0.78  Paul Nelson                0         1.0             6"
      ]
     },
     "execution_count": 38,
     "metadata": {},
     "output_type": "execute_result"
    }
   ],
   "source": [
    "Api_df.loc[Api_df['id_band']==69996]"
   ]
  },
  {
   "cell_type": "code",
   "execution_count": 39,
   "id": "dc970a41-267e-498f-ae37-d5c13b777bbe",
   "metadata": {
    "tags": []
   },
   "outputs": [],
   "source": [
    "false_Rows['id_band']=false_Rows.apply(lambda x:np.random.randint(70010,70450),axis=1)"
   ]
  },
  {
   "cell_type": "code",
   "execution_count": 40,
   "id": "fe5b6d2f-b105-415b-987e-d4a493575501",
   "metadata": {
    "tags": []
   },
   "outputs": [
    {
     "data": {
      "text/html": [
       "<div>\n",
       "<style scoped>\n",
       "    .dataframe tbody tr th:only-of-type {\n",
       "        vertical-align: middle;\n",
       "    }\n",
       "\n",
       "    .dataframe tbody tr th {\n",
       "        vertical-align: top;\n",
       "    }\n",
       "\n",
       "    .dataframe thead th {\n",
       "        text-align: right;\n",
       "    }\n",
       "</style>\n",
       "<table border=\"1\" class=\"dataframe\">\n",
       "  <thead>\n",
       "    <tr style=\"text-align: right;\">\n",
       "      <th></th>\n",
       "      <th>Name</th>\n",
       "      <th>Genres</th>\n",
       "      <th>Popularity</th>\n",
       "      <th>Followers</th>\n",
       "      <th>Artist_URI</th>\n",
       "      <th>score</th>\n",
       "      <th>validation</th>\n",
       "      <th>id_band</th>\n",
       "    </tr>\n",
       "  </thead>\n",
       "  <tbody>\n",
       "    <tr>\n",
       "      <th>2</th>\n",
       "      <td>Currents</td>\n",
       "      <td>melodic metalcore, metalcore, progressive deat...</td>\n",
       "      <td>58</td>\n",
       "      <td>187066</td>\n",
       "      <td>spotify:artist:5pqvAI85RMxL9K0xHvSwGu</td>\n",
       "      <td>0.670290</td>\n",
       "      <td>False</td>\n",
       "      <td>70138</td>\n",
       "    </tr>\n",
       "    <tr>\n",
       "      <th>5</th>\n",
       "      <td>Slaughter to Prevail</td>\n",
       "      <td>russian metal, russian metalcore, slamming dea...</td>\n",
       "      <td>56</td>\n",
       "      <td>551299</td>\n",
       "      <td>spotify:artist:24Oiw7BlvO1BETecDLJt6m</td>\n",
       "      <td>0.939591</td>\n",
       "      <td>False</td>\n",
       "      <td>70309</td>\n",
       "    </tr>\n",
       "    <tr>\n",
       "      <th>8</th>\n",
       "      <td>I See Stars</td>\n",
       "      <td>deathstep, melodic metalcore, metalcore, neon ...</td>\n",
       "      <td>51</td>\n",
       "      <td>451467</td>\n",
       "      <td>spotify:artist:3iCJOi5YKh247eutgCyLFe</td>\n",
       "      <td>0.779559</td>\n",
       "      <td>False</td>\n",
       "      <td>70145</td>\n",
       "    </tr>\n",
       "    <tr>\n",
       "      <th>9</th>\n",
       "      <td>Make Them Suffer</td>\n",
       "      <td>australian metalcore, blackened deathcore, bru...</td>\n",
       "      <td>52</td>\n",
       "      <td>233898</td>\n",
       "      <td>spotify:artist:0FZcPgWI3BsFQl4rOAGSHT</td>\n",
       "      <td>0.909188</td>\n",
       "      <td>False</td>\n",
       "      <td>70012</td>\n",
       "    </tr>\n",
       "    <tr>\n",
       "      <th>13</th>\n",
       "      <td>Alpha Wolf</td>\n",
       "      <td>australian post-hardcore, deathcore, melodic m...</td>\n",
       "      <td>50</td>\n",
       "      <td>129182</td>\n",
       "      <td>spotify:artist:2tjnvrUmP46XNjFh9V0NGc</td>\n",
       "      <td>0.557774</td>\n",
       "      <td>False</td>\n",
       "      <td>70247</td>\n",
       "    </tr>\n",
       "    <tr>\n",
       "      <th>...</th>\n",
       "      <td>...</td>\n",
       "      <td>...</td>\n",
       "      <td>...</td>\n",
       "      <td>...</td>\n",
       "      <td>...</td>\n",
       "      <td>...</td>\n",
       "      <td>...</td>\n",
       "      <td>...</td>\n",
       "    </tr>\n",
       "    <tr>\n",
       "      <th>995</th>\n",
       "      <td>Cleansing of the Temple</td>\n",
       "      <td>christian death metal, christian deathcore</td>\n",
       "      <td>5</td>\n",
       "      <td>1315</td>\n",
       "      <td>spotify:artist:4nNgrGNSI4M9ODTMH5MdNI</td>\n",
       "      <td>0.942668</td>\n",
       "      <td>False</td>\n",
       "      <td>70229</td>\n",
       "    </tr>\n",
       "    <tr>\n",
       "      <th>996</th>\n",
       "      <td>Sentient Horror</td>\n",
       "      <td>swedish death metal</td>\n",
       "      <td>7</td>\n",
       "      <td>6037</td>\n",
       "      <td>spotify:artist:4MNbashXmMvEKIre76REzX</td>\n",
       "      <td>0.994068</td>\n",
       "      <td>False</td>\n",
       "      <td>70176</td>\n",
       "    </tr>\n",
       "    <tr>\n",
       "      <th>997</th>\n",
       "      <td>Purulence</td>\n",
       "      <td>british death metal, slam death metal</td>\n",
       "      <td>6</td>\n",
       "      <td>2317</td>\n",
       "      <td>spotify:artist:6n2vNeCnk8otr3DpmS6osE</td>\n",
       "      <td>0.986358</td>\n",
       "      <td>False</td>\n",
       "      <td>70359</td>\n",
       "    </tr>\n",
       "    <tr>\n",
       "      <th>998</th>\n",
       "      <td>Emasculated Vituperation</td>\n",
       "      <td>slam death metal</td>\n",
       "      <td>7</td>\n",
       "      <td>916</td>\n",
       "      <td>spotify:artist:6JWlwpjP9WMxELrxX73n4h</td>\n",
       "      <td>0.793271</td>\n",
       "      <td>False</td>\n",
       "      <td>70147</td>\n",
       "    </tr>\n",
       "    <tr>\n",
       "      <th>999</th>\n",
       "      <td>Wirethrone</td>\n",
       "      <td>florida death metal</td>\n",
       "      <td>7</td>\n",
       "      <td>375</td>\n",
       "      <td>spotify:artist:5sQqpcYsodTpra0Spkl2rx</td>\n",
       "      <td>0.652053</td>\n",
       "      <td>False</td>\n",
       "      <td>70068</td>\n",
       "    </tr>\n",
       "  </tbody>\n",
       "</table>\n",
       "<p>436 rows × 8 columns</p>\n",
       "</div>"
      ],
      "text/plain": [
       "                         Name  \\\n",
       "2                    Currents   \n",
       "5        Slaughter to Prevail   \n",
       "8                 I See Stars   \n",
       "9            Make Them Suffer   \n",
       "13                 Alpha Wolf   \n",
       "..                        ...   \n",
       "995   Cleansing of the Temple   \n",
       "996           Sentient Horror   \n",
       "997                 Purulence   \n",
       "998  Emasculated Vituperation   \n",
       "999                Wirethrone   \n",
       "\n",
       "                                                Genres  Popularity  Followers  \\\n",
       "2    melodic metalcore, metalcore, progressive deat...          58     187066   \n",
       "5    russian metal, russian metalcore, slamming dea...          56     551299   \n",
       "8    deathstep, melodic metalcore, metalcore, neon ...          51     451467   \n",
       "9    australian metalcore, blackened deathcore, bru...          52     233898   \n",
       "13   australian post-hardcore, deathcore, melodic m...          50     129182   \n",
       "..                                                 ...         ...        ...   \n",
       "995         christian death metal, christian deathcore           5       1315   \n",
       "996                                swedish death metal           7       6037   \n",
       "997              british death metal, slam death metal           6       2317   \n",
       "998                                   slam death metal           7        916   \n",
       "999                                florida death metal           7        375   \n",
       "\n",
       "                                Artist_URI     score  validation  id_band  \n",
       "2    spotify:artist:5pqvAI85RMxL9K0xHvSwGu  0.670290       False    70138  \n",
       "5    spotify:artist:24Oiw7BlvO1BETecDLJt6m  0.939591       False    70309  \n",
       "8    spotify:artist:3iCJOi5YKh247eutgCyLFe  0.779559       False    70145  \n",
       "9    spotify:artist:0FZcPgWI3BsFQl4rOAGSHT  0.909188       False    70012  \n",
       "13   spotify:artist:2tjnvrUmP46XNjFh9V0NGc  0.557774       False    70247  \n",
       "..                                     ...       ...         ...      ...  \n",
       "995  spotify:artist:4nNgrGNSI4M9ODTMH5MdNI  0.942668       False    70229  \n",
       "996  spotify:artist:4MNbashXmMvEKIre76REzX  0.994068       False    70176  \n",
       "997  spotify:artist:6n2vNeCnk8otr3DpmS6osE  0.986358       False    70359  \n",
       "998  spotify:artist:6JWlwpjP9WMxELrxX73n4h  0.793271       False    70147  \n",
       "999  spotify:artist:5sQqpcYsodTpra0Spkl2rx  0.652053       False    70068  \n",
       "\n",
       "[436 rows x 8 columns]"
      ]
     },
     "execution_count": 40,
     "metadata": {},
     "output_type": "execute_result"
    }
   ],
   "source": [
    "false_Rows"
   ]
  },
  {
   "cell_type": "code",
   "execution_count": 41,
   "id": "3564f117-84e8-4c7a-a020-a5b201150ad3",
   "metadata": {
    "tags": []
   },
   "outputs": [
    {
     "data": {
      "text/plain": [
       "count    436.000000\n",
       "mean      20.098624\n",
       "std       11.154171\n",
       "min        5.000000\n",
       "25%       11.000000\n",
       "50%       18.000000\n",
       "75%       26.250000\n",
       "max       58.000000\n",
       "Name: Popularity, dtype: float64"
      ]
     },
     "execution_count": 41,
     "metadata": {},
     "output_type": "execute_result"
    }
   ],
   "source": [
    "false_Rows['Popularity'].describe()"
   ]
  },
  {
   "cell_type": "code",
   "execution_count": 42,
   "id": "73aec58a-cbca-44fb-968f-1b1ea6bd392f",
   "metadata": {
    "tags": []
   },
   "outputs": [
    {
     "data": {
      "text/plain": [
       "<AxesSubplot: xlabel='Popularity', ylabel='Count'>"
      ]
     },
     "execution_count": 42,
     "metadata": {},
     "output_type": "execute_result"
    },
    {
     "data": {
      "image/png": "[encoded data removed]",
      "text/plain": [
       "<Figure size 800x550 with 1 Axes>"
      ]
     },
     "metadata": {},
     "output_type": "display_data"
    }
   ],
   "source": [
    "sns.histplot(false_Rows['Popularity'])"
   ]
  },
  {
   "cell_type": "code",
   "execution_count": 43,
   "id": "1124579d-c70e-4a1e-895a-16778cdf05e1",
   "metadata": {
    "tags": []
   },
   "outputs": [
    {
     "data": {
      "text/plain": [
       "count       436.000000\n",
       "mean      35858.431193\n",
       "std       72777.213872\n",
       "min         190.000000\n",
       "25%        5090.000000\n",
       "50%       10310.000000\n",
       "75%       31476.500000\n",
       "max      679904.000000\n",
       "Name: Followers, dtype: float64"
      ]
     },
     "execution_count": 43,
     "metadata": {},
     "output_type": "execute_result"
    }
   ],
   "source": [
    "false_Rows['Followers'].describe()"
   ]
  },
  {
   "cell_type": "code",
   "execution_count": 44,
   "id": "fa78bd71-b556-406e-9b33-a110833f3435",
   "metadata": {
    "tags": []
   },
   "outputs": [
    {
     "data": {
      "text/plain": [
       "<AxesSubplot: xlabel='Followers', ylabel='Count'>"
      ]
     },
     "execution_count": 44,
     "metadata": {},
     "output_type": "execute_result"
    },
    {
     "data": {
      "image/png": "[encoded data removed]",
      "text/plain": [
       "<Figure size 800x550 with 1 Axes>"
      ]
     },
     "metadata": {},
     "output_type": "display_data"
    }
   ],
   "source": [
    "sns.histplot(false_Rows['Followers'])"
   ]
  },
  {
   "cell_type": "code",
   "execution_count": 63,
   "id": "6b775bdf-ebd5-4dd1-af3a-4b3a25d8b7cd",
   "metadata": {
    "tags": []
   },
   "outputs": [
    {
     "name": "stdout",
     "output_type": "stream",
     "text": [
      "Mean: 19.795810228597286\n",
      "Std deviation: 10.012912824056873\n",
      "Min: 5.0\n",
      "Max: 58.0\n"
     ]
    }
   ],
   "source": [
    "# Datos originales\n",
    "popularity_mean = 20.098624\n",
    "pop_std_dev = 11.154171\n",
    "pop_variance = pop_std_dev ** 2\n",
    "\n",
    "# Calcular los parámetros de la distribución log-normal\n",
    "mu_pop = np.log(popularity_mean ** 2 / np.sqrt(pop_variance + popularity_mean ** 2))\n",
    "sigma_pop = np.sqrt(np.log(pop_variance / popularity_mean ** 2 + 1))\n",
    "\n",
    "# Generar datos aleatorios con la distribución log-normal\n",
    "data_pop = np.random.lognormal(mean=mu_pop, sigma=sigma_pop, size=1000)\n",
    "\n",
    "# Asegurarse de que los datos estén en el rango deseado [5, 58]\n",
    "data_clipped_pop = np.clip(data_pop, 5, 58)\n",
    "\n",
    "# Imprimir estadísticas básicas de los datos generados\n",
    "print('Mean:', np.mean(data_clipped_pop))\n",
    "print('Std deviation:', np.std(data_clipped_pop))\n",
    "print('Min:', np.min(data_clipped_pop))\n",
    "print('Max:', np.max(data_clipped_pop))"
   ]
  },
  {
   "cell_type": "code",
   "execution_count": 58,
   "id": "fc127380-40f9-4ec0-bdcd-d402717e584b",
   "metadata": {
    "tags": []
   },
   "outputs": [
    {
     "name": "stdout",
     "output_type": "stream",
     "text": [
      "Mean: 35191.00879562545\n",
      "Std deviation: 58618.66706096929\n",
      "Min: 229.89968439510952\n",
      "Max: 679904.0\n"
     ]
    }
   ],
   "source": [
    "# Datos originales\n",
    "followers_mean = 35858.431193\n",
    "followers_var = 72777.213872 ** 2  # Variance, not standard deviation\n",
    "\n",
    "# Calcular los parámetros de la distribución log-normal\n",
    "mu_fol = np.log(followers_mean**2 / np.sqrt(followers_var + followers_mean**2))\n",
    "sigma_fol = np.sqrt(np.log(followers_var / followers_mean**2 + 1))\n",
    "\n",
    "# Generar datos aleatorios con la distribución log-normal\n",
    "data_fol = np.random.lognormal(mean=mu_fol, sigma=sigma_fol, size=1000)\n",
    "\n",
    "# Asegurarse de que los datos estén en el rango deseado [min_followers, max_followers]\n",
    "min_followers = 190\n",
    "max_followers = 679904\n",
    "data_clipped_fol = np.clip(data_fol, min_followers, max_followers)\n",
    "\n",
    "# Imprimir estadísticas básicas de los datos generados\n",
    "print('Mean:', np.mean(data_clipped_fol))\n",
    "print('Std deviation:', np.std(data_clipped_fol))\n",
    "print('Min:', np.min(data_clipped_fol))\n",
    "print('Max:', np.max(data_clipped_fol))\n"
   ]
  },
  {
   "cell_type": "code",
   "execution_count": 64,
   "id": "0718ba29-6141-40b2-9bad-33e8eb89db44",
   "metadata": {
    "tags": []
   },
   "outputs": [],
   "source": [
    "Api_df['Followers']=Api_df.apply(lambda x:round(np.random.lognormal(mean=mu_fol, sigma=sigma_fol),0),axis=1)\n",
    "Api_df['Popularity']=Api_df.apply(lambda x:round(np.random.lognormal(mean=mu_pop, sigma=sigma_pop),0),axis=1)"
   ]
  },
  {
   "cell_type": "code",
   "execution_count": 65,
   "id": "cca673ae-acb9-46c9-80f3-14d223de10d2",
   "metadata": {
    "tags": []
   },
   "outputs": [
    {
     "data": {
      "text/html": [
       "<div>\n",
       "<style scoped>\n",
       "    .dataframe tbody tr th:only-of-type {\n",
       "        vertical-align: middle;\n",
       "    }\n",
       "\n",
       "    .dataframe tbody tr th {\n",
       "        vertical-align: top;\n",
       "    }\n",
       "\n",
       "    .dataframe thead th {\n",
       "        text-align: right;\n",
       "    }\n",
       "</style>\n",
       "<table border=\"1\" class=\"dataframe\">\n",
       "  <thead>\n",
       "    <tr style=\"text-align: right;\">\n",
       "      <th></th>\n",
       "      <th>id_band</th>\n",
       "      <th>score</th>\n",
       "      <th>name</th>\n",
       "      <th>has_transitions</th>\n",
       "      <th>albumCount</th>\n",
       "      <th>review_count</th>\n",
       "      <th>Followers</th>\n",
       "      <th>Popularity</th>\n",
       "    </tr>\n",
       "  </thead>\n",
       "  <tbody>\n",
       "    <tr>\n",
       "      <th>0</th>\n",
       "      <td>11143</td>\n",
       "      <td>0.500000</td>\n",
       "      <td>Cuntscrape</td>\n",
       "      <td>1</td>\n",
       "      <td>1.0</td>\n",
       "      <td>1</td>\n",
       "      <td>2007.0</td>\n",
       "      <td>20.0</td>\n",
       "    </tr>\n",
       "    <tr>\n",
       "      <th>1</th>\n",
       "      <td>14768</td>\n",
       "      <td>0.770000</td>\n",
       "      <td>Psychiatric Regurgitation</td>\n",
       "      <td>1</td>\n",
       "      <td>1.0</td>\n",
       "      <td>1</td>\n",
       "      <td>6068.0</td>\n",
       "      <td>47.0</td>\n",
       "    </tr>\n",
       "    <tr>\n",
       "      <th>2</th>\n",
       "      <td>16693</td>\n",
       "      <td>0.860000</td>\n",
       "      <td>Four Question Marks</td>\n",
       "      <td>1</td>\n",
       "      <td>2.0</td>\n",
       "      <td>1</td>\n",
       "      <td>10617.0</td>\n",
       "      <td>20.0</td>\n",
       "    </tr>\n",
       "    <tr>\n",
       "      <th>3</th>\n",
       "      <td>16950</td>\n",
       "      <td>0.783333</td>\n",
       "      <td>Acranius</td>\n",
       "      <td>1</td>\n",
       "      <td>1.0</td>\n",
       "      <td>1</td>\n",
       "      <td>24059.0</td>\n",
       "      <td>15.0</td>\n",
       "    </tr>\n",
       "    <tr>\n",
       "      <th>4</th>\n",
       "      <td>20572</td>\n",
       "      <td>0.550000</td>\n",
       "      <td>Emergency Gate</td>\n",
       "      <td>1</td>\n",
       "      <td>3.0</td>\n",
       "      <td>1</td>\n",
       "      <td>844.0</td>\n",
       "      <td>20.0</td>\n",
       "    </tr>\n",
       "    <tr>\n",
       "      <th>...</th>\n",
       "      <td>...</td>\n",
       "      <td>...</td>\n",
       "      <td>...</td>\n",
       "      <td>...</td>\n",
       "      <td>...</td>\n",
       "      <td>...</td>\n",
       "      <td>...</td>\n",
       "      <td>...</td>\n",
       "    </tr>\n",
       "    <tr>\n",
       "      <th>8090</th>\n",
       "      <td>60990</td>\n",
       "      <td>0.700000</td>\n",
       "      <td>Tidfall</td>\n",
       "      <td>0</td>\n",
       "      <td>1.0</td>\n",
       "      <td>4</td>\n",
       "      <td>27733.0</td>\n",
       "      <td>11.0</td>\n",
       "    </tr>\n",
       "    <tr>\n",
       "      <th>8091</th>\n",
       "      <td>63005</td>\n",
       "      <td>0.700000</td>\n",
       "      <td>Emperor</td>\n",
       "      <td>0</td>\n",
       "      <td>1.0</td>\n",
       "      <td>4</td>\n",
       "      <td>205676.0</td>\n",
       "      <td>68.0</td>\n",
       "    </tr>\n",
       "    <tr>\n",
       "      <th>8092</th>\n",
       "      <td>49377</td>\n",
       "      <td>0.680000</td>\n",
       "      <td>VARIOUS ARTISTS</td>\n",
       "      <td>0</td>\n",
       "      <td>1.0</td>\n",
       "      <td>6</td>\n",
       "      <td>5145.0</td>\n",
       "      <td>8.0</td>\n",
       "    </tr>\n",
       "    <tr>\n",
       "      <th>8093</th>\n",
       "      <td>43600</td>\n",
       "      <td>0.680000</td>\n",
       "      <td>Valensia</td>\n",
       "      <td>0</td>\n",
       "      <td>1.0</td>\n",
       "      <td>6</td>\n",
       "      <td>13636.0</td>\n",
       "      <td>27.0</td>\n",
       "    </tr>\n",
       "    <tr>\n",
       "      <th>8094</th>\n",
       "      <td>49744</td>\n",
       "      <td>0.660000</td>\n",
       "      <td>Spitfire</td>\n",
       "      <td>0</td>\n",
       "      <td>1.0</td>\n",
       "      <td>11</td>\n",
       "      <td>118023.0</td>\n",
       "      <td>57.0</td>\n",
       "    </tr>\n",
       "  </tbody>\n",
       "</table>\n",
       "<p>8095 rows × 8 columns</p>\n",
       "</div>"
      ],
      "text/plain": [
       "      id_band     score                       name  has_transitions  \\\n",
       "0       11143  0.500000                 Cuntscrape                1   \n",
       "1       14768  0.770000  Psychiatric Regurgitation                1   \n",
       "2       16693  0.860000        Four Question Marks                1   \n",
       "3       16950  0.783333                   Acranius                1   \n",
       "4       20572  0.550000             Emergency Gate                1   \n",
       "...       ...       ...                        ...              ...   \n",
       "8090    60990  0.700000                    Tidfall                0   \n",
       "8091    63005  0.700000                    Emperor                0   \n",
       "8092    49377  0.680000            VARIOUS ARTISTS                0   \n",
       "8093    43600  0.680000                   Valensia                0   \n",
       "8094    49744  0.660000                   Spitfire                0   \n",
       "\n",
       "      albumCount  review_count  Followers  Popularity  \n",
       "0            1.0             1     2007.0        20.0  \n",
       "1            1.0             1     6068.0        47.0  \n",
       "2            2.0             1    10617.0        20.0  \n",
       "3            1.0             1    24059.0        15.0  \n",
       "4            3.0             1      844.0        20.0  \n",
       "...          ...           ...        ...         ...  \n",
       "8090         1.0             4    27733.0        11.0  \n",
       "8091         1.0             4   205676.0        68.0  \n",
       "8092         1.0             6     5145.0         8.0  \n",
       "8093         1.0             6    13636.0        27.0  \n",
       "8094         1.0            11   118023.0        57.0  \n",
       "\n",
       "[8095 rows x 8 columns]"
      ]
     },
     "execution_count": 65,
     "metadata": {},
     "output_type": "execute_result"
    }
   ],
   "source": [
    "Api_df"
   ]
  },
  {
   "cell_type": "code",
   "execution_count": 61,
   "id": "ddf886fb-daca-4221-9608-dfd1119b6307",
   "metadata": {
    "tags": []
   },
   "outputs": [
    {
     "data": {
      "text/plain": [
       "<AxesSubplot: xlabel='Followers', ylabel='Count'>"
      ]
     },
     "execution_count": 61,
     "metadata": {},
     "output_type": "execute_result"
    },
    {
     "data": {
      "image/png": "[encoded data removed]",
      "text/plain": [
       "<Figure size 800x550 with 1 Axes>"
      ]
     },
     "metadata": {},
     "output_type": "display_data"
    }
   ],
   "source": [
    "sns.histplot(Api_df['Followers'])"
   ]
  },
  {
   "cell_type": "code",
   "execution_count": 66,
   "id": "6e90e5c0-8540-418d-968e-76e7ea2d1952",
   "metadata": {
    "tags": []
   },
   "outputs": [
    {
     "data": {
      "text/plain": [
       "Index(['id_band', 'score', 'name', 'has_transitions', 'albumCount',\n",
       "       'review_count', 'Followers', 'Popularity'],\n",
       "      dtype='object')"
      ]
     },
     "execution_count": 66,
     "metadata": {},
     "output_type": "execute_result"
    }
   ],
   "source": [
    "Api_df.columns"
   ]
  },
  {
   "cell_type": "code",
   "execution_count": 69,
   "id": "aa8029db-d9d7-4390-95dd-d054dbe0723b",
   "metadata": {
    "tags": []
   },
   "outputs": [
    {
     "data": {
      "text/plain": [
       "Index(['Name', 'Genres', 'Popularity', 'Followers', 'Artist_URI', 'score',\n",
       "       'validation', 'id_band'],\n",
       "      dtype='object')"
      ]
     },
     "execution_count": 69,
     "metadata": {},
     "output_type": "execute_result"
    }
   ],
   "source": [
    "false_Rows.columns"
   ]
  },
  {
   "cell_type": "code",
   "execution_count": 70,
   "id": "8d883f88-036b-4b9c-ae3f-aef4266aebef",
   "metadata": {
    "tags": []
   },
   "outputs": [],
   "source": [
    "filtered_Spotify=false_Rows[['id_band','Name','Popularity','Followers','score']]"
   ]
  },
  {
   "cell_type": "code",
   "execution_count": 71,
   "id": "1ccfd860-f083-410f-bfba-7c5381b165b8",
   "metadata": {
    "tags": []
   },
   "outputs": [
    {
     "data": {
      "text/html": [
       "<div>\n",
       "<style scoped>\n",
       "    .dataframe tbody tr th:only-of-type {\n",
       "        vertical-align: middle;\n",
       "    }\n",
       "\n",
       "    .dataframe tbody tr th {\n",
       "        vertical-align: top;\n",
       "    }\n",
       "\n",
       "    .dataframe thead th {\n",
       "        text-align: right;\n",
       "    }\n",
       "</style>\n",
       "<table border=\"1\" class=\"dataframe\">\n",
       "  <thead>\n",
       "    <tr style=\"text-align: right;\">\n",
       "      <th></th>\n",
       "      <th>id_band</th>\n",
       "      <th>Name</th>\n",
       "      <th>Popularity</th>\n",
       "      <th>Followers</th>\n",
       "      <th>score</th>\n",
       "    </tr>\n",
       "  </thead>\n",
       "  <tbody>\n",
       "    <tr>\n",
       "      <th>2</th>\n",
       "      <td>70138</td>\n",
       "      <td>Currents</td>\n",
       "      <td>58</td>\n",
       "      <td>187066</td>\n",
       "      <td>0.670290</td>\n",
       "    </tr>\n",
       "    <tr>\n",
       "      <th>5</th>\n",
       "      <td>70309</td>\n",
       "      <td>Slaughter to Prevail</td>\n",
       "      <td>56</td>\n",
       "      <td>551299</td>\n",
       "      <td>0.939591</td>\n",
       "    </tr>\n",
       "    <tr>\n",
       "      <th>8</th>\n",
       "      <td>70145</td>\n",
       "      <td>I See Stars</td>\n",
       "      <td>51</td>\n",
       "      <td>451467</td>\n",
       "      <td>0.779559</td>\n",
       "    </tr>\n",
       "    <tr>\n",
       "      <th>9</th>\n",
       "      <td>70012</td>\n",
       "      <td>Make Them Suffer</td>\n",
       "      <td>52</td>\n",
       "      <td>233898</td>\n",
       "      <td>0.909188</td>\n",
       "    </tr>\n",
       "    <tr>\n",
       "      <th>13</th>\n",
       "      <td>70247</td>\n",
       "      <td>Alpha Wolf</td>\n",
       "      <td>50</td>\n",
       "      <td>129182</td>\n",
       "      <td>0.557774</td>\n",
       "    </tr>\n",
       "    <tr>\n",
       "      <th>...</th>\n",
       "      <td>...</td>\n",
       "      <td>...</td>\n",
       "      <td>...</td>\n",
       "      <td>...</td>\n",
       "      <td>...</td>\n",
       "    </tr>\n",
       "    <tr>\n",
       "      <th>995</th>\n",
       "      <td>70229</td>\n",
       "      <td>Cleansing of the Temple</td>\n",
       "      <td>5</td>\n",
       "      <td>1315</td>\n",
       "      <td>0.942668</td>\n",
       "    </tr>\n",
       "    <tr>\n",
       "      <th>996</th>\n",
       "      <td>70176</td>\n",
       "      <td>Sentient Horror</td>\n",
       "      <td>7</td>\n",
       "      <td>6037</td>\n",
       "      <td>0.994068</td>\n",
       "    </tr>\n",
       "    <tr>\n",
       "      <th>997</th>\n",
       "      <td>70359</td>\n",
       "      <td>Purulence</td>\n",
       "      <td>6</td>\n",
       "      <td>2317</td>\n",
       "      <td>0.986358</td>\n",
       "    </tr>\n",
       "    <tr>\n",
       "      <th>998</th>\n",
       "      <td>70147</td>\n",
       "      <td>Emasculated Vituperation</td>\n",
       "      <td>7</td>\n",
       "      <td>916</td>\n",
       "      <td>0.793271</td>\n",
       "    </tr>\n",
       "    <tr>\n",
       "      <th>999</th>\n",
       "      <td>70068</td>\n",
       "      <td>Wirethrone</td>\n",
       "      <td>7</td>\n",
       "      <td>375</td>\n",
       "      <td>0.652053</td>\n",
       "    </tr>\n",
       "  </tbody>\n",
       "</table>\n",
       "<p>436 rows × 5 columns</p>\n",
       "</div>"
      ],
      "text/plain": [
       "     id_band                      Name  Popularity  Followers     score\n",
       "2      70138                  Currents          58     187066  0.670290\n",
       "5      70309      Slaughter to Prevail          56     551299  0.939591\n",
       "8      70145               I See Stars          51     451467  0.779559\n",
       "9      70012          Make Them Suffer          52     233898  0.909188\n",
       "13     70247                Alpha Wolf          50     129182  0.557774\n",
       "..       ...                       ...         ...        ...       ...\n",
       "995    70229   Cleansing of the Temple           5       1315  0.942668\n",
       "996    70176           Sentient Horror           7       6037  0.994068\n",
       "997    70359                 Purulence           6       2317  0.986358\n",
       "998    70147  Emasculated Vituperation           7        916  0.793271\n",
       "999    70068                Wirethrone           7        375  0.652053\n",
       "\n",
       "[436 rows x 5 columns]"
      ]
     },
     "execution_count": 71,
     "metadata": {},
     "output_type": "execute_result"
    }
   ],
   "source": [
    "filtered_Spotify"
   ]
  },
  {
   "cell_type": "code",
   "execution_count": 72,
   "id": "4fab16d4-da22-453a-864d-25b256ce8da7",
   "metadata": {
    "tags": []
   },
   "outputs": [],
   "source": [
    "filtered_Spotify['has_transitions']=np.random.choice([True, False], size=len(filtered_Spotify), p=[0.4, 0.6])"
   ]
  },
  {
   "cell_type": "code",
   "execution_count": 73,
   "id": "7cdbb8d4-a6f9-4431-9256-8c71ce84ef17",
   "metadata": {
    "tags": []
   },
   "outputs": [
    {
     "data": {
      "text/html": [
       "<div>\n",
       "<style scoped>\n",
       "    .dataframe tbody tr th:only-of-type {\n",
       "        vertical-align: middle;\n",
       "    }\n",
       "\n",
       "    .dataframe tbody tr th {\n",
       "        vertical-align: top;\n",
       "    }\n",
       "\n",
       "    .dataframe thead th {\n",
       "        text-align: right;\n",
       "    }\n",
       "</style>\n",
       "<table border=\"1\" class=\"dataframe\">\n",
       "  <thead>\n",
       "    <tr style=\"text-align: right;\">\n",
       "      <th></th>\n",
       "      <th>id_band</th>\n",
       "      <th>Name</th>\n",
       "      <th>Popularity</th>\n",
       "      <th>Followers</th>\n",
       "      <th>score</th>\n",
       "      <th>has_transitions</th>\n",
       "    </tr>\n",
       "  </thead>\n",
       "  <tbody>\n",
       "    <tr>\n",
       "      <th>2</th>\n",
       "      <td>70138</td>\n",
       "      <td>Currents</td>\n",
       "      <td>58</td>\n",
       "      <td>187066</td>\n",
       "      <td>0.670290</td>\n",
       "      <td>False</td>\n",
       "    </tr>\n",
       "    <tr>\n",
       "      <th>5</th>\n",
       "      <td>70309</td>\n",
       "      <td>Slaughter to Prevail</td>\n",
       "      <td>56</td>\n",
       "      <td>551299</td>\n",
       "      <td>0.939591</td>\n",
       "      <td>True</td>\n",
       "    </tr>\n",
       "    <tr>\n",
       "      <th>8</th>\n",
       "      <td>70145</td>\n",
       "      <td>I See Stars</td>\n",
       "      <td>51</td>\n",
       "      <td>451467</td>\n",
       "      <td>0.779559</td>\n",
       "      <td>False</td>\n",
       "    </tr>\n",
       "    <tr>\n",
       "      <th>9</th>\n",
       "      <td>70012</td>\n",
       "      <td>Make Them Suffer</td>\n",
       "      <td>52</td>\n",
       "      <td>233898</td>\n",
       "      <td>0.909188</td>\n",
       "      <td>True</td>\n",
       "    </tr>\n",
       "    <tr>\n",
       "      <th>13</th>\n",
       "      <td>70247</td>\n",
       "      <td>Alpha Wolf</td>\n",
       "      <td>50</td>\n",
       "      <td>129182</td>\n",
       "      <td>0.557774</td>\n",
       "      <td>False</td>\n",
       "    </tr>\n",
       "    <tr>\n",
       "      <th>...</th>\n",
       "      <td>...</td>\n",
       "      <td>...</td>\n",
       "      <td>...</td>\n",
       "      <td>...</td>\n",
       "      <td>...</td>\n",
       "      <td>...</td>\n",
       "    </tr>\n",
       "    <tr>\n",
       "      <th>995</th>\n",
       "      <td>70229</td>\n",
       "      <td>Cleansing of the Temple</td>\n",
       "      <td>5</td>\n",
       "      <td>1315</td>\n",
       "      <td>0.942668</td>\n",
       "      <td>False</td>\n",
       "    </tr>\n",
       "    <tr>\n",
       "      <th>996</th>\n",
       "      <td>70176</td>\n",
       "      <td>Sentient Horror</td>\n",
       "      <td>7</td>\n",
       "      <td>6037</td>\n",
       "      <td>0.994068</td>\n",
       "      <td>True</td>\n",
       "    </tr>\n",
       "    <tr>\n",
       "      <th>997</th>\n",
       "      <td>70359</td>\n",
       "      <td>Purulence</td>\n",
       "      <td>6</td>\n",
       "      <td>2317</td>\n",
       "      <td>0.986358</td>\n",
       "      <td>True</td>\n",
       "    </tr>\n",
       "    <tr>\n",
       "      <th>998</th>\n",
       "      <td>70147</td>\n",
       "      <td>Emasculated Vituperation</td>\n",
       "      <td>7</td>\n",
       "      <td>916</td>\n",
       "      <td>0.793271</td>\n",
       "      <td>False</td>\n",
       "    </tr>\n",
       "    <tr>\n",
       "      <th>999</th>\n",
       "      <td>70068</td>\n",
       "      <td>Wirethrone</td>\n",
       "      <td>7</td>\n",
       "      <td>375</td>\n",
       "      <td>0.652053</td>\n",
       "      <td>True</td>\n",
       "    </tr>\n",
       "  </tbody>\n",
       "</table>\n",
       "<p>436 rows × 6 columns</p>\n",
       "</div>"
      ],
      "text/plain": [
       "     id_band                      Name  Popularity  Followers     score  \\\n",
       "2      70138                  Currents          58     187066  0.670290   \n",
       "5      70309      Slaughter to Prevail          56     551299  0.939591   \n",
       "8      70145               I See Stars          51     451467  0.779559   \n",
       "9      70012          Make Them Suffer          52     233898  0.909188   \n",
       "13     70247                Alpha Wolf          50     129182  0.557774   \n",
       "..       ...                       ...         ...        ...       ...   \n",
       "995    70229   Cleansing of the Temple           5       1315  0.942668   \n",
       "996    70176           Sentient Horror           7       6037  0.994068   \n",
       "997    70359                 Purulence           6       2317  0.986358   \n",
       "998    70147  Emasculated Vituperation           7        916  0.793271   \n",
       "999    70068                Wirethrone           7        375  0.652053   \n",
       "\n",
       "     has_transitions  \n",
       "2              False  \n",
       "5               True  \n",
       "8              False  \n",
       "9               True  \n",
       "13             False  \n",
       "..               ...  \n",
       "995            False  \n",
       "996             True  \n",
       "997             True  \n",
       "998            False  \n",
       "999             True  \n",
       "\n",
       "[436 rows x 6 columns]"
      ]
     },
     "execution_count": 73,
     "metadata": {},
     "output_type": "execute_result"
    }
   ],
   "source": [
    "filtered_Spotify"
   ]
  },
  {
   "cell_type": "code",
   "execution_count": null,
   "id": "e9b3edf9-8323-4626-b3d4-bd720db779e7",
   "metadata": {},
   "outputs": [],
   "source": []
  }
 ],
 "metadata": {
  "kernelspec": {
   "display_name": "Python 3 (ipykernel)",
   "language": "python",
   "name": "python3"
  },
  "language_info": {
   "codemirror_mode": {
    "name": "ipython",
    "version": 3
   },
   "file_extension": ".py",
   "mimetype": "text/x-python",
   "name": "python",
   "nbconvert_exporter": "python",
   "pygments_lexer": "ipython3",
   "version": "3.10.7"
  }
 },
 "nbformat": 4,
 "nbformat_minor": 5
}
