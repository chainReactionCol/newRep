{
 "cells": [
  {
   "cell_type": "code",
   "execution_count": 12,
   "id": "90be4316-d46d-4746-aa6b-7e06a0c1482e",
   "metadata": {},
   "outputs": [],
   "source": [
    "import requests\n",
    "import pandas as pd\n",
    "from urllib.request import Request, urlopen\n",
    "from sodapy import Socrata\n",
    "import json\n",
    "import re\n",
    "import warnings\n",
    "warnings.filterwarnings(\"ignore\")\n",
    "import matplotlib.pyplot as plt\n",
    "import ipywidgets as wd\n",
    "from ipywidgets import interact\n",
    "import seaborn as sns\n",
    "import base64"
   ]
  },
  {
   "cell_type": "code",
   "execution_count": 14,
   "id": "e7c48c52-8d86-4f93-afc4-6afe0e877fd1",
   "metadata": {},
   "outputs": [],
   "source": [
    "with open(\"newSecret.json\", \"r\") as f:\n",
    "    config = json.load(f)\n",
    "\n",
    "token = config[\"TOKEN_API_OD\"]\n",
    "user=config[\"user\"]\n",
    "passwd=config[\"pw\"]\n",
    "CLIENT_ID=config[\"clientId\"]\n",
    "CLIENT_SECRET=config[\"clientSecret\"]"
   ]
  },
  {
   "cell_type": "code",
   "execution_count": 15,
   "id": "38e628d9-c5f1-4ddf-bbe3-56ab2b7baeee",
   "metadata": {},
   "outputs": [],
   "source": [
    "import spotipy\n",
    "from spotipy.oauth2 import SpotifyClientCredentials\n",
    "client_credentials_manager = SpotifyClientCredentials(client_id=CLIENT_ID, client_secret=CLIENT_SECRET)\n",
    "sp = spotipy.Spotify(client_credentials_manager=client_credentials_manager)"
   ]
  },
  {
   "cell_type": "code",
   "execution_count": null,
   "id": "e59ee48b-af11-4192-980c-d50deaae8d38",
   "metadata": {},
   "outputs": [],
   "source": []
  }
 ],
 "metadata": {
  "kernelspec": {
   "display_name": "Python 3 (ipykernel)",
   "language": "python",
   "name": "python3"
  },
  "language_info": {
   "codemirror_mode": {
    "name": "ipython",
    "version": 3
   },
   "file_extension": ".py",
   "mimetype": "text/x-python",
   "name": "python",
   "nbconvert_exporter": "python",
   "pygments_lexer": "ipython3",
   "version": "3.12.1"
  }
 },
 "nbformat": 4,
 "nbformat_minor": 5
}
