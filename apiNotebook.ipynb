{
 "cells": [
  {
   "cell_type": "code",
   "execution_count": 8,
   "id": "0c7e8c8e-1ffa-4b25-9f80-1d2f8c897f05",
   "metadata": {
    "tags": []
   },
   "outputs": [],
   "source": [
    "import requests\n",
    "import pandas as pd\n",
    "from urllib.request import Request, urlopen\n",
    "import json"
   ]
  },
  {
   "cell_type": "code",
   "execution_count": 10,
   "id": "ba76e873-f2bf-4be4-bfe5-6ad6d6fa707a",
   "metadata": {
    "tags": []
   },
   "outputs": [],
   "source": [
    "with open(\"secret.json\", \"r\") as f:\n",
    "    config = json.load(f)\n",
    "\n",
    "token = config[\"TOKEN_API_OD\"]"
   ]
  },
  {
   "cell_type": "code",
   "execution_count": null,
   "id": "0b136fd8-ed62-4bba-8eae-3445c31059b3",
   "metadata": {},
   "outputs": [],
   "source": []
  }
 ],
 "metadata": {
  "kernelspec": {
   "display_name": "Python 3 (ipykernel)",
   "language": "python",
   "name": "python3"
  },
  "language_info": {
   "codemirror_mode": {
    "name": "ipython",
    "version": 3
   },
   "file_extension": ".py",
   "mimetype": "text/x-python",
   "name": "python",
   "nbconvert_exporter": "python",
   "pygments_lexer": "ipython3",
   "version": "3.10.7"
  }
 },
 "nbformat": 4,
 "nbformat_minor": 5
}
