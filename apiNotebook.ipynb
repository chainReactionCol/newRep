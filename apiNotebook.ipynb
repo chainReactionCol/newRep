{
 "cells": [
  {
   "cell_type": "code",
   "execution_count": 1,
   "id": "0c7e8c8e-1ffa-4b25-9f80-1d2f8c897f05",
   "metadata": {
    "tags": []
   },
   "outputs": [],
   "source": [
    "import requests\n",
    "import pandas as pd\n",
    "from urllib.request import Request, urlopen\n",
    "from sodapy import Socrata\n",
    "import json\n",
    "import re\n",
    "import warnings\n",
    "warnings.filterwarnings(\"ignore\")\n",
    "import matplotlib.pyplot as plt\n",
    "import ipywidgets as wd\n",
    "from ipywidgets import interact\n",
    "import seaborn as sns\n",
    "import ptitprince as pt"
   ]
  },
  {
   "cell_type": "markdown",
   "id": "b3d59a0e-62b2-4611-8e5b-fd1d1bce3275",
   "metadata": {},
   "source": [
    "# Variables de entorno:\n",
    "En esta sección he creado las variables de entorno asociadas al token de la app generado por la API, el usuario y el password de usuario.\n",
    "\n",
    "La API corresponde a los datos públicos del gobierno nacional, en este caso de la TRM, la cual se encuentra disponible en:\n",
    "https://www.datos.gov.co/Econom-a-y-Finanzas/Tasa-de-Cambio-Representativa-del-Mercado-Historic/mcec-87by"
   ]
  },
  {
   "cell_type": "code",
   "execution_count": 2,
   "id": "ba76e873-f2bf-4be4-bfe5-6ad6d6fa707a",
   "metadata": {
    "tags": []
   },
   "outputs": [],
   "source": [
    "with open(\"secret.json\", \"r\") as f:\n",
    "    config = json.load(f)\n",
    "\n",
    "token = config[\"TOKEN_API_OD\"]\n",
    "user=config[\"user\"]\n",
    "passwd=config[\"pw\"]"
   ]
  },
  {
   "cell_type": "markdown",
   "id": "00a01bc9-0c0a-40b3-b726-4ff322a59cb1",
   "metadata": {},
   "source": [
    "# Conexión con la API\n",
    "Usando la librería sodapy se llama al cliente de Socrata recurriendo a las variables de entorno"
   ]
  },
  {
   "cell_type": "code",
   "execution_count": 3,
   "id": "0b136fd8-ed62-4bba-8eae-3445c31059b3",
   "metadata": {
    "tags": []
   },
   "outputs": [],
   "source": [
    "client = Socrata('www.datos.gov.co',token,username=user,password=passwd)"
   ]
  },
  {
   "cell_type": "code",
   "execution_count": 4,
   "id": "437072ba-59ef-4e8b-a2f9-854caa5901c1",
   "metadata": {
    "tags": []
   },
   "outputs": [],
   "source": [
    "results = client.get(\"mcec-87by\", limit=2000)\n",
    "\n",
    "# Convert to pandas DataFrame\n",
    "results_df = pd.DataFrame.from_records(results)"
   ]
  },
  {
   "cell_type": "markdown",
   "id": "267cbd33-385d-4c04-969d-cb8d53db0e33",
   "metadata": {},
   "source": [
    "# Dataframe de la TRM historica diaria \n",
    "Los campo vigenciadesde y vigenciahasta almacenan la fecha desde la que se mantuvo el valor de TRM hasta la fecha en la que caduco dicho valor de TRM"
   ]
  },
  {
   "cell_type": "code",
   "execution_count": 5,
   "id": "407a82c1-f3ab-4470-853f-7c26ba4f2fc0",
   "metadata": {
    "tags": []
   },
   "outputs": [
    {
     "data": {
      "text/html": [
       "<div>\n",
       "<style scoped>\n",
       "    .dataframe tbody tr th:only-of-type {\n",
       "        vertical-align: middle;\n",
       "    }\n",
       "\n",
       "    .dataframe tbody tr th {\n",
       "        vertical-align: top;\n",
       "    }\n",
       "\n",
       "    .dataframe thead th {\n",
       "        text-align: right;\n",
       "    }\n",
       "</style>\n",
       "<table border=\"1\" class=\"dataframe\">\n",
       "  <thead>\n",
       "    <tr style=\"text-align: right;\">\n",
       "      <th></th>\n",
       "      <th>valor</th>\n",
       "      <th>unidad</th>\n",
       "      <th>vigenciadesde</th>\n",
       "      <th>vigenciahasta</th>\n",
       "    </tr>\n",
       "  </thead>\n",
       "  <tbody>\n",
       "    <tr>\n",
       "      <th>0</th>\n",
       "      <td>4037.19</td>\n",
       "      <td>COP</td>\n",
       "      <td>2023-11-11T00:00:00.000</td>\n",
       "      <td>2023-11-14T00:00:00.000</td>\n",
       "    </tr>\n",
       "    <tr>\n",
       "      <th>1</th>\n",
       "      <td>4056.94</td>\n",
       "      <td>COP</td>\n",
       "      <td>2023-11-10T00:00:00.000</td>\n",
       "      <td>2023-11-10T00:00:00.000</td>\n",
       "    </tr>\n",
       "    <tr>\n",
       "      <th>2</th>\n",
       "      <td>4065.79</td>\n",
       "      <td>COP</td>\n",
       "      <td>2023-11-09T00:00:00.000</td>\n",
       "      <td>2023-11-09T00:00:00.000</td>\n",
       "    </tr>\n",
       "    <tr>\n",
       "      <th>3</th>\n",
       "      <td>4005.06</td>\n",
       "      <td>COP</td>\n",
       "      <td>2023-11-08T00:00:00.000</td>\n",
       "      <td>2023-11-08T00:00:00.000</td>\n",
       "    </tr>\n",
       "    <tr>\n",
       "      <th>4</th>\n",
       "      <td>3975.09</td>\n",
       "      <td>COP</td>\n",
       "      <td>2023-11-04T00:00:00.000</td>\n",
       "      <td>2023-11-07T00:00:00.000</td>\n",
       "    </tr>\n",
       "    <tr>\n",
       "      <th>...</th>\n",
       "      <td>...</td>\n",
       "      <td>...</td>\n",
       "      <td>...</td>\n",
       "      <td>...</td>\n",
       "    </tr>\n",
       "    <tr>\n",
       "      <th>1995</th>\n",
       "      <td>2531.72</td>\n",
       "      <td>COP</td>\n",
       "      <td>2015-06-17T00:00:00.000</td>\n",
       "      <td>2015-06-17T00:00:00.000</td>\n",
       "    </tr>\n",
       "    <tr>\n",
       "      <th>1996</th>\n",
       "      <td>2535.91</td>\n",
       "      <td>COP</td>\n",
       "      <td>2015-06-13T00:00:00.000</td>\n",
       "      <td>2015-06-16T00:00:00.000</td>\n",
       "    </tr>\n",
       "    <tr>\n",
       "      <th>1997</th>\n",
       "      <td>2538.55</td>\n",
       "      <td>COP</td>\n",
       "      <td>2015-06-12T00:00:00.000</td>\n",
       "      <td>2015-06-12T00:00:00.000</td>\n",
       "    </tr>\n",
       "    <tr>\n",
       "      <th>1998</th>\n",
       "      <td>2523</td>\n",
       "      <td>COP</td>\n",
       "      <td>2015-06-11T00:00:00.000</td>\n",
       "      <td>2015-06-11T00:00:00.000</td>\n",
       "    </tr>\n",
       "    <tr>\n",
       "      <th>1999</th>\n",
       "      <td>2569.17</td>\n",
       "      <td>COP</td>\n",
       "      <td>2015-06-10T00:00:00.000</td>\n",
       "      <td>2015-06-10T00:00:00.000</td>\n",
       "    </tr>\n",
       "  </tbody>\n",
       "</table>\n",
       "<p>2000 rows × 4 columns</p>\n",
       "</div>"
      ],
      "text/plain": [
       "        valor unidad            vigenciadesde            vigenciahasta\n",
       "0     4037.19    COP  2023-11-11T00:00:00.000  2023-11-14T00:00:00.000\n",
       "1     4056.94    COP  2023-11-10T00:00:00.000  2023-11-10T00:00:00.000\n",
       "2     4065.79    COP  2023-11-09T00:00:00.000  2023-11-09T00:00:00.000\n",
       "3     4005.06    COP  2023-11-08T00:00:00.000  2023-11-08T00:00:00.000\n",
       "4     3975.09    COP  2023-11-04T00:00:00.000  2023-11-07T00:00:00.000\n",
       "...       ...    ...                      ...                      ...\n",
       "1995  2531.72    COP  2015-06-17T00:00:00.000  2015-06-17T00:00:00.000\n",
       "1996  2535.91    COP  2015-06-13T00:00:00.000  2015-06-16T00:00:00.000\n",
       "1997  2538.55    COP  2015-06-12T00:00:00.000  2015-06-12T00:00:00.000\n",
       "1998     2523    COP  2015-06-11T00:00:00.000  2015-06-11T00:00:00.000\n",
       "1999  2569.17    COP  2015-06-10T00:00:00.000  2015-06-10T00:00:00.000\n",
       "\n",
       "[2000 rows x 4 columns]"
      ]
     },
     "execution_count": 5,
     "metadata": {},
     "output_type": "execute_result"
    }
   ],
   "source": [
    "results_df"
   ]
  },
  {
   "cell_type": "markdown",
   "id": "08d57c02-290d-41f2-9105-61216ae088b9",
   "metadata": {},
   "source": [
    "# Extracción desde el endpoint de la TRM"
   ]
  },
  {
   "cell_type": "code",
   "execution_count": 6,
   "id": "169c1906-5617-4a94-92ab-9d0d6fd17657",
   "metadata": {
    "tags": []
   },
   "outputs": [
    {
     "data": {
      "text/html": [
       "<div>\n",
       "<style scoped>\n",
       "    .dataframe tbody tr th:only-of-type {\n",
       "        vertical-align: middle;\n",
       "    }\n",
       "\n",
       "    .dataframe tbody tr th {\n",
       "        vertical-align: top;\n",
       "    }\n",
       "\n",
       "    .dataframe thead th {\n",
       "        text-align: right;\n",
       "    }\n",
       "</style>\n",
       "<table border=\"1\" class=\"dataframe\">\n",
       "  <thead>\n",
       "    <tr style=\"text-align: right;\">\n",
       "      <th></th>\n",
       "      <th>valor</th>\n",
       "      <th>unidad</th>\n",
       "      <th>vigenciadesde</th>\n",
       "      <th>vigenciahasta</th>\n",
       "    </tr>\n",
       "  </thead>\n",
       "  <tbody>\n",
       "    <tr>\n",
       "      <th>0</th>\n",
       "      <td>4037.19</td>\n",
       "      <td>COP</td>\n",
       "      <td>2023-11-11T00:00:00.000</td>\n",
       "      <td>2023-11-14T00:00:00.000</td>\n",
       "    </tr>\n",
       "    <tr>\n",
       "      <th>1</th>\n",
       "      <td>4056.94</td>\n",
       "      <td>COP</td>\n",
       "      <td>2023-11-10T00:00:00.000</td>\n",
       "      <td>2023-11-10T00:00:00.000</td>\n",
       "    </tr>\n",
       "    <tr>\n",
       "      <th>2</th>\n",
       "      <td>4065.79</td>\n",
       "      <td>COP</td>\n",
       "      <td>2023-11-09T00:00:00.000</td>\n",
       "      <td>2023-11-09T00:00:00.000</td>\n",
       "    </tr>\n",
       "    <tr>\n",
       "      <th>3</th>\n",
       "      <td>4005.06</td>\n",
       "      <td>COP</td>\n",
       "      <td>2023-11-08T00:00:00.000</td>\n",
       "      <td>2023-11-08T00:00:00.000</td>\n",
       "    </tr>\n",
       "    <tr>\n",
       "      <th>4</th>\n",
       "      <td>3975.09</td>\n",
       "      <td>COP</td>\n",
       "      <td>2023-11-04T00:00:00.000</td>\n",
       "      <td>2023-11-07T00:00:00.000</td>\n",
       "    </tr>\n",
       "    <tr>\n",
       "      <th>...</th>\n",
       "      <td>...</td>\n",
       "      <td>...</td>\n",
       "      <td>...</td>\n",
       "      <td>...</td>\n",
       "    </tr>\n",
       "    <tr>\n",
       "      <th>995</th>\n",
       "      <td>3377.39</td>\n",
       "      <td>COP</td>\n",
       "      <td>2019-09-06T00:00:00.000</td>\n",
       "      <td>2019-09-06T00:00:00.000</td>\n",
       "    </tr>\n",
       "    <tr>\n",
       "      <th>996</th>\n",
       "      <td>3401.04</td>\n",
       "      <td>COP</td>\n",
       "      <td>2019-09-05T00:00:00.000</td>\n",
       "      <td>2019-09-05T00:00:00.000</td>\n",
       "    </tr>\n",
       "    <tr>\n",
       "      <th>997</th>\n",
       "      <td>3438.61</td>\n",
       "      <td>COP</td>\n",
       "      <td>2019-09-04T00:00:00.000</td>\n",
       "      <td>2019-09-04T00:00:00.000</td>\n",
       "    </tr>\n",
       "    <tr>\n",
       "      <th>998</th>\n",
       "      <td>3427.29</td>\n",
       "      <td>COP</td>\n",
       "      <td>2019-08-31T00:00:00.000</td>\n",
       "      <td>2019-09-03T00:00:00.000</td>\n",
       "    </tr>\n",
       "    <tr>\n",
       "      <th>999</th>\n",
       "      <td>3464.15</td>\n",
       "      <td>COP</td>\n",
       "      <td>2019-08-30T00:00:00.000</td>\n",
       "      <td>2019-08-30T00:00:00.000</td>\n",
       "    </tr>\n",
       "  </tbody>\n",
       "</table>\n",
       "<p>1000 rows × 4 columns</p>\n",
       "</div>"
      ],
      "text/plain": [
       "       valor unidad            vigenciadesde            vigenciahasta\n",
       "0    4037.19    COP  2023-11-11T00:00:00.000  2023-11-14T00:00:00.000\n",
       "1    4056.94    COP  2023-11-10T00:00:00.000  2023-11-10T00:00:00.000\n",
       "2    4065.79    COP  2023-11-09T00:00:00.000  2023-11-09T00:00:00.000\n",
       "3    4005.06    COP  2023-11-08T00:00:00.000  2023-11-08T00:00:00.000\n",
       "4    3975.09    COP  2023-11-04T00:00:00.000  2023-11-07T00:00:00.000\n",
       "..       ...    ...                      ...                      ...\n",
       "995  3377.39    COP  2019-09-06T00:00:00.000  2019-09-06T00:00:00.000\n",
       "996  3401.04    COP  2019-09-05T00:00:00.000  2019-09-05T00:00:00.000\n",
       "997  3438.61    COP  2019-09-04T00:00:00.000  2019-09-04T00:00:00.000\n",
       "998  3427.29    COP  2019-08-31T00:00:00.000  2019-09-03T00:00:00.000\n",
       "999  3464.15    COP  2019-08-30T00:00:00.000  2019-08-30T00:00:00.000\n",
       "\n",
       "[1000 rows x 4 columns]"
      ]
     },
     "execution_count": 6,
     "metadata": {},
     "output_type": "execute_result"
    }
   ],
   "source": [
    "response = requests.get('https://www.datos.gov.co/resource/mcec-87by.json')\n",
    "consulta=response.json()\n",
    "pd.DataFrame.from_records(consulta)"
   ]
  },
  {
   "cell_type": "markdown",
   "id": "aa091f01-063e-42d0-a77f-ae63b8d9d56d",
   "metadata": {},
   "source": [
    "# Funciones para extracción de detalles de fechas usando regex\n",
    "\n",
    "Se construyen funciones haciendo uso de expresiones regulares para extraer la fecha en formato estándar y poder tratar los datos en series de tiempo de ser necesario(ver README_ENTREGA.txt"
   ]
  },
  {
   "cell_type": "code",
   "execution_count": 7,
   "id": "2a136ebd-70a8-441b-806b-32adf2738318",
   "metadata": {
    "tags": []
   },
   "outputs": [],
   "source": [
    "def extract_year(x):\n",
    "    pattern = r\"(\\d{4})-\\d{2}-\\d{2}T\"\n",
    "    match = re.search(pattern, x)\n",
    "    if match:\n",
    "        return match.group(1)  # Retorna el año\n",
    "    else:\n",
    "        return None  # Retorna None si no hay coincidencia"
   ]
  },
  {
   "cell_type": "code",
   "execution_count": 8,
   "id": "f1cb847c-67e7-4be2-b394-7ef31a8ba5b9",
   "metadata": {
    "tags": []
   },
   "outputs": [],
   "source": [
    "def extract_month(x):\n",
    "    pattern = r\"(\\d{4})-(\\d{2})-\\d{2}T\"\n",
    "    match = re.search(pattern, x)\n",
    "    if match:\n",
    "        return match.group(2)  # Retorna el año\n",
    "    else:\n",
    "        return None "
   ]
  },
  {
   "cell_type": "code",
   "execution_count": 9,
   "id": "1db0076f-01a2-47f8-9f1e-83ba033d7ee1",
   "metadata": {
    "tags": []
   },
   "outputs": [],
   "source": [
    "def extract_day(x):\n",
    "    pattern = r\"(\\d{4})-(\\d{2})-(\\d{2})T\"\n",
    "    match = re.search(pattern, x)\n",
    "    if match:\n",
    "        return match.group(3)  # Retorna el año\n",
    "    else:\n",
    "        return None "
   ]
  },
  {
   "cell_type": "code",
   "execution_count": 10,
   "id": "2ed88142-b996-4f77-8ac7-40d6371e5113",
   "metadata": {
    "tags": []
   },
   "outputs": [],
   "source": [
    "results_df['año'] = results_df['vigenciadesde'].apply(extract_year)\n",
    "results_df['mes']=results_df['vigenciadesde'].apply(extract_month)\n",
    "results_df['dia_inicial']=results_df['vigenciadesde'].apply(extract_day)\n",
    "results_df['final']=results_df['vigenciahasta'].apply(extract_day)"
   ]
  },
  {
   "cell_type": "code",
   "execution_count": 11,
   "id": "10fc492c-ecc2-4923-95aa-6cb09147d82e",
   "metadata": {
    "tags": []
   },
   "outputs": [
    {
     "data": {
      "text/html": [
       "<div>\n",
       "<style scoped>\n",
       "    .dataframe tbody tr th:only-of-type {\n",
       "        vertical-align: middle;\n",
       "    }\n",
       "\n",
       "    .dataframe tbody tr th {\n",
       "        vertical-align: top;\n",
       "    }\n",
       "\n",
       "    .dataframe thead th {\n",
       "        text-align: right;\n",
       "    }\n",
       "</style>\n",
       "<table border=\"1\" class=\"dataframe\">\n",
       "  <thead>\n",
       "    <tr style=\"text-align: right;\">\n",
       "      <th></th>\n",
       "      <th>valor</th>\n",
       "      <th>unidad</th>\n",
       "      <th>vigenciadesde</th>\n",
       "      <th>vigenciahasta</th>\n",
       "      <th>año</th>\n",
       "      <th>mes</th>\n",
       "      <th>dia_inicial</th>\n",
       "      <th>final</th>\n",
       "    </tr>\n",
       "  </thead>\n",
       "  <tbody>\n",
       "    <tr>\n",
       "      <th>0</th>\n",
       "      <td>4037.19</td>\n",
       "      <td>COP</td>\n",
       "      <td>2023-11-11T00:00:00.000</td>\n",
       "      <td>2023-11-14T00:00:00.000</td>\n",
       "      <td>2023</td>\n",
       "      <td>11</td>\n",
       "      <td>11</td>\n",
       "      <td>14</td>\n",
       "    </tr>\n",
       "    <tr>\n",
       "      <th>1</th>\n",
       "      <td>4056.94</td>\n",
       "      <td>COP</td>\n",
       "      <td>2023-11-10T00:00:00.000</td>\n",
       "      <td>2023-11-10T00:00:00.000</td>\n",
       "      <td>2023</td>\n",
       "      <td>11</td>\n",
       "      <td>10</td>\n",
       "      <td>10</td>\n",
       "    </tr>\n",
       "    <tr>\n",
       "      <th>2</th>\n",
       "      <td>4065.79</td>\n",
       "      <td>COP</td>\n",
       "      <td>2023-11-09T00:00:00.000</td>\n",
       "      <td>2023-11-09T00:00:00.000</td>\n",
       "      <td>2023</td>\n",
       "      <td>11</td>\n",
       "      <td>09</td>\n",
       "      <td>09</td>\n",
       "    </tr>\n",
       "    <tr>\n",
       "      <th>3</th>\n",
       "      <td>4005.06</td>\n",
       "      <td>COP</td>\n",
       "      <td>2023-11-08T00:00:00.000</td>\n",
       "      <td>2023-11-08T00:00:00.000</td>\n",
       "      <td>2023</td>\n",
       "      <td>11</td>\n",
       "      <td>08</td>\n",
       "      <td>08</td>\n",
       "    </tr>\n",
       "    <tr>\n",
       "      <th>4</th>\n",
       "      <td>3975.09</td>\n",
       "      <td>COP</td>\n",
       "      <td>2023-11-04T00:00:00.000</td>\n",
       "      <td>2023-11-07T00:00:00.000</td>\n",
       "      <td>2023</td>\n",
       "      <td>11</td>\n",
       "      <td>04</td>\n",
       "      <td>07</td>\n",
       "    </tr>\n",
       "    <tr>\n",
       "      <th>...</th>\n",
       "      <td>...</td>\n",
       "      <td>...</td>\n",
       "      <td>...</td>\n",
       "      <td>...</td>\n",
       "      <td>...</td>\n",
       "      <td>...</td>\n",
       "      <td>...</td>\n",
       "      <td>...</td>\n",
       "    </tr>\n",
       "    <tr>\n",
       "      <th>1995</th>\n",
       "      <td>2531.72</td>\n",
       "      <td>COP</td>\n",
       "      <td>2015-06-17T00:00:00.000</td>\n",
       "      <td>2015-06-17T00:00:00.000</td>\n",
       "      <td>2015</td>\n",
       "      <td>06</td>\n",
       "      <td>17</td>\n",
       "      <td>17</td>\n",
       "    </tr>\n",
       "    <tr>\n",
       "      <th>1996</th>\n",
       "      <td>2535.91</td>\n",
       "      <td>COP</td>\n",
       "      <td>2015-06-13T00:00:00.000</td>\n",
       "      <td>2015-06-16T00:00:00.000</td>\n",
       "      <td>2015</td>\n",
       "      <td>06</td>\n",
       "      <td>13</td>\n",
       "      <td>16</td>\n",
       "    </tr>\n",
       "    <tr>\n",
       "      <th>1997</th>\n",
       "      <td>2538.55</td>\n",
       "      <td>COP</td>\n",
       "      <td>2015-06-12T00:00:00.000</td>\n",
       "      <td>2015-06-12T00:00:00.000</td>\n",
       "      <td>2015</td>\n",
       "      <td>06</td>\n",
       "      <td>12</td>\n",
       "      <td>12</td>\n",
       "    </tr>\n",
       "    <tr>\n",
       "      <th>1998</th>\n",
       "      <td>2523</td>\n",
       "      <td>COP</td>\n",
       "      <td>2015-06-11T00:00:00.000</td>\n",
       "      <td>2015-06-11T00:00:00.000</td>\n",
       "      <td>2015</td>\n",
       "      <td>06</td>\n",
       "      <td>11</td>\n",
       "      <td>11</td>\n",
       "    </tr>\n",
       "    <tr>\n",
       "      <th>1999</th>\n",
       "      <td>2569.17</td>\n",
       "      <td>COP</td>\n",
       "      <td>2015-06-10T00:00:00.000</td>\n",
       "      <td>2015-06-10T00:00:00.000</td>\n",
       "      <td>2015</td>\n",
       "      <td>06</td>\n",
       "      <td>10</td>\n",
       "      <td>10</td>\n",
       "    </tr>\n",
       "  </tbody>\n",
       "</table>\n",
       "<p>2000 rows × 8 columns</p>\n",
       "</div>"
      ],
      "text/plain": [
       "        valor unidad            vigenciadesde            vigenciahasta   año  \\\n",
       "0     4037.19    COP  2023-11-11T00:00:00.000  2023-11-14T00:00:00.000  2023   \n",
       "1     4056.94    COP  2023-11-10T00:00:00.000  2023-11-10T00:00:00.000  2023   \n",
       "2     4065.79    COP  2023-11-09T00:00:00.000  2023-11-09T00:00:00.000  2023   \n",
       "3     4005.06    COP  2023-11-08T00:00:00.000  2023-11-08T00:00:00.000  2023   \n",
       "4     3975.09    COP  2023-11-04T00:00:00.000  2023-11-07T00:00:00.000  2023   \n",
       "...       ...    ...                      ...                      ...   ...   \n",
       "1995  2531.72    COP  2015-06-17T00:00:00.000  2015-06-17T00:00:00.000  2015   \n",
       "1996  2535.91    COP  2015-06-13T00:00:00.000  2015-06-16T00:00:00.000  2015   \n",
       "1997  2538.55    COP  2015-06-12T00:00:00.000  2015-06-12T00:00:00.000  2015   \n",
       "1998     2523    COP  2015-06-11T00:00:00.000  2015-06-11T00:00:00.000  2015   \n",
       "1999  2569.17    COP  2015-06-10T00:00:00.000  2015-06-10T00:00:00.000  2015   \n",
       "\n",
       "     mes dia_inicial final  \n",
       "0     11          11    14  \n",
       "1     11          10    10  \n",
       "2     11          09    09  \n",
       "3     11          08    08  \n",
       "4     11          04    07  \n",
       "...   ..         ...   ...  \n",
       "1995  06          17    17  \n",
       "1996  06          13    16  \n",
       "1997  06          12    12  \n",
       "1998  06          11    11  \n",
       "1999  06          10    10  \n",
       "\n",
       "[2000 rows x 8 columns]"
      ]
     },
     "execution_count": 11,
     "metadata": {},
     "output_type": "execute_result"
    }
   ],
   "source": [
    "results_df"
   ]
  },
  {
   "cell_type": "code",
   "execution_count": 12,
   "id": "a346304e-2f5c-4f72-b888-d3729fc53d93",
   "metadata": {
    "tags": []
   },
   "outputs": [],
   "source": [
    "trm=results_df.copy()"
   ]
  },
  {
   "cell_type": "code",
   "execution_count": 13,
   "id": "2b58873b-b700-46f8-b1cd-4f9a4dcff686",
   "metadata": {
    "tags": []
   },
   "outputs": [],
   "source": [
    "trmFiltered=trm[['valor','mes','dia_inicial','final','año']]"
   ]
  },
  {
   "cell_type": "code",
   "execution_count": 14,
   "id": "6ef4c22e-9a70-42b0-bb33-6a1005727ecb",
   "metadata": {
    "tags": []
   },
   "outputs": [
    {
     "data": {
      "text/html": [
       "<div>\n",
       "<style scoped>\n",
       "    .dataframe tbody tr th:only-of-type {\n",
       "        vertical-align: middle;\n",
       "    }\n",
       "\n",
       "    .dataframe tbody tr th {\n",
       "        vertical-align: top;\n",
       "    }\n",
       "\n",
       "    .dataframe thead th {\n",
       "        text-align: right;\n",
       "    }\n",
       "</style>\n",
       "<table border=\"1\" class=\"dataframe\">\n",
       "  <thead>\n",
       "    <tr style=\"text-align: right;\">\n",
       "      <th></th>\n",
       "      <th>valor</th>\n",
       "      <th>mes</th>\n",
       "      <th>dia_inicial</th>\n",
       "      <th>final</th>\n",
       "      <th>año</th>\n",
       "    </tr>\n",
       "  </thead>\n",
       "  <tbody>\n",
       "    <tr>\n",
       "      <th>0</th>\n",
       "      <td>4037.19</td>\n",
       "      <td>11</td>\n",
       "      <td>11</td>\n",
       "      <td>14</td>\n",
       "      <td>2023</td>\n",
       "    </tr>\n",
       "    <tr>\n",
       "      <th>1</th>\n",
       "      <td>4056.94</td>\n",
       "      <td>11</td>\n",
       "      <td>10</td>\n",
       "      <td>10</td>\n",
       "      <td>2023</td>\n",
       "    </tr>\n",
       "    <tr>\n",
       "      <th>2</th>\n",
       "      <td>4065.79</td>\n",
       "      <td>11</td>\n",
       "      <td>09</td>\n",
       "      <td>09</td>\n",
       "      <td>2023</td>\n",
       "    </tr>\n",
       "    <tr>\n",
       "      <th>3</th>\n",
       "      <td>4005.06</td>\n",
       "      <td>11</td>\n",
       "      <td>08</td>\n",
       "      <td>08</td>\n",
       "      <td>2023</td>\n",
       "    </tr>\n",
       "    <tr>\n",
       "      <th>4</th>\n",
       "      <td>3975.09</td>\n",
       "      <td>11</td>\n",
       "      <td>04</td>\n",
       "      <td>07</td>\n",
       "      <td>2023</td>\n",
       "    </tr>\n",
       "    <tr>\n",
       "      <th>...</th>\n",
       "      <td>...</td>\n",
       "      <td>...</td>\n",
       "      <td>...</td>\n",
       "      <td>...</td>\n",
       "      <td>...</td>\n",
       "    </tr>\n",
       "    <tr>\n",
       "      <th>1995</th>\n",
       "      <td>2531.72</td>\n",
       "      <td>06</td>\n",
       "      <td>17</td>\n",
       "      <td>17</td>\n",
       "      <td>2015</td>\n",
       "    </tr>\n",
       "    <tr>\n",
       "      <th>1996</th>\n",
       "      <td>2535.91</td>\n",
       "      <td>06</td>\n",
       "      <td>13</td>\n",
       "      <td>16</td>\n",
       "      <td>2015</td>\n",
       "    </tr>\n",
       "    <tr>\n",
       "      <th>1997</th>\n",
       "      <td>2538.55</td>\n",
       "      <td>06</td>\n",
       "      <td>12</td>\n",
       "      <td>12</td>\n",
       "      <td>2015</td>\n",
       "    </tr>\n",
       "    <tr>\n",
       "      <th>1998</th>\n",
       "      <td>2523</td>\n",
       "      <td>06</td>\n",
       "      <td>11</td>\n",
       "      <td>11</td>\n",
       "      <td>2015</td>\n",
       "    </tr>\n",
       "    <tr>\n",
       "      <th>1999</th>\n",
       "      <td>2569.17</td>\n",
       "      <td>06</td>\n",
       "      <td>10</td>\n",
       "      <td>10</td>\n",
       "      <td>2015</td>\n",
       "    </tr>\n",
       "  </tbody>\n",
       "</table>\n",
       "<p>2000 rows × 5 columns</p>\n",
       "</div>"
      ],
      "text/plain": [
       "        valor mes dia_inicial final   año\n",
       "0     4037.19  11          11    14  2023\n",
       "1     4056.94  11          10    10  2023\n",
       "2     4065.79  11          09    09  2023\n",
       "3     4005.06  11          08    08  2023\n",
       "4     3975.09  11          04    07  2023\n",
       "...       ...  ..         ...   ...   ...\n",
       "1995  2531.72  06          17    17  2015\n",
       "1996  2535.91  06          13    16  2015\n",
       "1997  2538.55  06          12    12  2015\n",
       "1998     2523  06          11    11  2015\n",
       "1999  2569.17  06          10    10  2015\n",
       "\n",
       "[2000 rows x 5 columns]"
      ]
     },
     "execution_count": 14,
     "metadata": {},
     "output_type": "execute_result"
    }
   ],
   "source": [
    "trmFiltered"
   ]
  },
  {
   "cell_type": "code",
   "execution_count": 15,
   "id": "9c8b4f58-160e-47c8-abbf-d81d16ff3334",
   "metadata": {
    "tags": []
   },
   "outputs": [],
   "source": [
    "trmFiltered['fecha_inicial']=trmFiltered['año'].astype(str)+'-'+trmFiltered['mes'].astype(str).str.zfill(2)+'-'+trmFiltered['dia_inicial'].astype(str).str.zfill(2)\n",
    "trmFiltered['fecha_final']=trmFiltered['año'].astype(str)+'-'+trmFiltered['mes'].astype(str).str.zfill(2)+'-'+trmFiltered['final'].astype(str).str.zfill(2)\n",
    "trmFiltered['fecha_inicial']=pd.to_datetime(trmFiltered['fecha_inicial'])\n",
    "trmFiltered['fecha_final']=pd.to_datetime(trmFiltered['fecha_final'])"
   ]
  },
  {
   "cell_type": "markdown",
   "id": "1d9ae926-604c-4c5f-b9a1-8eb6273c70f7",
   "metadata": {},
   "source": [
    "# Dataframe filtrado con fechas iniciales y finales"
   ]
  },
  {
   "cell_type": "code",
   "execution_count": 16,
   "id": "e177673a-bc39-456e-9a65-5acc1c429cf7",
   "metadata": {
    "tags": []
   },
   "outputs": [
    {
     "data": {
      "text/html": [
       "<div>\n",
       "<style scoped>\n",
       "    .dataframe tbody tr th:only-of-type {\n",
       "        vertical-align: middle;\n",
       "    }\n",
       "\n",
       "    .dataframe tbody tr th {\n",
       "        vertical-align: top;\n",
       "    }\n",
       "\n",
       "    .dataframe thead th {\n",
       "        text-align: right;\n",
       "    }\n",
       "</style>\n",
       "<table border=\"1\" class=\"dataframe\">\n",
       "  <thead>\n",
       "    <tr style=\"text-align: right;\">\n",
       "      <th></th>\n",
       "      <th>valor</th>\n",
       "      <th>mes</th>\n",
       "      <th>dia_inicial</th>\n",
       "      <th>final</th>\n",
       "      <th>año</th>\n",
       "      <th>fecha_inicial</th>\n",
       "      <th>fecha_final</th>\n",
       "    </tr>\n",
       "  </thead>\n",
       "  <tbody>\n",
       "    <tr>\n",
       "      <th>0</th>\n",
       "      <td>4037.19</td>\n",
       "      <td>11</td>\n",
       "      <td>11</td>\n",
       "      <td>14</td>\n",
       "      <td>2023</td>\n",
       "      <td>2023-11-11</td>\n",
       "      <td>2023-11-14</td>\n",
       "    </tr>\n",
       "    <tr>\n",
       "      <th>1</th>\n",
       "      <td>4056.94</td>\n",
       "      <td>11</td>\n",
       "      <td>10</td>\n",
       "      <td>10</td>\n",
       "      <td>2023</td>\n",
       "      <td>2023-11-10</td>\n",
       "      <td>2023-11-10</td>\n",
       "    </tr>\n",
       "    <tr>\n",
       "      <th>2</th>\n",
       "      <td>4065.79</td>\n",
       "      <td>11</td>\n",
       "      <td>09</td>\n",
       "      <td>09</td>\n",
       "      <td>2023</td>\n",
       "      <td>2023-11-09</td>\n",
       "      <td>2023-11-09</td>\n",
       "    </tr>\n",
       "    <tr>\n",
       "      <th>3</th>\n",
       "      <td>4005.06</td>\n",
       "      <td>11</td>\n",
       "      <td>08</td>\n",
       "      <td>08</td>\n",
       "      <td>2023</td>\n",
       "      <td>2023-11-08</td>\n",
       "      <td>2023-11-08</td>\n",
       "    </tr>\n",
       "    <tr>\n",
       "      <th>4</th>\n",
       "      <td>3975.09</td>\n",
       "      <td>11</td>\n",
       "      <td>04</td>\n",
       "      <td>07</td>\n",
       "      <td>2023</td>\n",
       "      <td>2023-11-04</td>\n",
       "      <td>2023-11-07</td>\n",
       "    </tr>\n",
       "    <tr>\n",
       "      <th>...</th>\n",
       "      <td>...</td>\n",
       "      <td>...</td>\n",
       "      <td>...</td>\n",
       "      <td>...</td>\n",
       "      <td>...</td>\n",
       "      <td>...</td>\n",
       "      <td>...</td>\n",
       "    </tr>\n",
       "    <tr>\n",
       "      <th>1995</th>\n",
       "      <td>2531.72</td>\n",
       "      <td>06</td>\n",
       "      <td>17</td>\n",
       "      <td>17</td>\n",
       "      <td>2015</td>\n",
       "      <td>2015-06-17</td>\n",
       "      <td>2015-06-17</td>\n",
       "    </tr>\n",
       "    <tr>\n",
       "      <th>1996</th>\n",
       "      <td>2535.91</td>\n",
       "      <td>06</td>\n",
       "      <td>13</td>\n",
       "      <td>16</td>\n",
       "      <td>2015</td>\n",
       "      <td>2015-06-13</td>\n",
       "      <td>2015-06-16</td>\n",
       "    </tr>\n",
       "    <tr>\n",
       "      <th>1997</th>\n",
       "      <td>2538.55</td>\n",
       "      <td>06</td>\n",
       "      <td>12</td>\n",
       "      <td>12</td>\n",
       "      <td>2015</td>\n",
       "      <td>2015-06-12</td>\n",
       "      <td>2015-06-12</td>\n",
       "    </tr>\n",
       "    <tr>\n",
       "      <th>1998</th>\n",
       "      <td>2523</td>\n",
       "      <td>06</td>\n",
       "      <td>11</td>\n",
       "      <td>11</td>\n",
       "      <td>2015</td>\n",
       "      <td>2015-06-11</td>\n",
       "      <td>2015-06-11</td>\n",
       "    </tr>\n",
       "    <tr>\n",
       "      <th>1999</th>\n",
       "      <td>2569.17</td>\n",
       "      <td>06</td>\n",
       "      <td>10</td>\n",
       "      <td>10</td>\n",
       "      <td>2015</td>\n",
       "      <td>2015-06-10</td>\n",
       "      <td>2015-06-10</td>\n",
       "    </tr>\n",
       "  </tbody>\n",
       "</table>\n",
       "<p>2000 rows × 7 columns</p>\n",
       "</div>"
      ],
      "text/plain": [
       "        valor mes dia_inicial final   año fecha_inicial fecha_final\n",
       "0     4037.19  11          11    14  2023    2023-11-11  2023-11-14\n",
       "1     4056.94  11          10    10  2023    2023-11-10  2023-11-10\n",
       "2     4065.79  11          09    09  2023    2023-11-09  2023-11-09\n",
       "3     4005.06  11          08    08  2023    2023-11-08  2023-11-08\n",
       "4     3975.09  11          04    07  2023    2023-11-04  2023-11-07\n",
       "...       ...  ..         ...   ...   ...           ...         ...\n",
       "1995  2531.72  06          17    17  2015    2015-06-17  2015-06-17\n",
       "1996  2535.91  06          13    16  2015    2015-06-13  2015-06-16\n",
       "1997  2538.55  06          12    12  2015    2015-06-12  2015-06-12\n",
       "1998     2523  06          11    11  2015    2015-06-11  2015-06-11\n",
       "1999  2569.17  06          10    10  2015    2015-06-10  2015-06-10\n",
       "\n",
       "[2000 rows x 7 columns]"
      ]
     },
     "execution_count": 16,
     "metadata": {},
     "output_type": "execute_result"
    }
   ],
   "source": [
    "trmFiltered"
   ]
  },
  {
   "cell_type": "markdown",
   "id": "a55b54eb-ab11-4633-9459-70512f811c2b",
   "metadata": {},
   "source": [
    "# Dataframe filtrado y restringido al gobierno actual (Gustavo Petro)"
   ]
  },
  {
   "cell_type": "code",
   "execution_count": 17,
   "id": "1997ee78-69bf-4d4c-a5d8-7940cc939a12",
   "metadata": {
    "tags": []
   },
   "outputs": [
    {
     "data": {
      "text/html": [
       "<div>\n",
       "<style scoped>\n",
       "    .dataframe tbody tr th:only-of-type {\n",
       "        vertical-align: middle;\n",
       "    }\n",
       "\n",
       "    .dataframe tbody tr th {\n",
       "        vertical-align: top;\n",
       "    }\n",
       "\n",
       "    .dataframe thead th {\n",
       "        text-align: right;\n",
       "    }\n",
       "</style>\n",
       "<table border=\"1\" class=\"dataframe\">\n",
       "  <thead>\n",
       "    <tr style=\"text-align: right;\">\n",
       "      <th></th>\n",
       "      <th>valor</th>\n",
       "      <th>mes</th>\n",
       "      <th>dia_inicial</th>\n",
       "      <th>final</th>\n",
       "      <th>año</th>\n",
       "      <th>fecha_inicial</th>\n",
       "      <th>fecha_final</th>\n",
       "    </tr>\n",
       "  </thead>\n",
       "  <tbody>\n",
       "    <tr>\n",
       "      <th>0</th>\n",
       "      <td>4037.19</td>\n",
       "      <td>11</td>\n",
       "      <td>11</td>\n",
       "      <td>14</td>\n",
       "      <td>2023</td>\n",
       "      <td>2023-11-11</td>\n",
       "      <td>2023-11-14</td>\n",
       "    </tr>\n",
       "    <tr>\n",
       "      <th>1</th>\n",
       "      <td>4056.94</td>\n",
       "      <td>11</td>\n",
       "      <td>10</td>\n",
       "      <td>10</td>\n",
       "      <td>2023</td>\n",
       "      <td>2023-11-10</td>\n",
       "      <td>2023-11-10</td>\n",
       "    </tr>\n",
       "    <tr>\n",
       "      <th>2</th>\n",
       "      <td>4065.79</td>\n",
       "      <td>11</td>\n",
       "      <td>09</td>\n",
       "      <td>09</td>\n",
       "      <td>2023</td>\n",
       "      <td>2023-11-09</td>\n",
       "      <td>2023-11-09</td>\n",
       "    </tr>\n",
       "    <tr>\n",
       "      <th>3</th>\n",
       "      <td>4005.06</td>\n",
       "      <td>11</td>\n",
       "      <td>08</td>\n",
       "      <td>08</td>\n",
       "      <td>2023</td>\n",
       "      <td>2023-11-08</td>\n",
       "      <td>2023-11-08</td>\n",
       "    </tr>\n",
       "    <tr>\n",
       "      <th>4</th>\n",
       "      <td>3975.09</td>\n",
       "      <td>11</td>\n",
       "      <td>04</td>\n",
       "      <td>07</td>\n",
       "      <td>2023</td>\n",
       "      <td>2023-11-04</td>\n",
       "      <td>2023-11-07</td>\n",
       "    </tr>\n",
       "    <tr>\n",
       "      <th>...</th>\n",
       "      <td>...</td>\n",
       "      <td>...</td>\n",
       "      <td>...</td>\n",
       "      <td>...</td>\n",
       "      <td>...</td>\n",
       "      <td>...</td>\n",
       "      <td>...</td>\n",
       "    </tr>\n",
       "    <tr>\n",
       "      <th>294</th>\n",
       "      <td>4231.45</td>\n",
       "      <td>08</td>\n",
       "      <td>12</td>\n",
       "      <td>12</td>\n",
       "      <td>2022</td>\n",
       "      <td>2022-08-12</td>\n",
       "      <td>2022-08-12</td>\n",
       "    </tr>\n",
       "    <tr>\n",
       "      <th>295</th>\n",
       "      <td>4273.82</td>\n",
       "      <td>08</td>\n",
       "      <td>11</td>\n",
       "      <td>11</td>\n",
       "      <td>2022</td>\n",
       "      <td>2022-08-11</td>\n",
       "      <td>2022-08-11</td>\n",
       "    </tr>\n",
       "    <tr>\n",
       "      <th>296</th>\n",
       "      <td>4309.69</td>\n",
       "      <td>08</td>\n",
       "      <td>10</td>\n",
       "      <td>10</td>\n",
       "      <td>2022</td>\n",
       "      <td>2022-08-10</td>\n",
       "      <td>2022-08-10</td>\n",
       "    </tr>\n",
       "    <tr>\n",
       "      <th>297</th>\n",
       "      <td>4307.09</td>\n",
       "      <td>08</td>\n",
       "      <td>09</td>\n",
       "      <td>09</td>\n",
       "      <td>2022</td>\n",
       "      <td>2022-08-09</td>\n",
       "      <td>2022-08-09</td>\n",
       "    </tr>\n",
       "    <tr>\n",
       "      <th>298</th>\n",
       "      <td>4337.28</td>\n",
       "      <td>08</td>\n",
       "      <td>06</td>\n",
       "      <td>08</td>\n",
       "      <td>2022</td>\n",
       "      <td>2022-08-06</td>\n",
       "      <td>2022-08-08</td>\n",
       "    </tr>\n",
       "  </tbody>\n",
       "</table>\n",
       "<p>299 rows × 7 columns</p>\n",
       "</div>"
      ],
      "text/plain": [
       "       valor mes dia_inicial final   año fecha_inicial fecha_final\n",
       "0    4037.19  11          11    14  2023    2023-11-11  2023-11-14\n",
       "1    4056.94  11          10    10  2023    2023-11-10  2023-11-10\n",
       "2    4065.79  11          09    09  2023    2023-11-09  2023-11-09\n",
       "3    4005.06  11          08    08  2023    2023-11-08  2023-11-08\n",
       "4    3975.09  11          04    07  2023    2023-11-04  2023-11-07\n",
       "..       ...  ..         ...   ...   ...           ...         ...\n",
       "294  4231.45  08          12    12  2022    2022-08-12  2022-08-12\n",
       "295  4273.82  08          11    11  2022    2022-08-11  2022-08-11\n",
       "296  4309.69  08          10    10  2022    2022-08-10  2022-08-10\n",
       "297  4307.09  08          09    09  2022    2022-08-09  2022-08-09\n",
       "298  4337.28  08          06    08  2022    2022-08-06  2022-08-08\n",
       "\n",
       "[299 rows x 7 columns]"
      ]
     },
     "execution_count": 17,
     "metadata": {},
     "output_type": "execute_result"
    }
   ],
   "source": [
    "gobierno_petro=pd.Timestamp('2022-08-06')\n",
    "trm_petro=trmFiltered.loc[trmFiltered['fecha_inicial']>=gobierno_petro]\n",
    "trm_petro"
   ]
  },
  {
   "cell_type": "code",
   "execution_count": 18,
   "id": "0a39b8d3-4b03-409c-a483-8dcc65d551e0",
   "metadata": {
    "tags": []
   },
   "outputs": [],
   "source": [
    "trm_petro['año'] = trm_petro['año'].astype(int)\n",
    "trm_petro['valor']=trm_petro['valor'].astype(float)"
   ]
  },
  {
   "cell_type": "code",
   "execution_count": 19,
   "id": "61c68920-9b4d-49e9-80dd-4e7dd54dc0bf",
   "metadata": {
    "tags": []
   },
   "outputs": [
    {
     "data": {
      "text/plain": [
       "dtype('int32')"
      ]
     },
     "execution_count": 19,
     "metadata": {},
     "output_type": "execute_result"
    }
   ],
   "source": [
    "trm_petro['año'].dtype"
   ]
  },
  {
   "cell_type": "code",
   "execution_count": 20,
   "id": "2e21774a-4175-4842-b7f7-d98843049329",
   "metadata": {
    "tags": []
   },
   "outputs": [
    {
     "data": {
      "text/plain": [
       "dtype('float64')"
      ]
     },
     "execution_count": 20,
     "metadata": {},
     "output_type": "execute_result"
    }
   ],
   "source": [
    "trm_petro['valor'].dtype"
   ]
  },
  {
   "cell_type": "markdown",
   "id": "78825e95-c175-415e-9864-d1cf83e30ac9",
   "metadata": {},
   "source": [
    "# Raincloud plot para las distribuciones de los datos de la TRM durante el periodo del gobierno Petro \n",
    "Se observan distrubuciones bimodales para lo transcurrido del año 2022 y lo transcurrido del año 2023"
   ]
  },
  {
   "cell_type": "code",
   "execution_count": 21,
   "id": "f8a3ac5d-fbb2-4b24-9e7f-d86a989bf9ae",
   "metadata": {
    "tags": []
   },
   "outputs": [
    {
     "data": {
      "image/png": "[encoded data removed]",
      "text/plain": [
       "<Figure size 700x500 with 1 Axes>"
      ]
     },
     "metadata": {},
     "output_type": "display_data"
    }
   ],
   "source": [
    "f, ax=plt.subplots(figsize=(7,5))\n",
    "dy=\"año\"; dx=\"valor\"; ort=\"h\";pal=\"Set1\"\n",
    "\n",
    "ax=pt.half_violinplot(x=dx,y=dy,data=trm_petro,palette=pal,bw=.6,cut=0.,scale=\"area\",width= .6,inner=None,orient=ort)\n",
    "\n",
    "ax=sns.stripplot( x = dx, y = dy, data =trm_petro, palette = pal,\n",
    " edgecolor = \"white\", size = 3, jitter = 1, zorder = 0,\n",
    " orient = ort)\n",
    "ax=sns.boxplot( x = dx, y = dy, data = trm_petro, color = \"black\", \n",
    " width = .15, zorder = 10, showcaps = True,\n",
    " boxprops = {'facecolor':'none', \"zorder\":10}, showfliers=True,\n",
    " whiskerprops = {'linewidth':2, \"zorder\":10},\n",
    " saturation = 1, orient = ort)"
   ]
  },
  {
   "cell_type": "code",
   "execution_count": 22,
   "id": "c82376dd-0895-48ad-b34b-4f008998badb",
   "metadata": {
    "tags": []
   },
   "outputs": [
    {
     "data": {
      "image/png": "[encoded data removed]",
      "text/plain": [
       "<Figure size 700x500 with 1 Axes>"
      ]
     },
     "metadata": {},
     "output_type": "display_data"
    }
   ],
   "source": [
    "f, ax = plt.subplots(figsize=(7, 5))\n",
    "\n",
    "dy = \"año\"\n",
    "dx = \"valor\"\n",
    "ort = \"h\"\n",
    "pal = \"Set1\"\n",
    "\n",
    "# Dibujo del violinplot, stripplot y boxplot\n",
    "pt.half_violinplot(x=dx, y=dy, data=trm_petro, palette=pal, bw=.6, cut=0., scale=\"area\", width=.6, inner=None, orient=ort, ax=ax)\n",
    "sns.stripplot(x=dx, y=dy, data=trm_petro, palette=pal, edgecolor=\"white\", size=3, jitter=1, zorder=0, orient=ort, ax=ax)\n",
    "sns.boxplot(x=dx, y=dy, data=trm_petro, color=\"black\", width=.15, zorder=10, showcaps=True, boxprops={'facecolor': 'none', \"zorder\": 10}, \n",
    "            showfliers=True, whiskerprops={'linewidth': 2, \"zorder\": 10}, saturation=1, orient=ort, showmeans=True, meanprops={\"marker\":\"o\", \"markerfacecolor\":\"green\", \"markeredgecolor\":\"black\"}, ax=ax)\n",
    "\n",
    "# Mostrar la trama\n",
    "plt.savefig(\"trm.png\")\n",
    "plt.show()\n"
   ]
  },
  {
   "cell_type": "code",
   "execution_count": 23,
   "id": "0e812824-9e95-4ab0-98b5-0461862138fe",
   "metadata": {
    "tags": []
   },
   "outputs": [
    {
     "data": {
      "text/plain": [
       "count     299.000000\n",
       "mean     4459.964281\n",
       "std       314.008112\n",
       "min      3898.480000\n",
       "25%      4169.240000\n",
       "50%      4480.100000\n",
       "75%      4755.355000\n",
       "max      5061.210000\n",
       "Name: valor, dtype: float64"
      ]
     },
     "execution_count": 23,
     "metadata": {},
     "output_type": "execute_result"
    }
   ],
   "source": [
    "trm_petro['valor'].describe()"
   ]
  },
  {
   "cell_type": "markdown",
   "id": "9c073684-766a-4874-b330-df40624a50f6",
   "metadata": {},
   "source": [
    "# Función para el cálculo del precio por unidad de una prenda (ropa deportiva) teniendo en cuenta la variación porcentual de la TRM durante lo transcurrido del Gobierno Petro"
   ]
  },
  {
   "cell_type": "code",
   "execution_count": 28,
   "id": "5ae20108-fe68-4318-97e1-1bbc766d6b95",
   "metadata": {
    "tags": []
   },
   "outputs": [],
   "source": [
    "def uprice(uc,lc):\n",
    "    up=(uc+lc)*(1+(2*trm_petro['valor'].std()/trm_petro['valor'].mean()))+0.02*uc\n",
    "    return up"
   ]
  },
  {
   "cell_type": "code",
   "execution_count": 30,
   "id": "e84bd3b5-63bc-4adf-8d36-159df7f7623d",
   "metadata": {
    "tags": []
   },
   "outputs": [
    {
     "data": {
      "text/plain": [
       "52937.34925012737"
      ]
     },
     "execution_count": 30,
     "metadata": {},
     "output_type": "execute_result"
    }
   ],
   "source": [
    "uprice(23000,23000)"
   ]
  },
  {
   "cell_type": "code",
   "execution_count": null,
   "id": "e7833692-7594-4503-8534-65875b95a166",
   "metadata": {},
   "outputs": [],
   "source": []
  }
 ],
 "metadata": {
  "kernelspec": {
   "display_name": "Python 3 (ipykernel)",
   "language": "python",
   "name": "python3"
  },
  "language_info": {
   "codemirror_mode": {
    "name": "ipython",
    "version": 3
   },
   "file_extension": ".py",
   "mimetype": "text/x-python",
   "name": "python",
   "nbconvert_exporter": "python",
   "pygments_lexer": "ipython3",
   "version": "3.10.7"
  }
 },
 "nbformat": 4,
 "nbformat_minor": 5
}
